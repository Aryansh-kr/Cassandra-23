{
 "cells": [
  {
   "cell_type": "code",
   "execution_count": 1,
   "id": "9f8e1c4a",
   "metadata": {
    "_cell_guid": "b1076dfc-b9ad-4769-8c92-a6c4dae69d19",
    "_uuid": "8f2839f25d086af736a60e9eeb907d3b93b6e0e5",
    "execution": {
     "iopub.execute_input": "2023-04-02T18:52:33.196572Z",
     "iopub.status.busy": "2023-04-02T18:52:33.196138Z",
     "iopub.status.idle": "2023-04-02T18:52:33.217063Z",
     "shell.execute_reply": "2023-04-02T18:52:33.215556Z"
    },
    "papermill": {
     "duration": 0.043688,
     "end_time": "2023-04-02T18:52:33.219986",
     "exception": false,
     "start_time": "2023-04-02T18:52:33.176298",
     "status": "completed"
    },
    "tags": []
   },
   "outputs": [
    {
     "name": "stdout",
     "output_type": "stream",
     "text": [
      "/kaggle/input/cassandra23-ps-2/dataset/sample_submissions.csv\n",
      "/kaggle/input/cassandra23-ps-2/dataset/train_data.csv\n",
      "/kaggle/input/cassandra23-ps-2/dataset/test_data.csv\n"
     ]
    }
   ],
   "source": [
    "# This Python 3 environment comes with many helpful analytics libraries installed\n",
    "# It is defined by the kaggle/python Docker image: https://github.com/kaggle/docker-python\n",
    "# For example, here's several helpful packages to load\n",
    "\n",
    "import numpy as np # linear algebra\n",
    "import pandas as pd # data processing, CSV file I/O (e.g. pd.read_csv)\n",
    "\n",
    "# Input data files are available in the read-only \"../input/\" directory\n",
    "# For example, running this (by clicking run or pressing Shift+Enter) will list all files under the input directory\n",
    "\n",
    "import os\n",
    "for dirname, _, filenames in os.walk('/kaggle/input'):\n",
    "    for filename in filenames:\n",
    "        print(os.path.join(dirname, filename))\n",
    "\n",
    "# You can write up to 20GB to the current directory (/kaggle/working/) that gets preserved as output when you create a version using \"Save & Run All\" \n",
    "# You can also write temporary files to /kaggle/temp/, but they won't be saved outside of the current session"
   ]
  },
  {
   "cell_type": "code",
   "execution_count": 2,
   "id": "552caed7",
   "metadata": {
    "execution": {
     "iopub.execute_input": "2023-04-02T18:52:33.255432Z",
     "iopub.status.busy": "2023-04-02T18:52:33.255029Z",
     "iopub.status.idle": "2023-04-02T18:52:35.100155Z",
     "shell.execute_reply": "2023-04-02T18:52:35.098861Z"
    },
    "papermill": {
     "duration": 1.866412,
     "end_time": "2023-04-02T18:52:35.103096",
     "exception": false,
     "start_time": "2023-04-02T18:52:33.236684",
     "status": "completed"
    },
    "tags": []
   },
   "outputs": [],
   "source": [
    "train_df=pd.read_csv(\"/kaggle/input/cassandra23-ps-2/dataset/train_data.csv\")\n",
    "test_df=pd.read_csv(\"/kaggle/input/cassandra23-ps-2/dataset/test_data.csv\")"
   ]
  },
  {
   "cell_type": "code",
   "execution_count": 3,
   "id": "0d6613dd",
   "metadata": {
    "execution": {
     "iopub.execute_input": "2023-04-02T18:52:35.138606Z",
     "iopub.status.busy": "2023-04-02T18:52:35.137383Z",
     "iopub.status.idle": "2023-04-02T18:52:35.179973Z",
     "shell.execute_reply": "2023-04-02T18:52:35.178733Z"
    },
    "papermill": {
     "duration": 0.063954,
     "end_time": "2023-04-02T18:52:35.182876",
     "exception": false,
     "start_time": "2023-04-02T18:52:35.118922",
     "status": "completed"
    },
    "tags": []
   },
   "outputs": [
    {
     "data": {
      "text/html": [
       "<div>\n",
       "<style scoped>\n",
       "    .dataframe tbody tr th:only-of-type {\n",
       "        vertical-align: middle;\n",
       "    }\n",
       "\n",
       "    .dataframe tbody tr th {\n",
       "        vertical-align: top;\n",
       "    }\n",
       "\n",
       "    .dataframe thead th {\n",
       "        text-align: right;\n",
       "    }\n",
       "</style>\n",
       "<table border=\"1\" class=\"dataframe\">\n",
       "  <thead>\n",
       "    <tr style=\"text-align: right;\">\n",
       "      <th></th>\n",
       "      <th>UID</th>\n",
       "      <th>trip_creation_time</th>\n",
       "      <th>route_schedule_uuid</th>\n",
       "      <th>route_type</th>\n",
       "      <th>trip_uuid</th>\n",
       "      <th>source_center</th>\n",
       "      <th>source_name</th>\n",
       "      <th>destination_center</th>\n",
       "      <th>destination_name</th>\n",
       "      <th>od_start_time</th>\n",
       "      <th>...</th>\n",
       "      <th>cutoff_timestamp</th>\n",
       "      <th>actual_distance_to_destination</th>\n",
       "      <th>osrm_time</th>\n",
       "      <th>osrm_distance</th>\n",
       "      <th>factor</th>\n",
       "      <th>segment_actual_time</th>\n",
       "      <th>segment_osrm_time</th>\n",
       "      <th>segment_osrm_distance</th>\n",
       "      <th>segment_factor</th>\n",
       "      <th>actual_time</th>\n",
       "    </tr>\n",
       "  </thead>\n",
       "  <tbody>\n",
       "    <tr>\n",
       "      <th>0</th>\n",
       "      <td>lWYYrbNEdf</td>\n",
       "      <td>2018-09-15 02:23:18.656742</td>\n",
       "      <td>thanos::sroute:9d8ed3f7-a8af-4393-ad7a-c57a720...</td>\n",
       "      <td>FTL</td>\n",
       "      <td>trip-153697819865649878</td>\n",
       "      <td>IND832109AAB</td>\n",
       "      <td>Jamshedpur_Central_I_3 (Jharkhand)</td>\n",
       "      <td>IND834002AAB</td>\n",
       "      <td>Ranchi_Hub (Jharkhand)</td>\n",
       "      <td>2018-09-15 02:23:18.656742</td>\n",
       "      <td>...</td>\n",
       "      <td>2018-09-15 04:45:23</td>\n",
       "      <td>158.807515</td>\n",
       "      <td>778.672716</td>\n",
       "      <td>1228.735753</td>\n",
       "      <td>2.782826</td>\n",
       "      <td>77.988686</td>\n",
       "      <td>20.793472</td>\n",
       "      <td>28.475783</td>\n",
       "      <td>3.292773</td>\n",
       "      <td>100.0</td>\n",
       "    </tr>\n",
       "    <tr>\n",
       "      <th>1</th>\n",
       "      <td>iNJcHQlPCm</td>\n",
       "      <td>2018-09-30 15:07:48.971326</td>\n",
       "      <td>thanos::sroute:b9142a73-d68f-46ec-9afc-d145479...</td>\n",
       "      <td>FTL</td>\n",
       "      <td>trip-153832006897106333</td>\n",
       "      <td>IND422011AAD</td>\n",
       "      <td>Nashik_TgrniaRD_I (Maharashtra)</td>\n",
       "      <td>IND421302AAG</td>\n",
       "      <td>Bhiwandi_Mankoli_HB (Maharashtra)</td>\n",
       "      <td>2018-09-30 22:38:13.903069</td>\n",
       "      <td>...</td>\n",
       "      <td>2018-10-01 05:38:30</td>\n",
       "      <td>81.388109</td>\n",
       "      <td>227.479029</td>\n",
       "      <td>NaN</td>\n",
       "      <td>3.625248</td>\n",
       "      <td>68.517914</td>\n",
       "      <td>18.787231</td>\n",
       "      <td>34.612259</td>\n",
       "      <td>4.277350</td>\n",
       "      <td>61.0</td>\n",
       "    </tr>\n",
       "    <tr>\n",
       "      <th>2</th>\n",
       "      <td>U6N0M43qwR</td>\n",
       "      <td>2018-09-23 22:15:46.635975</td>\n",
       "      <td>thanos::sroute:883e99fa-50a3-40e0-a2e2-9b12ed6...</td>\n",
       "      <td>FTL</td>\n",
       "      <td>trip-153774094663572416</td>\n",
       "      <td>IND845305AAA</td>\n",
       "      <td>Raxaul_KairiyaT_D (Bihar)</td>\n",
       "      <td>NaN</td>\n",
       "      <td>Muzaffrpur_Bbganj_I (Bihar)</td>\n",
       "      <td>2018-09-24 03:56:37.016232</td>\n",
       "      <td>...</td>\n",
       "      <td>2018-09-24 09:21:30</td>\n",
       "      <td>134.486898</td>\n",
       "      <td>400.072069</td>\n",
       "      <td>1188.943158</td>\n",
       "      <td>4.415969</td>\n",
       "      <td>70.475386</td>\n",
       "      <td>24.371978</td>\n",
       "      <td>29.867950</td>\n",
       "      <td>5.322072</td>\n",
       "      <td>69.0</td>\n",
       "    </tr>\n",
       "    <tr>\n",
       "      <th>3</th>\n",
       "      <td>RrJUneuYNj</td>\n",
       "      <td>2018-09-21 05:11:44.833176</td>\n",
       "      <td>thanos::sroute:96a80600-40e1-436b-9161-fa68f9e...</td>\n",
       "      <td>FTL</td>\n",
       "      <td>trip-153750670483274503</td>\n",
       "      <td>IND842001AAA</td>\n",
       "      <td>Muzaffrpur_Bbganj_I (Bihar)</td>\n",
       "      <td>IND854326AAB</td>\n",
       "      <td>Purnia_Central_H_2 (Bihar)</td>\n",
       "      <td>2018-09-22 10:08:32.593022</td>\n",
       "      <td>...</td>\n",
       "      <td>2018-09-22 14:09:17</td>\n",
       "      <td>262.866674</td>\n",
       "      <td>510.123878</td>\n",
       "      <td>999.421258</td>\n",
       "      <td>2.946647</td>\n",
       "      <td>101.876844</td>\n",
       "      <td>19.588977</td>\n",
       "      <td>27.794019</td>\n",
       "      <td>4.265799</td>\n",
       "      <td>300.0</td>\n",
       "    </tr>\n",
       "    <tr>\n",
       "      <th>4</th>\n",
       "      <td>7QLdD7iRC9</td>\n",
       "      <td>2018-09-18 01:10:49.936747</td>\n",
       "      <td>thanos::sroute:b43ec86d-59c1-452c-b4a9-807d357...</td>\n",
       "      <td>FTL</td>\n",
       "      <td>trip-153723305402762987</td>\n",
       "      <td>IND411033AAA</td>\n",
       "      <td>Pune_Tathawde_H (Maharashtra)</td>\n",
       "      <td>IND501359AAE</td>\n",
       "      <td>Hyderabad_Shamshbd_H (Telangana)</td>\n",
       "      <td>2018-09-18 01:10:49.936747</td>\n",
       "      <td>...</td>\n",
       "      <td>2018-09-18 12:14:05</td>\n",
       "      <td>379.389280</td>\n",
       "      <td>NaN</td>\n",
       "      <td>NaN</td>\n",
       "      <td>1.998790</td>\n",
       "      <td>46.571301</td>\n",
       "      <td>22.671495</td>\n",
       "      <td>26.971844</td>\n",
       "      <td>3.553652</td>\n",
       "      <td>286.0</td>\n",
       "    </tr>\n",
       "  </tbody>\n",
       "</table>\n",
       "<p>5 rows × 24 columns</p>\n",
       "</div>"
      ],
      "text/plain": [
       "          UID          trip_creation_time  \\\n",
       "0  lWYYrbNEdf  2018-09-15 02:23:18.656742   \n",
       "1  iNJcHQlPCm  2018-09-30 15:07:48.971326   \n",
       "2  U6N0M43qwR  2018-09-23 22:15:46.635975   \n",
       "3  RrJUneuYNj  2018-09-21 05:11:44.833176   \n",
       "4  7QLdD7iRC9  2018-09-18 01:10:49.936747   \n",
       "\n",
       "                                 route_schedule_uuid route_type  \\\n",
       "0  thanos::sroute:9d8ed3f7-a8af-4393-ad7a-c57a720...        FTL   \n",
       "1  thanos::sroute:b9142a73-d68f-46ec-9afc-d145479...        FTL   \n",
       "2  thanos::sroute:883e99fa-50a3-40e0-a2e2-9b12ed6...        FTL   \n",
       "3  thanos::sroute:96a80600-40e1-436b-9161-fa68f9e...        FTL   \n",
       "4  thanos::sroute:b43ec86d-59c1-452c-b4a9-807d357...        FTL   \n",
       "\n",
       "                 trip_uuid source_center                         source_name  \\\n",
       "0  trip-153697819865649878  IND832109AAB  Jamshedpur_Central_I_3 (Jharkhand)   \n",
       "1  trip-153832006897106333  IND422011AAD     Nashik_TgrniaRD_I (Maharashtra)   \n",
       "2  trip-153774094663572416  IND845305AAA           Raxaul_KairiyaT_D (Bihar)   \n",
       "3  trip-153750670483274503  IND842001AAA         Muzaffrpur_Bbganj_I (Bihar)   \n",
       "4  trip-153723305402762987  IND411033AAA       Pune_Tathawde_H (Maharashtra)   \n",
       "\n",
       "  destination_center                   destination_name  \\\n",
       "0       IND834002AAB             Ranchi_Hub (Jharkhand)   \n",
       "1       IND421302AAG  Bhiwandi_Mankoli_HB (Maharashtra)   \n",
       "2                NaN        Muzaffrpur_Bbganj_I (Bihar)   \n",
       "3       IND854326AAB         Purnia_Central_H_2 (Bihar)   \n",
       "4       IND501359AAE   Hyderabad_Shamshbd_H (Telangana)   \n",
       "\n",
       "                od_start_time  ...     cutoff_timestamp  \\\n",
       "0  2018-09-15 02:23:18.656742  ...  2018-09-15 04:45:23   \n",
       "1  2018-09-30 22:38:13.903069  ...  2018-10-01 05:38:30   \n",
       "2  2018-09-24 03:56:37.016232  ...  2018-09-24 09:21:30   \n",
       "3  2018-09-22 10:08:32.593022  ...  2018-09-22 14:09:17   \n",
       "4  2018-09-18 01:10:49.936747  ...  2018-09-18 12:14:05   \n",
       "\n",
       "   actual_distance_to_destination   osrm_time  osrm_distance    factor  \\\n",
       "0                      158.807515  778.672716    1228.735753  2.782826   \n",
       "1                       81.388109  227.479029            NaN  3.625248   \n",
       "2                      134.486898  400.072069    1188.943158  4.415969   \n",
       "3                      262.866674  510.123878     999.421258  2.946647   \n",
       "4                      379.389280         NaN            NaN  1.998790   \n",
       "\n",
       "   segment_actual_time  segment_osrm_time  segment_osrm_distance  \\\n",
       "0            77.988686          20.793472              28.475783   \n",
       "1            68.517914          18.787231              34.612259   \n",
       "2            70.475386          24.371978              29.867950   \n",
       "3           101.876844          19.588977              27.794019   \n",
       "4            46.571301          22.671495              26.971844   \n",
       "\n",
       "   segment_factor  actual_time  \n",
       "0        3.292773        100.0  \n",
       "1        4.277350         61.0  \n",
       "2        5.322072         69.0  \n",
       "3        4.265799        300.0  \n",
       "4        3.553652        286.0  \n",
       "\n",
       "[5 rows x 24 columns]"
      ]
     },
     "execution_count": 3,
     "metadata": {},
     "output_type": "execute_result"
    }
   ],
   "source": [
    "train_df.head()"
   ]
  },
  {
   "cell_type": "code",
   "execution_count": 4,
   "id": "d5fa02b6",
   "metadata": {
    "execution": {
     "iopub.execute_input": "2023-04-02T18:52:35.217532Z",
     "iopub.status.busy": "2023-04-02T18:52:35.217126Z",
     "iopub.status.idle": "2023-04-02T18:52:35.270031Z",
     "shell.execute_reply": "2023-04-02T18:52:35.268753Z"
    },
    "papermill": {
     "duration": 0.073054,
     "end_time": "2023-04-02T18:52:35.272557",
     "exception": false,
     "start_time": "2023-04-02T18:52:35.199503",
     "status": "completed"
    },
    "tags": []
   },
   "outputs": [
    {
     "data": {
      "text/plain": [
       "UID                                   0\n",
       "trip_creation_time                 3515\n",
       "route_schedule_uuid                2895\n",
       "route_type                            0\n",
       "trip_uuid                             0\n",
       "source_center                         0\n",
       "source_name                           0\n",
       "destination_center                  803\n",
       "destination_name                      0\n",
       "od_start_time                         0\n",
       "od_end_time                         720\n",
       "start_scan_to_end_scan                0\n",
       "is_cutoff                             0\n",
       "cutoff_factor                         0\n",
       "cutoff_timestamp                    930\n",
       "actual_distance_to_destination        0\n",
       "osrm_time                         14432\n",
       "osrm_distance                     14432\n",
       "factor                             1644\n",
       "segment_actual_time                   0\n",
       "segment_osrm_time                     0\n",
       "segment_osrm_distance                 0\n",
       "segment_factor                     1159\n",
       "actual_time                           0\n",
       "dtype: int64"
      ]
     },
     "execution_count": 4,
     "metadata": {},
     "output_type": "execute_result"
    }
   ],
   "source": [
    "train_df.isnull().sum()"
   ]
  },
  {
   "cell_type": "code",
   "execution_count": 5,
   "id": "4283c8c6",
   "metadata": {
    "execution": {
     "iopub.execute_input": "2023-04-02T18:52:35.308249Z",
     "iopub.status.busy": "2023-04-02T18:52:35.307012Z",
     "iopub.status.idle": "2023-04-02T18:52:35.321601Z",
     "shell.execute_reply": "2023-04-02T18:52:35.320707Z"
    },
    "papermill": {
     "duration": 0.034977,
     "end_time": "2023-04-02T18:52:35.323980",
     "exception": false,
     "start_time": "2023-04-02T18:52:35.289003",
     "status": "completed"
    },
    "tags": []
   },
   "outputs": [
    {
     "data": {
      "text/plain": [
       "72158"
      ]
     },
     "execution_count": 5,
     "metadata": {},
     "output_type": "execute_result"
    }
   ],
   "source": [
    "train_df['UID'].count()"
   ]
  },
  {
   "cell_type": "code",
   "execution_count": 6,
   "id": "fb3fc30b",
   "metadata": {
    "execution": {
     "iopub.execute_input": "2023-04-02T18:52:35.359832Z",
     "iopub.status.busy": "2023-04-02T18:52:35.358800Z",
     "iopub.status.idle": "2023-04-02T18:52:36.450193Z",
     "shell.execute_reply": "2023-04-02T18:52:36.448992Z"
    },
    "papermill": {
     "duration": 1.11239,
     "end_time": "2023-04-02T18:52:36.453215",
     "exception": false,
     "start_time": "2023-04-02T18:52:35.340825",
     "status": "completed"
    },
    "tags": []
   },
   "outputs": [],
   "source": [
    "import seaborn as sns"
   ]
  },
  {
   "cell_type": "code",
   "execution_count": 7,
   "id": "a94fce12",
   "metadata": {
    "execution": {
     "iopub.execute_input": "2023-04-02T18:52:36.487816Z",
     "iopub.status.busy": "2023-04-02T18:52:36.487341Z",
     "iopub.status.idle": "2023-04-02T18:52:37.007828Z",
     "shell.execute_reply": "2023-04-02T18:52:37.006424Z"
    },
    "papermill": {
     "duration": 0.541219,
     "end_time": "2023-04-02T18:52:37.010852",
     "exception": false,
     "start_time": "2023-04-02T18:52:36.469633",
     "status": "completed"
    },
    "tags": []
   },
   "outputs": [
    {
     "data": {
      "text/plain": [
       "<AxesSubplot:>"
      ]
     },
     "execution_count": 7,
     "metadata": {},
     "output_type": "execute_result"
    },
    {
     "data": {
      "image/png": "[encoded data removed]",
      "text/plain": [
       "<Figure size 640x480 with 2 Axes>"
      ]
     },
     "metadata": {},
     "output_type": "display_data"
    }
   ],
   "source": [
    "sns.heatmap(train_df.corr(),cmap='coolwarm')"
   ]
  },
  {
   "cell_type": "code",
   "execution_count": 8,
   "id": "a94e16aa",
   "metadata": {
    "execution": {
     "iopub.execute_input": "2023-04-02T18:52:37.048456Z",
     "iopub.status.busy": "2023-04-02T18:52:37.048024Z",
     "iopub.status.idle": "2023-04-02T18:52:37.135532Z",
     "shell.execute_reply": "2023-04-02T18:52:37.134562Z"
    },
    "papermill": {
     "duration": 0.109283,
     "end_time": "2023-04-02T18:52:37.137968",
     "exception": false,
     "start_time": "2023-04-02T18:52:37.028685",
     "status": "completed"
    },
    "tags": []
   },
   "outputs": [
    {
     "data": {
      "text/html": [
       "<div>\n",
       "<style scoped>\n",
       "    .dataframe tbody tr th:only-of-type {\n",
       "        vertical-align: middle;\n",
       "    }\n",
       "\n",
       "    .dataframe tbody tr th {\n",
       "        vertical-align: top;\n",
       "    }\n",
       "\n",
       "    .dataframe thead th {\n",
       "        text-align: right;\n",
       "    }\n",
       "</style>\n",
       "<table border=\"1\" class=\"dataframe\">\n",
       "  <thead>\n",
       "    <tr style=\"text-align: right;\">\n",
       "      <th></th>\n",
       "      <th>start_scan_to_end_scan</th>\n",
       "      <th>cutoff_factor</th>\n",
       "      <th>actual_distance_to_destination</th>\n",
       "      <th>osrm_time</th>\n",
       "      <th>osrm_distance</th>\n",
       "      <th>factor</th>\n",
       "      <th>segment_actual_time</th>\n",
       "      <th>segment_osrm_time</th>\n",
       "      <th>segment_osrm_distance</th>\n",
       "      <th>segment_factor</th>\n",
       "      <th>actual_time</th>\n",
       "    </tr>\n",
       "  </thead>\n",
       "  <tbody>\n",
       "    <tr>\n",
       "      <th>count</th>\n",
       "      <td>72158.000000</td>\n",
       "      <td>72158.000000</td>\n",
       "      <td>72158.000000</td>\n",
       "      <td>57726.000000</td>\n",
       "      <td>57726.000000</td>\n",
       "      <td>70514.000000</td>\n",
       "      <td>72158.000000</td>\n",
       "      <td>72158.000000</td>\n",
       "      <td>72158.000000</td>\n",
       "      <td>70999.000000</td>\n",
       "      <td>72158.000000</td>\n",
       "    </tr>\n",
       "    <tr>\n",
       "      <th>mean</th>\n",
       "      <td>1191.604676</td>\n",
       "      <td>233.406344</td>\n",
       "      <td>301.826483</td>\n",
       "      <td>645.031637</td>\n",
       "      <td>869.045744</td>\n",
       "      <td>2.559982</td>\n",
       "      <td>46.551549</td>\n",
       "      <td>22.444871</td>\n",
       "      <td>27.692491</td>\n",
       "      <td>3.002839</td>\n",
       "      <td>418.200934</td>\n",
       "    </tr>\n",
       "    <tr>\n",
       "      <th>std</th>\n",
       "      <td>1053.164936</td>\n",
       "      <td>345.952914</td>\n",
       "      <td>349.694923</td>\n",
       "      <td>420.347151</td>\n",
       "      <td>572.612453</td>\n",
       "      <td>1.739212</td>\n",
       "      <td>54.395587</td>\n",
       "      <td>16.182091</td>\n",
       "      <td>19.902876</td>\n",
       "      <td>4.423817</td>\n",
       "      <td>600.323169</td>\n",
       "    </tr>\n",
       "    <tr>\n",
       "      <th>min</th>\n",
       "      <td>32.280981</td>\n",
       "      <td>9.000000</td>\n",
       "      <td>9.135918</td>\n",
       "      <td>20.768357</td>\n",
       "      <td>14.965570</td>\n",
       "      <td>0.299470</td>\n",
       "      <td>-236.341748</td>\n",
       "      <td>0.003620</td>\n",
       "      <td>0.003119</td>\n",
       "      <td>-6.048567</td>\n",
       "      <td>9.000000</td>\n",
       "    </tr>\n",
       "    <tr>\n",
       "      <th>25%</th>\n",
       "      <td>390.701365</td>\n",
       "      <td>22.000000</td>\n",
       "      <td>84.076054</td>\n",
       "      <td>326.193956</td>\n",
       "      <td>431.585088</td>\n",
       "      <td>1.945478</td>\n",
       "      <td>28.407258</td>\n",
       "      <td>15.130634</td>\n",
       "      <td>17.454055</td>\n",
       "      <td>1.915661</td>\n",
       "      <td>51.000000</td>\n",
       "    </tr>\n",
       "    <tr>\n",
       "      <th>50%</th>\n",
       "      <td>727.355873</td>\n",
       "      <td>66.000000</td>\n",
       "      <td>152.478371</td>\n",
       "      <td>552.826964</td>\n",
       "      <td>742.508270</td>\n",
       "      <td>2.303918</td>\n",
       "      <td>39.147018</td>\n",
       "      <td>20.765332</td>\n",
       "      <td>27.240302</td>\n",
       "      <td>2.504303</td>\n",
       "      <td>132.000000</td>\n",
       "    </tr>\n",
       "    <tr>\n",
       "      <th>75%</th>\n",
       "      <td>1875.555264</td>\n",
       "      <td>286.000000</td>\n",
       "      <td>359.922622</td>\n",
       "      <td>868.111572</td>\n",
       "      <td>1176.440741</td>\n",
       "      <td>2.769924</td>\n",
       "      <td>52.721692</td>\n",
       "      <td>26.848582</td>\n",
       "      <td>33.697034</td>\n",
       "      <td>3.282884</td>\n",
       "      <td>513.000000</td>\n",
       "    </tr>\n",
       "    <tr>\n",
       "      <th>max</th>\n",
       "      <td>5271.669855</td>\n",
       "      <td>1914.000000</td>\n",
       "      <td>1949.210403</td>\n",
       "      <td>3186.653166</td>\n",
       "      <td>4156.700085</td>\n",
       "      <td>77.381429</td>\n",
       "      <td>3060.652522</td>\n",
       "      <td>1617.726759</td>\n",
       "      <td>2195.845793</td>\n",
       "      <td>362.559369</td>\n",
       "      <td>4154.000000</td>\n",
       "    </tr>\n",
       "  </tbody>\n",
       "</table>\n",
       "</div>"
      ],
      "text/plain": [
       "       start_scan_to_end_scan  cutoff_factor  actual_distance_to_destination  \\\n",
       "count            72158.000000   72158.000000                    72158.000000   \n",
       "mean              1191.604676     233.406344                      301.826483   \n",
       "std               1053.164936     345.952914                      349.694923   \n",
       "min                 32.280981       9.000000                        9.135918   \n",
       "25%                390.701365      22.000000                       84.076054   \n",
       "50%                727.355873      66.000000                      152.478371   \n",
       "75%               1875.555264     286.000000                      359.922622   \n",
       "max               5271.669855    1914.000000                     1949.210403   \n",
       "\n",
       "          osrm_time  osrm_distance        factor  segment_actual_time  \\\n",
       "count  57726.000000   57726.000000  70514.000000         72158.000000   \n",
       "mean     645.031637     869.045744      2.559982            46.551549   \n",
       "std      420.347151     572.612453      1.739212            54.395587   \n",
       "min       20.768357      14.965570      0.299470          -236.341748   \n",
       "25%      326.193956     431.585088      1.945478            28.407258   \n",
       "50%      552.826964     742.508270      2.303918            39.147018   \n",
       "75%      868.111572    1176.440741      2.769924            52.721692   \n",
       "max     3186.653166    4156.700085     77.381429          3060.652522   \n",
       "\n",
       "       segment_osrm_time  segment_osrm_distance  segment_factor   actual_time  \n",
       "count       72158.000000           72158.000000    70999.000000  72158.000000  \n",
       "mean           22.444871              27.692491        3.002839    418.200934  \n",
       "std            16.182091              19.902876        4.423817    600.323169  \n",
       "min             0.003620               0.003119       -6.048567      9.000000  \n",
       "25%            15.130634              17.454055        1.915661     51.000000  \n",
       "50%            20.765332              27.240302        2.504303    132.000000  \n",
       "75%            26.848582              33.697034        3.282884    513.000000  \n",
       "max          1617.726759            2195.845793      362.559369   4154.000000  "
      ]
     },
     "execution_count": 8,
     "metadata": {},
     "output_type": "execute_result"
    }
   ],
   "source": [
    "train_df.describe()"
   ]
  },
  {
   "cell_type": "code",
   "execution_count": 9,
   "id": "96907962",
   "metadata": {
    "execution": {
     "iopub.execute_input": "2023-04-02T18:52:37.176655Z",
     "iopub.status.busy": "2023-04-02T18:52:37.175939Z",
     "iopub.status.idle": "2023-04-02T18:52:37.236719Z",
     "shell.execute_reply": "2023-04-02T18:52:37.235330Z"
    },
    "papermill": {
     "duration": 0.083408,
     "end_time": "2023-04-02T18:52:37.239628",
     "exception": false,
     "start_time": "2023-04-02T18:52:37.156220",
     "status": "completed"
    },
    "tags": []
   },
   "outputs": [
    {
     "name": "stdout",
     "output_type": "stream",
     "text": [
      "<class 'pandas.core.frame.DataFrame'>\n",
      "RangeIndex: 72158 entries, 0 to 72157\n",
      "Data columns (total 24 columns):\n",
      " #   Column                          Non-Null Count  Dtype  \n",
      "---  ------                          --------------  -----  \n",
      " 0   UID                             72158 non-null  object \n",
      " 1   trip_creation_time              68643 non-null  object \n",
      " 2   route_schedule_uuid             69263 non-null  object \n",
      " 3   route_type                      72158 non-null  object \n",
      " 4   trip_uuid                       72158 non-null  object \n",
      " 5   source_center                   72158 non-null  object \n",
      " 6   source_name                     72158 non-null  object \n",
      " 7   destination_center              71355 non-null  object \n",
      " 8   destination_name                72158 non-null  object \n",
      " 9   od_start_time                   72158 non-null  object \n",
      " 10  od_end_time                     71438 non-null  object \n",
      " 11  start_scan_to_end_scan          72158 non-null  float64\n",
      " 12  is_cutoff                       72158 non-null  bool   \n",
      " 13  cutoff_factor                   72158 non-null  int64  \n",
      " 14  cutoff_timestamp                71228 non-null  object \n",
      " 15  actual_distance_to_destination  72158 non-null  float64\n",
      " 16  osrm_time                       57726 non-null  float64\n",
      " 17  osrm_distance                   57726 non-null  float64\n",
      " 18  factor                          70514 non-null  float64\n",
      " 19  segment_actual_time             72158 non-null  float64\n",
      " 20  segment_osrm_time               72158 non-null  float64\n",
      " 21  segment_osrm_distance           72158 non-null  float64\n",
      " 22  segment_factor                  70999 non-null  float64\n",
      " 23  actual_time                     72158 non-null  float64\n",
      "dtypes: bool(1), float64(10), int64(1), object(12)\n",
      "memory usage: 12.7+ MB\n"
     ]
    }
   ],
   "source": [
    "train_df.info()"
   ]
  },
  {
   "cell_type": "code",
   "execution_count": 10,
   "id": "842ac976",
   "metadata": {
    "execution": {
     "iopub.execute_input": "2023-04-02T18:52:37.278594Z",
     "iopub.status.busy": "2023-04-02T18:52:37.278142Z",
     "iopub.status.idle": "2023-04-02T18:52:39.897390Z",
     "shell.execute_reply": "2023-04-02T18:52:39.896111Z"
    },
    "papermill": {
     "duration": 2.641618,
     "end_time": "2023-04-02T18:52:39.900077",
     "exception": false,
     "start_time": "2023-04-02T18:52:37.258459",
     "status": "completed"
    },
    "tags": []
   },
   "outputs": [
    {
     "data": {
      "text/plain": [
       "<AxesSubplot:>"
      ]
     },
     "execution_count": 10,
     "metadata": {},
     "output_type": "execute_result"
    },
    {
     "data": {
      "image/png": "[encoded data removed]",
      "text/plain": [
       "<Figure size 640x480 with 1 Axes>"
      ]
     },
     "metadata": {},
     "output_type": "display_data"
    }
   ],
   "source": [
    "sns.heatmap(train_df.isnull(),yticklabels=False,cbar=False,cmap='viridis')"
   ]
  },
  {
   "cell_type": "code",
   "execution_count": 11,
   "id": "758232f5",
   "metadata": {
    "execution": {
     "iopub.execute_input": "2023-04-02T18:52:39.940332Z",
     "iopub.status.busy": "2023-04-02T18:52:39.939908Z",
     "iopub.status.idle": "2023-04-02T18:52:39.994683Z",
     "shell.execute_reply": "2023-04-02T18:52:39.993497Z"
    },
    "papermill": {
     "duration": 0.077745,
     "end_time": "2023-04-02T18:52:39.997101",
     "exception": false,
     "start_time": "2023-04-02T18:52:39.919356",
     "status": "completed"
    },
    "tags": []
   },
   "outputs": [
    {
     "data": {
      "text/plain": [
       "UID                               0.000000\n",
       "trip_creation_time                0.048713\n",
       "route_schedule_uuid               0.040120\n",
       "route_type                        0.000000\n",
       "trip_uuid                         0.000000\n",
       "source_center                     0.000000\n",
       "source_name                       0.000000\n",
       "destination_center                0.011128\n",
       "destination_name                  0.000000\n",
       "od_start_time                     0.000000\n",
       "od_end_time                       0.009978\n",
       "start_scan_to_end_scan            0.000000\n",
       "is_cutoff                         0.000000\n",
       "cutoff_factor                     0.000000\n",
       "cutoff_timestamp                  0.012888\n",
       "actual_distance_to_destination    0.000000\n",
       "osrm_time                         0.200006\n",
       "osrm_distance                     0.200006\n",
       "factor                            0.022783\n",
       "segment_actual_time               0.000000\n",
       "segment_osrm_time                 0.000000\n",
       "segment_osrm_distance             0.000000\n",
       "segment_factor                    0.016062\n",
       "actual_time                       0.000000\n",
       "dtype: float64"
      ]
     },
     "execution_count": 11,
     "metadata": {},
     "output_type": "execute_result"
    }
   ],
   "source": [
    "train_df.isnull().mean()"
   ]
  },
  {
   "cell_type": "code",
   "execution_count": 12,
   "id": "95f6f152",
   "metadata": {
    "execution": {
     "iopub.execute_input": "2023-04-02T18:52:40.037699Z",
     "iopub.status.busy": "2023-04-02T18:52:40.037158Z",
     "iopub.status.idle": "2023-04-02T18:52:40.049186Z",
     "shell.execute_reply": "2023-04-02T18:52:40.047722Z"
    },
    "papermill": {
     "duration": 0.035382,
     "end_time": "2023-04-02T18:52:40.051871",
     "exception": false,
     "start_time": "2023-04-02T18:52:40.016489",
     "status": "completed"
    },
    "tags": []
   },
   "outputs": [
    {
     "data": {
      "text/plain": [
       "68643"
      ]
     },
     "execution_count": 12,
     "metadata": {},
     "output_type": "execute_result"
    }
   ],
   "source": [
    "train_df['trip_creation_time'].count()"
   ]
  },
  {
   "cell_type": "code",
   "execution_count": 13,
   "id": "ff45003e",
   "metadata": {
    "execution": {
     "iopub.execute_input": "2023-04-02T18:52:40.092310Z",
     "iopub.status.busy": "2023-04-02T18:52:40.091896Z",
     "iopub.status.idle": "2023-04-02T18:52:40.097568Z",
     "shell.execute_reply": "2023-04-02T18:52:40.096358Z"
    },
    "papermill": {
     "duration": 0.028429,
     "end_time": "2023-04-02T18:52:40.099745",
     "exception": false,
     "start_time": "2023-04-02T18:52:40.071316",
     "status": "completed"
    },
    "tags": []
   },
   "outputs": [],
   "source": [
    "def impute_nan(train_df,variable,mean):\n",
    "    train_df[variable+\"_mean\"]=train_df[variable].fillna(mean)"
   ]
  },
  {
   "cell_type": "code",
   "execution_count": 14,
   "id": "45b9fe95",
   "metadata": {
    "execution": {
     "iopub.execute_input": "2023-04-02T18:52:40.140428Z",
     "iopub.status.busy": "2023-04-02T18:52:40.139921Z",
     "iopub.status.idle": "2023-04-02T18:52:40.148375Z",
     "shell.execute_reply": "2023-04-02T18:52:40.146949Z"
    },
    "papermill": {
     "duration": 0.032542,
     "end_time": "2023-04-02T18:52:40.151617",
     "exception": false,
     "start_time": "2023-04-02T18:52:40.119075",
     "status": "completed"
    },
    "tags": []
   },
   "outputs": [],
   "source": [
    "mean=train_df.osrm_distance.mean()\n",
    "impute_nan(train_df,'osrm_distance',mean)\n"
   ]
  },
  {
   "cell_type": "code",
   "execution_count": 15,
   "id": "9c4218d3",
   "metadata": {
    "execution": {
     "iopub.execute_input": "2023-04-02T18:52:40.192906Z",
     "iopub.status.busy": "2023-04-02T18:52:40.192453Z",
     "iopub.status.idle": "2023-04-02T18:52:40.199070Z",
     "shell.execute_reply": "2023-04-02T18:52:40.197908Z"
    },
    "papermill": {
     "duration": 0.029479,
     "end_time": "2023-04-02T18:52:40.201278",
     "exception": false,
     "start_time": "2023-04-02T18:52:40.171799",
     "status": "completed"
    },
    "tags": []
   },
   "outputs": [],
   "source": [
    "mean=test_df.osrm_distance.mean()\n",
    "impute_nan(test_df,'osrm_distance',mean)"
   ]
  },
  {
   "cell_type": "code",
   "execution_count": 16,
   "id": "45213ed0",
   "metadata": {
    "execution": {
     "iopub.execute_input": "2023-04-02T18:52:40.242030Z",
     "iopub.status.busy": "2023-04-02T18:52:40.241256Z",
     "iopub.status.idle": "2023-04-02T18:52:40.248258Z",
     "shell.execute_reply": "2023-04-02T18:52:40.247062Z"
    },
    "papermill": {
     "duration": 0.030201,
     "end_time": "2023-04-02T18:52:40.250745",
     "exception": false,
     "start_time": "2023-04-02T18:52:40.220544",
     "status": "completed"
    },
    "tags": []
   },
   "outputs": [],
   "source": [
    "mean=train_df.osrm_time.mean()\n",
    "impute_nan(train_df,'osrm_time',mean)"
   ]
  },
  {
   "cell_type": "code",
   "execution_count": 17,
   "id": "54205cc6",
   "metadata": {
    "execution": {
     "iopub.execute_input": "2023-04-02T18:52:40.291347Z",
     "iopub.status.busy": "2023-04-02T18:52:40.290218Z",
     "iopub.status.idle": "2023-04-02T18:52:40.297345Z",
     "shell.execute_reply": "2023-04-02T18:52:40.296369Z"
    },
    "papermill": {
     "duration": 0.030019,
     "end_time": "2023-04-02T18:52:40.299825",
     "exception": false,
     "start_time": "2023-04-02T18:52:40.269806",
     "status": "completed"
    },
    "tags": []
   },
   "outputs": [],
   "source": [
    "mean=test_df.osrm_time.mean()\n",
    "impute_nan(test_df,'osrm_time',mean)"
   ]
  },
  {
   "cell_type": "code",
   "execution_count": 18,
   "id": "09dccc38",
   "metadata": {
    "execution": {
     "iopub.execute_input": "2023-04-02T18:52:40.340663Z",
     "iopub.status.busy": "2023-04-02T18:52:40.339385Z",
     "iopub.status.idle": "2023-04-02T18:52:40.369204Z",
     "shell.execute_reply": "2023-04-02T18:52:40.368273Z"
    },
    "papermill": {
     "duration": 0.052578,
     "end_time": "2023-04-02T18:52:40.371564",
     "exception": false,
     "start_time": "2023-04-02T18:52:40.318986",
     "status": "completed"
    },
    "tags": []
   },
   "outputs": [],
   "source": [
    "train_df.drop(['route_schedule_uuid','source_center','destination_center','destination_name','source_name','osrm_time','osrm_distance','UID','trip_uuid'],axis=1,inplace=True)\n",
    "test_df.drop(['route_schedule_uuid','source_center','destination_center','destination_name','source_name','osrm_time','osrm_distance','trip_uuid'],axis=1,inplace=True)"
   ]
  },
  {
   "cell_type": "code",
   "execution_count": 19,
   "id": "685e7463",
   "metadata": {
    "execution": {
     "iopub.execute_input": "2023-04-02T18:52:40.412493Z",
     "iopub.status.busy": "2023-04-02T18:52:40.411496Z",
     "iopub.status.idle": "2023-04-02T18:52:40.423667Z",
     "shell.execute_reply": "2023-04-02T18:52:40.422604Z"
    },
    "papermill": {
     "duration": 0.035035,
     "end_time": "2023-04-02T18:52:40.425964",
     "exception": false,
     "start_time": "2023-04-02T18:52:40.390929",
     "status": "completed"
    },
    "tags": []
   },
   "outputs": [
    {
     "data": {
      "text/plain": [
       "array(['FTL', 'Carting'], dtype=object)"
      ]
     },
     "execution_count": 19,
     "metadata": {},
     "output_type": "execute_result"
    }
   ],
   "source": [
    "train_df['route_type'].unique()"
   ]
  },
  {
   "cell_type": "code",
   "execution_count": 20,
   "id": "dfb30de0",
   "metadata": {
    "execution": {
     "iopub.execute_input": "2023-04-02T18:52:40.466678Z",
     "iopub.status.busy": "2023-04-02T18:52:40.465965Z",
     "iopub.status.idle": "2023-04-02T18:52:40.486708Z",
     "shell.execute_reply": "2023-04-02T18:52:40.485499Z"
    },
    "papermill": {
     "duration": 0.044108,
     "end_time": "2023-04-02T18:52:40.489347",
     "exception": false,
     "start_time": "2023-04-02T18:52:40.445239",
     "status": "completed"
    },
    "tags": []
   },
   "outputs": [
    {
     "data": {
      "text/html": [
       "<div>\n",
       "<style scoped>\n",
       "    .dataframe tbody tr th:only-of-type {\n",
       "        vertical-align: middle;\n",
       "    }\n",
       "\n",
       "    .dataframe tbody tr th {\n",
       "        vertical-align: top;\n",
       "    }\n",
       "\n",
       "    .dataframe thead th {\n",
       "        text-align: right;\n",
       "    }\n",
       "</style>\n",
       "<table border=\"1\" class=\"dataframe\">\n",
       "  <thead>\n",
       "    <tr style=\"text-align: right;\">\n",
       "      <th></th>\n",
       "      <th>trip_creation_time</th>\n",
       "      <th>route_type</th>\n",
       "      <th>od_start_time</th>\n",
       "      <th>od_end_time</th>\n",
       "      <th>start_scan_to_end_scan</th>\n",
       "      <th>is_cutoff</th>\n",
       "      <th>cutoff_factor</th>\n",
       "      <th>cutoff_timestamp</th>\n",
       "      <th>actual_distance_to_destination</th>\n",
       "      <th>factor</th>\n",
       "      <th>segment_actual_time</th>\n",
       "      <th>segment_osrm_time</th>\n",
       "      <th>segment_osrm_distance</th>\n",
       "      <th>segment_factor</th>\n",
       "      <th>actual_time</th>\n",
       "      <th>osrm_distance_mean</th>\n",
       "      <th>osrm_time_mean</th>\n",
       "    </tr>\n",
       "  </thead>\n",
       "  <tbody>\n",
       "    <tr>\n",
       "      <th>0</th>\n",
       "      <td>2018-09-15 02:23:18.656742</td>\n",
       "      <td>FTL</td>\n",
       "      <td>2018-09-15 02:23:18.656742</td>\n",
       "      <td>2018-09-15 06:33:35.824186</td>\n",
       "      <td>713.521495</td>\n",
       "      <td>True</td>\n",
       "      <td>44</td>\n",
       "      <td>2018-09-15 04:45:23</td>\n",
       "      <td>158.807515</td>\n",
       "      <td>2.782826</td>\n",
       "      <td>77.988686</td>\n",
       "      <td>20.793472</td>\n",
       "      <td>28.475783</td>\n",
       "      <td>3.292773</td>\n",
       "      <td>100.0</td>\n",
       "      <td>1228.735753</td>\n",
       "      <td>778.672716</td>\n",
       "    </tr>\n",
       "    <tr>\n",
       "      <th>1</th>\n",
       "      <td>2018-09-30 15:07:48.971326</td>\n",
       "      <td>FTL</td>\n",
       "      <td>2018-09-30 22:38:13.903069</td>\n",
       "      <td>2018-10-01 06:48:37.637477</td>\n",
       "      <td>902.759458</td>\n",
       "      <td>True</td>\n",
       "      <td>22</td>\n",
       "      <td>2018-10-01 05:38:30</td>\n",
       "      <td>81.388109</td>\n",
       "      <td>3.625248</td>\n",
       "      <td>68.517914</td>\n",
       "      <td>18.787231</td>\n",
       "      <td>34.612259</td>\n",
       "      <td>4.277350</td>\n",
       "      <td>61.0</td>\n",
       "      <td>869.045744</td>\n",
       "      <td>227.479029</td>\n",
       "    </tr>\n",
       "    <tr>\n",
       "      <th>2</th>\n",
       "      <td>2018-09-23 22:15:46.635975</td>\n",
       "      <td>FTL</td>\n",
       "      <td>2018-09-24 03:56:37.016232</td>\n",
       "      <td>2018-09-24 11:15:00.826140</td>\n",
       "      <td>923.666146</td>\n",
       "      <td>True</td>\n",
       "      <td>22</td>\n",
       "      <td>2018-09-24 09:21:30</td>\n",
       "      <td>134.486898</td>\n",
       "      <td>4.415969</td>\n",
       "      <td>70.475386</td>\n",
       "      <td>24.371978</td>\n",
       "      <td>29.867950</td>\n",
       "      <td>5.322072</td>\n",
       "      <td>69.0</td>\n",
       "      <td>1188.943158</td>\n",
       "      <td>400.072069</td>\n",
       "    </tr>\n",
       "    <tr>\n",
       "      <th>3</th>\n",
       "      <td>2018-09-21 05:11:44.833176</td>\n",
       "      <td>FTL</td>\n",
       "      <td>2018-09-22 10:08:32.593022</td>\n",
       "      <td>2018-09-22 19:17:22.242888</td>\n",
       "      <td>705.451567</td>\n",
       "      <td>True</td>\n",
       "      <td>176</td>\n",
       "      <td>2018-09-22 14:09:17</td>\n",
       "      <td>262.866674</td>\n",
       "      <td>2.946647</td>\n",
       "      <td>101.876844</td>\n",
       "      <td>19.588977</td>\n",
       "      <td>27.794019</td>\n",
       "      <td>4.265799</td>\n",
       "      <td>300.0</td>\n",
       "      <td>999.421258</td>\n",
       "      <td>510.123878</td>\n",
       "    </tr>\n",
       "    <tr>\n",
       "      <th>4</th>\n",
       "      <td>2018-09-18 01:10:49.936747</td>\n",
       "      <td>FTL</td>\n",
       "      <td>2018-09-18 01:10:49.936747</td>\n",
       "      <td>2018-09-18 17:58:48.449251</td>\n",
       "      <td>1109.682268</td>\n",
       "      <td>True</td>\n",
       "      <td>198</td>\n",
       "      <td>2018-09-18 12:14:05</td>\n",
       "      <td>379.389280</td>\n",
       "      <td>1.998790</td>\n",
       "      <td>46.571301</td>\n",
       "      <td>22.671495</td>\n",
       "      <td>26.971844</td>\n",
       "      <td>3.553652</td>\n",
       "      <td>286.0</td>\n",
       "      <td>869.045744</td>\n",
       "      <td>645.031637</td>\n",
       "    </tr>\n",
       "  </tbody>\n",
       "</table>\n",
       "</div>"
      ],
      "text/plain": [
       "           trip_creation_time route_type               od_start_time  \\\n",
       "0  2018-09-15 02:23:18.656742        FTL  2018-09-15 02:23:18.656742   \n",
       "1  2018-09-30 15:07:48.971326        FTL  2018-09-30 22:38:13.903069   \n",
       "2  2018-09-23 22:15:46.635975        FTL  2018-09-24 03:56:37.016232   \n",
       "3  2018-09-21 05:11:44.833176        FTL  2018-09-22 10:08:32.593022   \n",
       "4  2018-09-18 01:10:49.936747        FTL  2018-09-18 01:10:49.936747   \n",
       "\n",
       "                  od_end_time  start_scan_to_end_scan  is_cutoff  \\\n",
       "0  2018-09-15 06:33:35.824186              713.521495       True   \n",
       "1  2018-10-01 06:48:37.637477              902.759458       True   \n",
       "2  2018-09-24 11:15:00.826140              923.666146       True   \n",
       "3  2018-09-22 19:17:22.242888              705.451567       True   \n",
       "4  2018-09-18 17:58:48.449251             1109.682268       True   \n",
       "\n",
       "   cutoff_factor     cutoff_timestamp  actual_distance_to_destination  \\\n",
       "0             44  2018-09-15 04:45:23                      158.807515   \n",
       "1             22  2018-10-01 05:38:30                       81.388109   \n",
       "2             22  2018-09-24 09:21:30                      134.486898   \n",
       "3            176  2018-09-22 14:09:17                      262.866674   \n",
       "4            198  2018-09-18 12:14:05                      379.389280   \n",
       "\n",
       "     factor  segment_actual_time  segment_osrm_time  segment_osrm_distance  \\\n",
       "0  2.782826            77.988686          20.793472              28.475783   \n",
       "1  3.625248            68.517914          18.787231              34.612259   \n",
       "2  4.415969            70.475386          24.371978              29.867950   \n",
       "3  2.946647           101.876844          19.588977              27.794019   \n",
       "4  1.998790            46.571301          22.671495              26.971844   \n",
       "\n",
       "   segment_factor  actual_time  osrm_distance_mean  osrm_time_mean  \n",
       "0        3.292773        100.0         1228.735753      778.672716  \n",
       "1        4.277350         61.0          869.045744      227.479029  \n",
       "2        5.322072         69.0         1188.943158      400.072069  \n",
       "3        4.265799        300.0          999.421258      510.123878  \n",
       "4        3.553652        286.0          869.045744      645.031637  "
      ]
     },
     "execution_count": 20,
     "metadata": {},
     "output_type": "execute_result"
    }
   ],
   "source": [
    "train_df.head()"
   ]
  },
  {
   "cell_type": "code",
   "execution_count": 21,
   "id": "396132b2",
   "metadata": {
    "execution": {
     "iopub.execute_input": "2023-04-02T18:52:40.532418Z",
     "iopub.status.busy": "2023-04-02T18:52:40.531998Z",
     "iopub.status.idle": "2023-04-02T18:52:42.381406Z",
     "shell.execute_reply": "2023-04-02T18:52:42.380198Z"
    },
    "papermill": {
     "duration": 1.873851,
     "end_time": "2023-04-02T18:52:42.383801",
     "exception": false,
     "start_time": "2023-04-02T18:52:40.509950",
     "status": "completed"
    },
    "tags": []
   },
   "outputs": [
    {
     "data": {
      "text/plain": [
       "<AxesSubplot:>"
      ]
     },
     "execution_count": 21,
     "metadata": {},
     "output_type": "execute_result"
    },
    {
     "data": {
      "image/png": "[encoded data removed]",
      "text/plain": [
       "<Figure size 640x480 with 1 Axes>"
      ]
     },
     "metadata": {},
     "output_type": "display_data"
    }
   ],
   "source": [
    "sns.heatmap(train_df.isnull(),yticklabels=False,cbar=False,cmap='viridis')"
   ]
  },
  {
   "cell_type": "code",
   "execution_count": 22,
   "id": "a545da9f",
   "metadata": {
    "execution": {
     "iopub.execute_input": "2023-04-02T18:52:42.427368Z",
     "iopub.status.busy": "2023-04-02T18:52:42.426939Z",
     "iopub.status.idle": "2023-04-02T18:52:42.436792Z",
     "shell.execute_reply": "2023-04-02T18:52:42.435672Z"
    },
    "papermill": {
     "duration": 0.034047,
     "end_time": "2023-04-02T18:52:42.438996",
     "exception": false,
     "start_time": "2023-04-02T18:52:42.404949",
     "status": "completed"
    },
    "tags": []
   },
   "outputs": [
    {
     "data": {
      "text/plain": [
       "array([ True, False])"
      ]
     },
     "execution_count": 22,
     "metadata": {},
     "output_type": "execute_result"
    }
   ],
   "source": [
    "train_df['is_cutoff'].unique()"
   ]
  },
  {
   "cell_type": "code",
   "execution_count": 23,
   "id": "16e25a8c",
   "metadata": {
    "execution": {
     "iopub.execute_input": "2023-04-02T18:52:42.482282Z",
     "iopub.status.busy": "2023-04-02T18:52:42.481409Z",
     "iopub.status.idle": "2023-04-02T18:52:42.510413Z",
     "shell.execute_reply": "2023-04-02T18:52:42.509152Z"
    },
    "papermill": {
     "duration": 0.053658,
     "end_time": "2023-04-02T18:52:42.513212",
     "exception": false,
     "start_time": "2023-04-02T18:52:42.459554",
     "status": "completed"
    },
    "tags": []
   },
   "outputs": [],
   "source": [
    "is_cutoff_dummies=pd.get_dummies(train_df['is_cutoff'])\n",
    "train_df=pd.concat([train_df,is_cutoff_dummies],axis=1)\n",
    "\n",
    "test_is_cutoff_dummies=pd.get_dummies(test_df['is_cutoff'])\n",
    "test_df=pd.concat([test_df,test_is_cutoff_dummies],axis=1)\n",
    "\n"
   ]
  },
  {
   "cell_type": "code",
   "execution_count": 24,
   "id": "b386eec5",
   "metadata": {
    "execution": {
     "iopub.execute_input": "2023-04-02T18:52:42.556196Z",
     "iopub.status.busy": "2023-04-02T18:52:42.555775Z",
     "iopub.status.idle": "2023-04-02T18:52:42.587076Z",
     "shell.execute_reply": "2023-04-02T18:52:42.586067Z"
    },
    "papermill": {
     "duration": 0.055878,
     "end_time": "2023-04-02T18:52:42.589650",
     "exception": false,
     "start_time": "2023-04-02T18:52:42.533772",
     "status": "completed"
    },
    "tags": []
   },
   "outputs": [],
   "source": [
    "route_type_dummies=pd.get_dummies(train_df['route_type'])\n",
    "train_df=pd.concat([train_df,route_type_dummies],axis=1)\n",
    "\n",
    "test_route_type_dummies=pd.get_dummies(test_df['route_type'])\n",
    "test_df=pd.concat([test_df,test_route_type_dummies],axis=1)\n"
   ]
  },
  {
   "cell_type": "code",
   "execution_count": 25,
   "id": "700d2701",
   "metadata": {
    "execution": {
     "iopub.execute_input": "2023-04-02T18:52:42.632618Z",
     "iopub.status.busy": "2023-04-02T18:52:42.632160Z",
     "iopub.status.idle": "2023-04-02T18:52:42.673588Z",
     "shell.execute_reply": "2023-04-02T18:52:42.672446Z"
    },
    "papermill": {
     "duration": 0.066263,
     "end_time": "2023-04-02T18:52:42.676513",
     "exception": false,
     "start_time": "2023-04-02T18:52:42.610250",
     "status": "completed"
    },
    "tags": []
   },
   "outputs": [],
   "source": [
    "train_df.drop(['route_type','is_cutoff'],axis=1,inplace=True)\n",
    "test_df.drop(['route_type','is_cutoff'],axis=1,inplace=True)"
   ]
  },
  {
   "cell_type": "code",
   "execution_count": 26,
   "id": "276dcd4a",
   "metadata": {
    "execution": {
     "iopub.execute_input": "2023-04-02T18:52:42.720000Z",
     "iopub.status.busy": "2023-04-02T18:52:42.719340Z",
     "iopub.status.idle": "2023-04-02T18:52:42.741334Z",
     "shell.execute_reply": "2023-04-02T18:52:42.740039Z"
    },
    "papermill": {
     "duration": 0.047012,
     "end_time": "2023-04-02T18:52:42.744239",
     "exception": false,
     "start_time": "2023-04-02T18:52:42.697227",
     "status": "completed"
    },
    "tags": []
   },
   "outputs": [
    {
     "data": {
      "text/html": [
       "<div>\n",
       "<style scoped>\n",
       "    .dataframe tbody tr th:only-of-type {\n",
       "        vertical-align: middle;\n",
       "    }\n",
       "\n",
       "    .dataframe tbody tr th {\n",
       "        vertical-align: top;\n",
       "    }\n",
       "\n",
       "    .dataframe thead th {\n",
       "        text-align: right;\n",
       "    }\n",
       "</style>\n",
       "<table border=\"1\" class=\"dataframe\">\n",
       "  <thead>\n",
       "    <tr style=\"text-align: right;\">\n",
       "      <th></th>\n",
       "      <th>trip_creation_time</th>\n",
       "      <th>od_start_time</th>\n",
       "      <th>od_end_time</th>\n",
       "      <th>start_scan_to_end_scan</th>\n",
       "      <th>cutoff_factor</th>\n",
       "      <th>cutoff_timestamp</th>\n",
       "      <th>actual_distance_to_destination</th>\n",
       "      <th>factor</th>\n",
       "      <th>segment_actual_time</th>\n",
       "      <th>segment_osrm_time</th>\n",
       "      <th>segment_osrm_distance</th>\n",
       "      <th>segment_factor</th>\n",
       "      <th>actual_time</th>\n",
       "      <th>osrm_distance_mean</th>\n",
       "      <th>osrm_time_mean</th>\n",
       "      <th>False</th>\n",
       "      <th>True</th>\n",
       "      <th>Carting</th>\n",
       "      <th>FTL</th>\n",
       "    </tr>\n",
       "  </thead>\n",
       "  <tbody>\n",
       "    <tr>\n",
       "      <th>0</th>\n",
       "      <td>2018-09-15 02:23:18.656742</td>\n",
       "      <td>2018-09-15 02:23:18.656742</td>\n",
       "      <td>2018-09-15 06:33:35.824186</td>\n",
       "      <td>713.521495</td>\n",
       "      <td>44</td>\n",
       "      <td>2018-09-15 04:45:23</td>\n",
       "      <td>158.807515</td>\n",
       "      <td>2.782826</td>\n",
       "      <td>77.988686</td>\n",
       "      <td>20.793472</td>\n",
       "      <td>28.475783</td>\n",
       "      <td>3.292773</td>\n",
       "      <td>100.0</td>\n",
       "      <td>1228.735753</td>\n",
       "      <td>778.672716</td>\n",
       "      <td>0</td>\n",
       "      <td>1</td>\n",
       "      <td>0</td>\n",
       "      <td>1</td>\n",
       "    </tr>\n",
       "    <tr>\n",
       "      <th>1</th>\n",
       "      <td>2018-09-30 15:07:48.971326</td>\n",
       "      <td>2018-09-30 22:38:13.903069</td>\n",
       "      <td>2018-10-01 06:48:37.637477</td>\n",
       "      <td>902.759458</td>\n",
       "      <td>22</td>\n",
       "      <td>2018-10-01 05:38:30</td>\n",
       "      <td>81.388109</td>\n",
       "      <td>3.625248</td>\n",
       "      <td>68.517914</td>\n",
       "      <td>18.787231</td>\n",
       "      <td>34.612259</td>\n",
       "      <td>4.277350</td>\n",
       "      <td>61.0</td>\n",
       "      <td>869.045744</td>\n",
       "      <td>227.479029</td>\n",
       "      <td>0</td>\n",
       "      <td>1</td>\n",
       "      <td>0</td>\n",
       "      <td>1</td>\n",
       "    </tr>\n",
       "    <tr>\n",
       "      <th>2</th>\n",
       "      <td>2018-09-23 22:15:46.635975</td>\n",
       "      <td>2018-09-24 03:56:37.016232</td>\n",
       "      <td>2018-09-24 11:15:00.826140</td>\n",
       "      <td>923.666146</td>\n",
       "      <td>22</td>\n",
       "      <td>2018-09-24 09:21:30</td>\n",
       "      <td>134.486898</td>\n",
       "      <td>4.415969</td>\n",
       "      <td>70.475386</td>\n",
       "      <td>24.371978</td>\n",
       "      <td>29.867950</td>\n",
       "      <td>5.322072</td>\n",
       "      <td>69.0</td>\n",
       "      <td>1188.943158</td>\n",
       "      <td>400.072069</td>\n",
       "      <td>0</td>\n",
       "      <td>1</td>\n",
       "      <td>0</td>\n",
       "      <td>1</td>\n",
       "    </tr>\n",
       "    <tr>\n",
       "      <th>3</th>\n",
       "      <td>2018-09-21 05:11:44.833176</td>\n",
       "      <td>2018-09-22 10:08:32.593022</td>\n",
       "      <td>2018-09-22 19:17:22.242888</td>\n",
       "      <td>705.451567</td>\n",
       "      <td>176</td>\n",
       "      <td>2018-09-22 14:09:17</td>\n",
       "      <td>262.866674</td>\n",
       "      <td>2.946647</td>\n",
       "      <td>101.876844</td>\n",
       "      <td>19.588977</td>\n",
       "      <td>27.794019</td>\n",
       "      <td>4.265799</td>\n",
       "      <td>300.0</td>\n",
       "      <td>999.421258</td>\n",
       "      <td>510.123878</td>\n",
       "      <td>0</td>\n",
       "      <td>1</td>\n",
       "      <td>0</td>\n",
       "      <td>1</td>\n",
       "    </tr>\n",
       "    <tr>\n",
       "      <th>4</th>\n",
       "      <td>2018-09-18 01:10:49.936747</td>\n",
       "      <td>2018-09-18 01:10:49.936747</td>\n",
       "      <td>2018-09-18 17:58:48.449251</td>\n",
       "      <td>1109.682268</td>\n",
       "      <td>198</td>\n",
       "      <td>2018-09-18 12:14:05</td>\n",
       "      <td>379.389280</td>\n",
       "      <td>1.998790</td>\n",
       "      <td>46.571301</td>\n",
       "      <td>22.671495</td>\n",
       "      <td>26.971844</td>\n",
       "      <td>3.553652</td>\n",
       "      <td>286.0</td>\n",
       "      <td>869.045744</td>\n",
       "      <td>645.031637</td>\n",
       "      <td>0</td>\n",
       "      <td>1</td>\n",
       "      <td>0</td>\n",
       "      <td>1</td>\n",
       "    </tr>\n",
       "  </tbody>\n",
       "</table>\n",
       "</div>"
      ],
      "text/plain": [
       "           trip_creation_time               od_start_time  \\\n",
       "0  2018-09-15 02:23:18.656742  2018-09-15 02:23:18.656742   \n",
       "1  2018-09-30 15:07:48.971326  2018-09-30 22:38:13.903069   \n",
       "2  2018-09-23 22:15:46.635975  2018-09-24 03:56:37.016232   \n",
       "3  2018-09-21 05:11:44.833176  2018-09-22 10:08:32.593022   \n",
       "4  2018-09-18 01:10:49.936747  2018-09-18 01:10:49.936747   \n",
       "\n",
       "                  od_end_time  start_scan_to_end_scan  cutoff_factor  \\\n",
       "0  2018-09-15 06:33:35.824186              713.521495             44   \n",
       "1  2018-10-01 06:48:37.637477              902.759458             22   \n",
       "2  2018-09-24 11:15:00.826140              923.666146             22   \n",
       "3  2018-09-22 19:17:22.242888              705.451567            176   \n",
       "4  2018-09-18 17:58:48.449251             1109.682268            198   \n",
       "\n",
       "      cutoff_timestamp  actual_distance_to_destination    factor  \\\n",
       "0  2018-09-15 04:45:23                      158.807515  2.782826   \n",
       "1  2018-10-01 05:38:30                       81.388109  3.625248   \n",
       "2  2018-09-24 09:21:30                      134.486898  4.415969   \n",
       "3  2018-09-22 14:09:17                      262.866674  2.946647   \n",
       "4  2018-09-18 12:14:05                      379.389280  1.998790   \n",
       "\n",
       "   segment_actual_time  segment_osrm_time  segment_osrm_distance  \\\n",
       "0            77.988686          20.793472              28.475783   \n",
       "1            68.517914          18.787231              34.612259   \n",
       "2            70.475386          24.371978              29.867950   \n",
       "3           101.876844          19.588977              27.794019   \n",
       "4            46.571301          22.671495              26.971844   \n",
       "\n",
       "   segment_factor  actual_time  osrm_distance_mean  osrm_time_mean  False  \\\n",
       "0        3.292773        100.0         1228.735753      778.672716      0   \n",
       "1        4.277350         61.0          869.045744      227.479029      0   \n",
       "2        5.322072         69.0         1188.943158      400.072069      0   \n",
       "3        4.265799        300.0          999.421258      510.123878      0   \n",
       "4        3.553652        286.0          869.045744      645.031637      0   \n",
       "\n",
       "   True  Carting  FTL  \n",
       "0     1        0    1  \n",
       "1     1        0    1  \n",
       "2     1        0    1  \n",
       "3     1        0    1  \n",
       "4     1        0    1  "
      ]
     },
     "execution_count": 26,
     "metadata": {},
     "output_type": "execute_result"
    }
   ],
   "source": [
    "train_df.head()"
   ]
  },
  {
   "cell_type": "code",
   "execution_count": 27,
   "id": "ebd18f8e",
   "metadata": {
    "execution": {
     "iopub.execute_input": "2023-04-02T18:52:42.789485Z",
     "iopub.status.busy": "2023-04-02T18:52:42.788606Z",
     "iopub.status.idle": "2023-04-02T18:52:44.848847Z",
     "shell.execute_reply": "2023-04-02T18:52:44.847571Z"
    },
    "papermill": {
     "duration": 2.085409,
     "end_time": "2023-04-02T18:52:44.851608",
     "exception": false,
     "start_time": "2023-04-02T18:52:42.766199",
     "status": "completed"
    },
    "tags": []
   },
   "outputs": [
    {
     "data": {
      "text/plain": [
       "<AxesSubplot:>"
      ]
     },
     "execution_count": 27,
     "metadata": {},
     "output_type": "execute_result"
    },
    {
     "data": {
      "image/png": "[encoded data removed]",
      "text/plain": [
       "<Figure size 640x480 with 1 Axes>"
      ]
     },
     "metadata": {},
     "output_type": "display_data"
    }
   ],
   "source": [
    "sns.heatmap(train_df.isnull(),yticklabels=False,cbar=False,cmap='viridis')"
   ]
  },
  {
   "cell_type": "code",
   "execution_count": 28,
   "id": "09d77294",
   "metadata": {
    "execution": {
     "iopub.execute_input": "2023-04-02T18:52:44.898328Z",
     "iopub.status.busy": "2023-04-02T18:52:44.897098Z",
     "iopub.status.idle": "2023-04-02T18:52:44.913898Z",
     "shell.execute_reply": "2023-04-02T18:52:44.912556Z"
    },
    "papermill": {
     "duration": 0.043134,
     "end_time": "2023-04-02T18:52:44.916762",
     "exception": false,
     "start_time": "2023-04-02T18:52:44.873628",
     "status": "completed"
    },
    "tags": []
   },
   "outputs": [],
   "source": [
    "mean=train_df.segment_factor.mean()\n",
    "impute_nan(train_df,'segment_factor',mean)\n",
    "train_df.drop(['segment_factor'],axis=1,inplace=True)"
   ]
  },
  {
   "cell_type": "code",
   "execution_count": 29,
   "id": "9aaf136f",
   "metadata": {
    "execution": {
     "iopub.execute_input": "2023-04-02T18:52:44.964445Z",
     "iopub.status.busy": "2023-04-02T18:52:44.964022Z",
     "iopub.status.idle": "2023-04-02T18:52:44.981254Z",
     "shell.execute_reply": "2023-04-02T18:52:44.980126Z"
    },
    "papermill": {
     "duration": 0.043826,
     "end_time": "2023-04-02T18:52:44.984071",
     "exception": false,
     "start_time": "2023-04-02T18:52:44.940245",
     "status": "completed"
    },
    "tags": []
   },
   "outputs": [],
   "source": [
    "mean=test_df.segment_factor.mean()\n",
    "impute_nan(test_df,'segment_factor',mean)\n",
    "test_df.drop(['segment_factor'],axis=1,inplace=True)"
   ]
  },
  {
   "cell_type": "code",
   "execution_count": 30,
   "id": "e16ca53c",
   "metadata": {
    "execution": {
     "iopub.execute_input": "2023-04-02T18:52:45.029385Z",
     "iopub.status.busy": "2023-04-02T18:52:45.028961Z",
     "iopub.status.idle": "2023-04-02T18:52:45.047099Z",
     "shell.execute_reply": "2023-04-02T18:52:45.045731Z"
    },
    "papermill": {
     "duration": 0.044401,
     "end_time": "2023-04-02T18:52:45.050204",
     "exception": false,
     "start_time": "2023-04-02T18:52:45.005803",
     "status": "completed"
    },
    "tags": []
   },
   "outputs": [],
   "source": [
    "mean=train_df.factor.mean()\n",
    "impute_nan(train_df,'factor',mean)\n",
    "train_df.drop(['factor'],axis=1,inplace=True)"
   ]
  },
  {
   "cell_type": "code",
   "execution_count": 31,
   "id": "fc4344a7",
   "metadata": {
    "execution": {
     "iopub.execute_input": "2023-04-02T18:52:45.096082Z",
     "iopub.status.busy": "2023-04-02T18:52:45.095646Z",
     "iopub.status.idle": "2023-04-02T18:52:45.113229Z",
     "shell.execute_reply": "2023-04-02T18:52:45.111953Z"
    },
    "papermill": {
     "duration": 0.043821,
     "end_time": "2023-04-02T18:52:45.115944",
     "exception": false,
     "start_time": "2023-04-02T18:52:45.072123",
     "status": "completed"
    },
    "tags": []
   },
   "outputs": [],
   "source": [
    "mean=test_df.factor.mean()\n",
    "impute_nan(test_df,'factor',mean)\n",
    "test_df.drop(['factor'],axis=1,inplace=True)"
   ]
  },
  {
   "cell_type": "code",
   "execution_count": 32,
   "id": "22f88a92",
   "metadata": {
    "execution": {
     "iopub.execute_input": "2023-04-02T18:52:45.161973Z",
     "iopub.status.busy": "2023-04-02T18:52:45.161193Z",
     "iopub.status.idle": "2023-04-02T18:52:47.210322Z",
     "shell.execute_reply": "2023-04-02T18:52:47.209113Z"
    },
    "papermill": {
     "duration": 2.075097,
     "end_time": "2023-04-02T18:52:47.212840",
     "exception": false,
     "start_time": "2023-04-02T18:52:45.137743",
     "status": "completed"
    },
    "tags": []
   },
   "outputs": [
    {
     "data": {
      "text/plain": [
       "<AxesSubplot:>"
      ]
     },
     "execution_count": 32,
     "metadata": {},
     "output_type": "execute_result"
    },
    {
     "data": {
      "image/png": "[encoded data removed]",
      "text/plain": [
       "<Figure size 640x480 with 1 Axes>"
      ]
     },
     "metadata": {},
     "output_type": "display_data"
    }
   ],
   "source": [
    "sns.heatmap(train_df.isnull(),yticklabels=False,cbar=False,cmap='viridis')"
   ]
  },
  {
   "cell_type": "code",
   "execution_count": 33,
   "id": "2111c8e0",
   "metadata": {
    "execution": {
     "iopub.execute_input": "2023-04-02T18:52:47.261076Z",
     "iopub.status.busy": "2023-04-02T18:52:47.260247Z",
     "iopub.status.idle": "2023-04-02T18:52:47.270025Z",
     "shell.execute_reply": "2023-04-02T18:52:47.269093Z"
    },
    "papermill": {
     "duration": 0.036595,
     "end_time": "2023-04-02T18:52:47.272354",
     "exception": false,
     "start_time": "2023-04-02T18:52:47.235759",
     "status": "completed"
    },
    "tags": []
   },
   "outputs": [],
   "source": [
    "train_df['trip_creation_time'].fillna('2018-09-15 02:23:18.656742',inplace=True)"
   ]
  },
  {
   "cell_type": "code",
   "execution_count": 34,
   "id": "b1186eaf",
   "metadata": {
    "execution": {
     "iopub.execute_input": "2023-04-02T18:52:47.319912Z",
     "iopub.status.busy": "2023-04-02T18:52:47.318808Z",
     "iopub.status.idle": "2023-04-02T18:52:47.329620Z",
     "shell.execute_reply": "2023-04-02T18:52:47.328348Z"
    },
    "papermill": {
     "duration": 0.037325,
     "end_time": "2023-04-02T18:52:47.332269",
     "exception": false,
     "start_time": "2023-04-02T18:52:47.294944",
     "status": "completed"
    },
    "tags": []
   },
   "outputs": [],
   "source": [
    "train_df['od_end_time'].fillna('2018-09-15 06:33:35.824186',inplace=True)"
   ]
  },
  {
   "cell_type": "code",
   "execution_count": 35,
   "id": "2769a3bc",
   "metadata": {
    "execution": {
     "iopub.execute_input": "2023-04-02T18:52:47.379112Z",
     "iopub.status.busy": "2023-04-02T18:52:47.378650Z",
     "iopub.status.idle": "2023-04-02T18:52:47.390502Z",
     "shell.execute_reply": "2023-04-02T18:52:47.389375Z"
    },
    "papermill": {
     "duration": 0.038396,
     "end_time": "2023-04-02T18:52:47.393127",
     "exception": false,
     "start_time": "2023-04-02T18:52:47.354731",
     "status": "completed"
    },
    "tags": []
   },
   "outputs": [],
   "source": [
    "train_df['cutoff_timestamp'].fillna('2018-09-15 04:45:23',inplace=True)"
   ]
  },
  {
   "cell_type": "code",
   "execution_count": 36,
   "id": "e74acaeb",
   "metadata": {
    "execution": {
     "iopub.execute_input": "2023-04-02T18:52:47.440746Z",
     "iopub.status.busy": "2023-04-02T18:52:47.440156Z",
     "iopub.status.idle": "2023-04-02T18:52:47.454970Z",
     "shell.execute_reply": "2023-04-02T18:52:47.453808Z"
    },
    "papermill": {
     "duration": 0.041187,
     "end_time": "2023-04-02T18:52:47.457333",
     "exception": false,
     "start_time": "2023-04-02T18:52:47.416146",
     "status": "completed"
    },
    "tags": []
   },
   "outputs": [
    {
     "data": {
      "text/plain": [
       "0        False\n",
       "1        False\n",
       "2        False\n",
       "3        False\n",
       "4        False\n",
       "         ...  \n",
       "72153    False\n",
       "72154    False\n",
       "72155    False\n",
       "72156    False\n",
       "72157    False\n",
       "Name: trip_creation_time, Length: 72158, dtype: bool"
      ]
     },
     "execution_count": 36,
     "metadata": {},
     "output_type": "execute_result"
    }
   ],
   "source": [
    "train_df['trip_creation_time'].isnull()"
   ]
  },
  {
   "cell_type": "code",
   "execution_count": 37,
   "id": "9304fd9c",
   "metadata": {
    "execution": {
     "iopub.execute_input": "2023-04-02T18:52:47.505034Z",
     "iopub.status.busy": "2023-04-02T18:52:47.504583Z",
     "iopub.status.idle": "2023-04-02T18:52:49.614780Z",
     "shell.execute_reply": "2023-04-02T18:52:49.613534Z"
    },
    "papermill": {
     "duration": 2.13734,
     "end_time": "2023-04-02T18:52:49.617613",
     "exception": false,
     "start_time": "2023-04-02T18:52:47.480273",
     "status": "completed"
    },
    "tags": []
   },
   "outputs": [
    {
     "data": {
      "text/plain": [
       "<AxesSubplot:>"
      ]
     },
     "execution_count": 37,
     "metadata": {},
     "output_type": "execute_result"
    },
    {
     "data": {
      "image/png": "[encoded data removed]",
      "text/plain": [
       "<Figure size 640x480 with 1 Axes>"
      ]
     },
     "metadata": {},
     "output_type": "display_data"
    }
   ],
   "source": [
    "sns.heatmap(train_df.isnull(),yticklabels=False,cbar=False,cmap='viridis')"
   ]
  },
  {
   "cell_type": "code",
   "execution_count": 38,
   "id": "0d68d614",
   "metadata": {
    "execution": {
     "iopub.execute_input": "2023-04-02T18:52:49.667013Z",
     "iopub.status.busy": "2023-04-02T18:52:49.666588Z",
     "iopub.status.idle": "2023-04-02T18:52:49.688619Z",
     "shell.execute_reply": "2023-04-02T18:52:49.687414Z"
    },
    "papermill": {
     "duration": 0.050125,
     "end_time": "2023-04-02T18:52:49.691147",
     "exception": false,
     "start_time": "2023-04-02T18:52:49.641022",
     "status": "completed"
    },
    "tags": []
   },
   "outputs": [
    {
     "data": {
      "text/html": [
       "<div>\n",
       "<style scoped>\n",
       "    .dataframe tbody tr th:only-of-type {\n",
       "        vertical-align: middle;\n",
       "    }\n",
       "\n",
       "    .dataframe tbody tr th {\n",
       "        vertical-align: top;\n",
       "    }\n",
       "\n",
       "    .dataframe thead th {\n",
       "        text-align: right;\n",
       "    }\n",
       "</style>\n",
       "<table border=\"1\" class=\"dataframe\">\n",
       "  <thead>\n",
       "    <tr style=\"text-align: right;\">\n",
       "      <th></th>\n",
       "      <th>trip_creation_time</th>\n",
       "      <th>od_start_time</th>\n",
       "      <th>od_end_time</th>\n",
       "      <th>start_scan_to_end_scan</th>\n",
       "      <th>cutoff_factor</th>\n",
       "      <th>cutoff_timestamp</th>\n",
       "      <th>actual_distance_to_destination</th>\n",
       "      <th>segment_actual_time</th>\n",
       "      <th>segment_osrm_time</th>\n",
       "      <th>segment_osrm_distance</th>\n",
       "      <th>actual_time</th>\n",
       "      <th>osrm_distance_mean</th>\n",
       "      <th>osrm_time_mean</th>\n",
       "      <th>False</th>\n",
       "      <th>True</th>\n",
       "      <th>Carting</th>\n",
       "      <th>FTL</th>\n",
       "      <th>segment_factor_mean</th>\n",
       "      <th>factor_mean</th>\n",
       "    </tr>\n",
       "  </thead>\n",
       "  <tbody>\n",
       "    <tr>\n",
       "      <th>0</th>\n",
       "      <td>2018-09-15 02:23:18.656742</td>\n",
       "      <td>2018-09-15 02:23:18.656742</td>\n",
       "      <td>2018-09-15 06:33:35.824186</td>\n",
       "      <td>713.521495</td>\n",
       "      <td>44</td>\n",
       "      <td>2018-09-15 04:45:23</td>\n",
       "      <td>158.807515</td>\n",
       "      <td>77.988686</td>\n",
       "      <td>20.793472</td>\n",
       "      <td>28.475783</td>\n",
       "      <td>100.0</td>\n",
       "      <td>1228.735753</td>\n",
       "      <td>778.672716</td>\n",
       "      <td>0</td>\n",
       "      <td>1</td>\n",
       "      <td>0</td>\n",
       "      <td>1</td>\n",
       "      <td>3.292773</td>\n",
       "      <td>2.782826</td>\n",
       "    </tr>\n",
       "    <tr>\n",
       "      <th>1</th>\n",
       "      <td>2018-09-30 15:07:48.971326</td>\n",
       "      <td>2018-09-30 22:38:13.903069</td>\n",
       "      <td>2018-10-01 06:48:37.637477</td>\n",
       "      <td>902.759458</td>\n",
       "      <td>22</td>\n",
       "      <td>2018-10-01 05:38:30</td>\n",
       "      <td>81.388109</td>\n",
       "      <td>68.517914</td>\n",
       "      <td>18.787231</td>\n",
       "      <td>34.612259</td>\n",
       "      <td>61.0</td>\n",
       "      <td>869.045744</td>\n",
       "      <td>227.479029</td>\n",
       "      <td>0</td>\n",
       "      <td>1</td>\n",
       "      <td>0</td>\n",
       "      <td>1</td>\n",
       "      <td>4.277350</td>\n",
       "      <td>3.625248</td>\n",
       "    </tr>\n",
       "    <tr>\n",
       "      <th>2</th>\n",
       "      <td>2018-09-23 22:15:46.635975</td>\n",
       "      <td>2018-09-24 03:56:37.016232</td>\n",
       "      <td>2018-09-24 11:15:00.826140</td>\n",
       "      <td>923.666146</td>\n",
       "      <td>22</td>\n",
       "      <td>2018-09-24 09:21:30</td>\n",
       "      <td>134.486898</td>\n",
       "      <td>70.475386</td>\n",
       "      <td>24.371978</td>\n",
       "      <td>29.867950</td>\n",
       "      <td>69.0</td>\n",
       "      <td>1188.943158</td>\n",
       "      <td>400.072069</td>\n",
       "      <td>0</td>\n",
       "      <td>1</td>\n",
       "      <td>0</td>\n",
       "      <td>1</td>\n",
       "      <td>5.322072</td>\n",
       "      <td>4.415969</td>\n",
       "    </tr>\n",
       "    <tr>\n",
       "      <th>3</th>\n",
       "      <td>2018-09-21 05:11:44.833176</td>\n",
       "      <td>2018-09-22 10:08:32.593022</td>\n",
       "      <td>2018-09-22 19:17:22.242888</td>\n",
       "      <td>705.451567</td>\n",
       "      <td>176</td>\n",
       "      <td>2018-09-22 14:09:17</td>\n",
       "      <td>262.866674</td>\n",
       "      <td>101.876844</td>\n",
       "      <td>19.588977</td>\n",
       "      <td>27.794019</td>\n",
       "      <td>300.0</td>\n",
       "      <td>999.421258</td>\n",
       "      <td>510.123878</td>\n",
       "      <td>0</td>\n",
       "      <td>1</td>\n",
       "      <td>0</td>\n",
       "      <td>1</td>\n",
       "      <td>4.265799</td>\n",
       "      <td>2.946647</td>\n",
       "    </tr>\n",
       "    <tr>\n",
       "      <th>4</th>\n",
       "      <td>2018-09-18 01:10:49.936747</td>\n",
       "      <td>2018-09-18 01:10:49.936747</td>\n",
       "      <td>2018-09-18 17:58:48.449251</td>\n",
       "      <td>1109.682268</td>\n",
       "      <td>198</td>\n",
       "      <td>2018-09-18 12:14:05</td>\n",
       "      <td>379.389280</td>\n",
       "      <td>46.571301</td>\n",
       "      <td>22.671495</td>\n",
       "      <td>26.971844</td>\n",
       "      <td>286.0</td>\n",
       "      <td>869.045744</td>\n",
       "      <td>645.031637</td>\n",
       "      <td>0</td>\n",
       "      <td>1</td>\n",
       "      <td>0</td>\n",
       "      <td>1</td>\n",
       "      <td>3.553652</td>\n",
       "      <td>1.998790</td>\n",
       "    </tr>\n",
       "  </tbody>\n",
       "</table>\n",
       "</div>"
      ],
      "text/plain": [
       "           trip_creation_time               od_start_time  \\\n",
       "0  2018-09-15 02:23:18.656742  2018-09-15 02:23:18.656742   \n",
       "1  2018-09-30 15:07:48.971326  2018-09-30 22:38:13.903069   \n",
       "2  2018-09-23 22:15:46.635975  2018-09-24 03:56:37.016232   \n",
       "3  2018-09-21 05:11:44.833176  2018-09-22 10:08:32.593022   \n",
       "4  2018-09-18 01:10:49.936747  2018-09-18 01:10:49.936747   \n",
       "\n",
       "                  od_end_time  start_scan_to_end_scan  cutoff_factor  \\\n",
       "0  2018-09-15 06:33:35.824186              713.521495             44   \n",
       "1  2018-10-01 06:48:37.637477              902.759458             22   \n",
       "2  2018-09-24 11:15:00.826140              923.666146             22   \n",
       "3  2018-09-22 19:17:22.242888              705.451567            176   \n",
       "4  2018-09-18 17:58:48.449251             1109.682268            198   \n",
       "\n",
       "      cutoff_timestamp  actual_distance_to_destination  segment_actual_time  \\\n",
       "0  2018-09-15 04:45:23                      158.807515            77.988686   \n",
       "1  2018-10-01 05:38:30                       81.388109            68.517914   \n",
       "2  2018-09-24 09:21:30                      134.486898            70.475386   \n",
       "3  2018-09-22 14:09:17                      262.866674           101.876844   \n",
       "4  2018-09-18 12:14:05                      379.389280            46.571301   \n",
       "\n",
       "   segment_osrm_time  segment_osrm_distance  actual_time  osrm_distance_mean  \\\n",
       "0          20.793472              28.475783        100.0         1228.735753   \n",
       "1          18.787231              34.612259         61.0          869.045744   \n",
       "2          24.371978              29.867950         69.0         1188.943158   \n",
       "3          19.588977              27.794019        300.0          999.421258   \n",
       "4          22.671495              26.971844        286.0          869.045744   \n",
       "\n",
       "   osrm_time_mean  False  True  Carting  FTL  segment_factor_mean  factor_mean  \n",
       "0      778.672716      0     1        0    1             3.292773     2.782826  \n",
       "1      227.479029      0     1        0    1             4.277350     3.625248  \n",
       "2      400.072069      0     1        0    1             5.322072     4.415969  \n",
       "3      510.123878      0     1        0    1             4.265799     2.946647  \n",
       "4      645.031637      0     1        0    1             3.553652     1.998790  "
      ]
     },
     "execution_count": 38,
     "metadata": {},
     "output_type": "execute_result"
    }
   ],
   "source": [
    "train_df.head()"
   ]
  },
  {
   "cell_type": "code",
   "execution_count": 39,
   "id": "d7e83946",
   "metadata": {
    "execution": {
     "iopub.execute_input": "2023-04-02T18:52:49.741880Z",
     "iopub.status.busy": "2023-04-02T18:52:49.741090Z",
     "iopub.status.idle": "2023-04-02T18:52:49.914120Z",
     "shell.execute_reply": "2023-04-02T18:52:49.913074Z"
    },
    "papermill": {
     "duration": 0.201944,
     "end_time": "2023-04-02T18:52:49.916714",
     "exception": false,
     "start_time": "2023-04-02T18:52:49.714770",
     "status": "completed"
    },
    "tags": []
   },
   "outputs": [],
   "source": [
    "train_df['trip_creation_time'] = pd.to_datetime(train_df['trip_creation_time']) \n",
    "train_df['od_start_time'] = pd.to_datetime(train_df['od_start_time'])\n",
    "train_df['od_end_time'] = pd.to_datetime(train_df['od_end_time'])\n",
    "train_df['cutoff_timestamp'] = pd.to_datetime(train_df['cutoff_timestamp'])\n",
    "\n",
    "test_df['trip_creation_time'] = pd.to_datetime(test_df['trip_creation_time']) \n",
    "test_df['od_start_time'] = pd.to_datetime(test_df['od_start_time'])\n",
    "test_df['od_end_time'] = pd.to_datetime(test_df['od_end_time'])\n",
    "test_df['cutoff_timestamp'] = pd.to_datetime(test_df['cutoff_timestamp'])"
   ]
  },
  {
   "cell_type": "code",
   "execution_count": 40,
   "id": "ffbe7a10",
   "metadata": {
    "execution": {
     "iopub.execute_input": "2023-04-02T18:52:49.967400Z",
     "iopub.status.busy": "2023-04-02T18:52:49.966981Z",
     "iopub.status.idle": "2023-04-02T18:52:50.073813Z",
     "shell.execute_reply": "2023-04-02T18:52:50.072441Z"
    },
    "papermill": {
     "duration": 0.134982,
     "end_time": "2023-04-02T18:52:50.076741",
     "exception": false,
     "start_time": "2023-04-02T18:52:49.941759",
     "status": "completed"
    },
    "tags": []
   },
   "outputs": [],
   "source": [
    "train_df['od_start_year'] = train_df['od_start_time'].dt.year.astype('int64')\n",
    "train_df['od_start_month'] = train_df['od_start_time'].dt.month.astype('int64')\n",
    "train_df['od_start_day'] = train_df['od_start_time'].dt.day.astype('int64')\n",
    "train_df['od_start_hour'] = train_df['od_start_time'].dt.hour.astype('int64')\n",
    "train_df['od_start_hour'] = train_df['od_start_time'].dt.minute.astype('int64')\n",
    "train_df['od_start_hour'] = train_df['od_start_time'].dt.second.astype('int64')\n",
    "\n",
    "test_df['od_start_year'] = test_df['od_start_time'].dt.year.astype('int64')\n",
    "test_df['od_start_month'] = test_df['od_start_time'].dt.month.astype('int64')\n",
    "test_df['od_start_day'] = test_df['od_start_time'].dt.day.astype('int64')\n",
    "test_df['od_start_hour'] = test_df['od_start_time'].dt.hour.astype('int64')\n",
    "test_df['od_start_hour'] = test_df['od_start_time'].dt.minute.astype('int64')\n",
    "test_df['od_start_hour'] = test_df['od_start_time'].dt.second.astype('int64')"
   ]
  },
  {
   "cell_type": "code",
   "execution_count": 41,
   "id": "27e3903e",
   "metadata": {
    "execution": {
     "iopub.execute_input": "2023-04-02T18:52:50.125814Z",
     "iopub.status.busy": "2023-04-02T18:52:50.125358Z",
     "iopub.status.idle": "2023-04-02T18:52:50.234204Z",
     "shell.execute_reply": "2023-04-02T18:52:50.232915Z"
    },
    "papermill": {
     "duration": 0.136793,
     "end_time": "2023-04-02T18:52:50.237217",
     "exception": false,
     "start_time": "2023-04-02T18:52:50.100424",
     "status": "completed"
    },
    "tags": []
   },
   "outputs": [],
   "source": [
    "train_df['trip_creation_year'] = train_df['trip_creation_time'].dt.year.astype('int64')\n",
    "train_df['trip_creation_month'] = train_df['trip_creation_time'].dt.month.astype('int64')\n",
    "train_df['trip_creation_day'] = train_df['trip_creation_time'].dt.day.astype('int64')\n",
    "train_df['trip_creation_hour'] = train_df['trip_creation_time'].dt.hour.astype('int64')\n",
    "train_df['trip_creation_hour'] = train_df['trip_creation_time'].dt.minute.astype('int64')\n",
    "train_df['trip_creation_hour'] = train_df['trip_creation_time'].dt.second.astype('int64')\n",
    "\n",
    "test_df['trip_creation_year'] = test_df['trip_creation_time'].dt.year.astype('int64')\n",
    "test_df['trip_creation_month'] = test_df['trip_creation_time'].dt.month.astype('int64')\n",
    "test_df['trip_creation_day'] = test_df['trip_creation_time'].dt.day.astype('int64')\n",
    "test_df['trip_creation_hour'] = test_df['trip_creation_time'].dt.hour.astype('int64')\n",
    "test_df['trip_creation_hour'] = test_df['trip_creation_time'].dt.minute.astype('int64')\n",
    "test_df['trip_creation_hour'] = test_df['trip_creation_time'].dt.second.astype('int64')"
   ]
  },
  {
   "cell_type": "code",
   "execution_count": 42,
   "id": "c2c5db45",
   "metadata": {
    "execution": {
     "iopub.execute_input": "2023-04-02T18:52:50.288600Z",
     "iopub.status.busy": "2023-04-02T18:52:50.287325Z",
     "iopub.status.idle": "2023-04-02T18:52:50.395790Z",
     "shell.execute_reply": "2023-04-02T18:52:50.394175Z"
    },
    "papermill": {
     "duration": 0.137604,
     "end_time": "2023-04-02T18:52:50.398853",
     "exception": false,
     "start_time": "2023-04-02T18:52:50.261249",
     "status": "completed"
    },
    "tags": []
   },
   "outputs": [],
   "source": [
    "train_df['od_end_year'] = train_df['od_end_time'].dt.year.astype('int64')\n",
    "train_df['od_end_month'] = train_df['od_end_time'].dt.month.astype('int64')\n",
    "train_df['od_end_day'] = train_df['od_end_time'].dt.day.astype('int64')\n",
    "train_df['od_end_hour'] = train_df['od_end_time'].dt.hour.astype('int64')\n",
    "train_df['od_end_hour'] = train_df['od_end_time'].dt.minute.astype('int64')\n",
    "train_df['od_end_hour'] = train_df['od_end_time'].dt.second.astype('int64')\n",
    "\n",
    "test_df['od_end_year'] = test_df['od_end_time'].dt.year.astype('int64')\n",
    "test_df['od_end_month'] = test_df['od_end_time'].dt.month.astype('int64')\n",
    "test_df['od_end_day'] = test_df['od_end_time'].dt.day.astype('int64')\n",
    "test_df['od_end_hour'] = test_df['od_end_time'].dt.hour.astype('int64')\n",
    "test_df['od_end_hour'] = test_df['od_end_time'].dt.minute.astype('int64')\n",
    "test_df['od_end_hour'] = test_df['od_end_time'].dt.second.astype('int64')"
   ]
  },
  {
   "cell_type": "code",
   "execution_count": 43,
   "id": "1b97b729",
   "metadata": {
    "execution": {
     "iopub.execute_input": "2023-04-02T18:52:50.449244Z",
     "iopub.status.busy": "2023-04-02T18:52:50.448782Z",
     "iopub.status.idle": "2023-04-02T18:52:50.556271Z",
     "shell.execute_reply": "2023-04-02T18:52:50.554932Z"
    },
    "papermill": {
     "duration": 0.135951,
     "end_time": "2023-04-02T18:52:50.559006",
     "exception": false,
     "start_time": "2023-04-02T18:52:50.423055",
     "status": "completed"
    },
    "tags": []
   },
   "outputs": [],
   "source": [
    "train_df['cutoff_timestamp_year'] = train_df['cutoff_timestamp'].dt.year.astype('int64')\n",
    "train_df['cutoff_timestamp_month'] = train_df['cutoff_timestamp'].dt.month.astype('int64')\n",
    "train_df['cutoff_timestamp_day'] = train_df['cutoff_timestamp'].dt.day.astype('int64')\n",
    "train_df['cutoff_timestamp_hour'] = train_df['cutoff_timestamp'].dt.hour.astype('int64')\n",
    "train_df['cutoff_timestamp_hour'] = train_df['cutoff_timestamp'].dt.minute.astype('int64')\n",
    "train_df['cutoff_timestamp_hour'] = train_df['cutoff_timestamp'].dt.second.astype('int64')\n",
    "\n",
    "test_df['cutoff_timestamp_year'] = test_df['cutoff_timestamp'].dt.year.astype('int64')\n",
    "test_df['cutoff_timestamp_month'] = test_df['cutoff_timestamp'].dt.month.astype('int64')\n",
    "test_df['cutoff_timestamp_day'] = test_df['cutoff_timestamp'].dt.day.astype('int64')\n",
    "test_df['cutoff_timestamp_hour'] = test_df['cutoff_timestamp'].dt.hour.astype('int64')\n",
    "test_df['cutoff_timestamp_hour'] = test_df['cutoff_timestamp'].dt.minute.astype('int64')\n",
    "test_df['cutoff_timestamp_hour'] = test_df['cutoff_timestamp'].dt.second.astype('int64')\n"
   ]
  },
  {
   "cell_type": "code",
   "execution_count": 44,
   "id": "d7fe89e8",
   "metadata": {
    "execution": {
     "iopub.execute_input": "2023-04-02T18:52:50.609110Z",
     "iopub.status.busy": "2023-04-02T18:52:50.608316Z",
     "iopub.status.idle": "2023-04-02T18:52:50.632913Z",
     "shell.execute_reply": "2023-04-02T18:52:50.631613Z"
    },
    "papermill": {
     "duration": 0.052673,
     "end_time": "2023-04-02T18:52:50.635558",
     "exception": false,
     "start_time": "2023-04-02T18:52:50.582885",
     "status": "completed"
    },
    "tags": []
   },
   "outputs": [
    {
     "data": {
      "text/html": [
       "<div>\n",
       "<style scoped>\n",
       "    .dataframe tbody tr th:only-of-type {\n",
       "        vertical-align: middle;\n",
       "    }\n",
       "\n",
       "    .dataframe tbody tr th {\n",
       "        vertical-align: top;\n",
       "    }\n",
       "\n",
       "    .dataframe thead th {\n",
       "        text-align: right;\n",
       "    }\n",
       "</style>\n",
       "<table border=\"1\" class=\"dataframe\">\n",
       "  <thead>\n",
       "    <tr style=\"text-align: right;\">\n",
       "      <th></th>\n",
       "      <th>trip_creation_time</th>\n",
       "      <th>od_start_time</th>\n",
       "      <th>od_end_time</th>\n",
       "      <th>start_scan_to_end_scan</th>\n",
       "      <th>cutoff_factor</th>\n",
       "      <th>cutoff_timestamp</th>\n",
       "      <th>actual_distance_to_destination</th>\n",
       "      <th>segment_actual_time</th>\n",
       "      <th>segment_osrm_time</th>\n",
       "      <th>segment_osrm_distance</th>\n",
       "      <th>...</th>\n",
       "      <th>trip_creation_day</th>\n",
       "      <th>trip_creation_hour</th>\n",
       "      <th>od_end_year</th>\n",
       "      <th>od_end_month</th>\n",
       "      <th>od_end_day</th>\n",
       "      <th>od_end_hour</th>\n",
       "      <th>cutoff_timestamp_year</th>\n",
       "      <th>cutoff_timestamp_month</th>\n",
       "      <th>cutoff_timestamp_day</th>\n",
       "      <th>cutoff_timestamp_hour</th>\n",
       "    </tr>\n",
       "  </thead>\n",
       "  <tbody>\n",
       "    <tr>\n",
       "      <th>0</th>\n",
       "      <td>2018-09-15 02:23:18.656742</td>\n",
       "      <td>2018-09-15 02:23:18.656742</td>\n",
       "      <td>2018-09-15 06:33:35.824186</td>\n",
       "      <td>713.521495</td>\n",
       "      <td>44</td>\n",
       "      <td>2018-09-15 04:45:23</td>\n",
       "      <td>158.807515</td>\n",
       "      <td>77.988686</td>\n",
       "      <td>20.793472</td>\n",
       "      <td>28.475783</td>\n",
       "      <td>...</td>\n",
       "      <td>15</td>\n",
       "      <td>18</td>\n",
       "      <td>2018</td>\n",
       "      <td>9</td>\n",
       "      <td>15</td>\n",
       "      <td>35</td>\n",
       "      <td>2018</td>\n",
       "      <td>9</td>\n",
       "      <td>15</td>\n",
       "      <td>23</td>\n",
       "    </tr>\n",
       "    <tr>\n",
       "      <th>1</th>\n",
       "      <td>2018-09-30 15:07:48.971326</td>\n",
       "      <td>2018-09-30 22:38:13.903069</td>\n",
       "      <td>2018-10-01 06:48:37.637477</td>\n",
       "      <td>902.759458</td>\n",
       "      <td>22</td>\n",
       "      <td>2018-10-01 05:38:30</td>\n",
       "      <td>81.388109</td>\n",
       "      <td>68.517914</td>\n",
       "      <td>18.787231</td>\n",
       "      <td>34.612259</td>\n",
       "      <td>...</td>\n",
       "      <td>30</td>\n",
       "      <td>48</td>\n",
       "      <td>2018</td>\n",
       "      <td>10</td>\n",
       "      <td>1</td>\n",
       "      <td>37</td>\n",
       "      <td>2018</td>\n",
       "      <td>10</td>\n",
       "      <td>1</td>\n",
       "      <td>30</td>\n",
       "    </tr>\n",
       "    <tr>\n",
       "      <th>2</th>\n",
       "      <td>2018-09-23 22:15:46.635975</td>\n",
       "      <td>2018-09-24 03:56:37.016232</td>\n",
       "      <td>2018-09-24 11:15:00.826140</td>\n",
       "      <td>923.666146</td>\n",
       "      <td>22</td>\n",
       "      <td>2018-09-24 09:21:30</td>\n",
       "      <td>134.486898</td>\n",
       "      <td>70.475386</td>\n",
       "      <td>24.371978</td>\n",
       "      <td>29.867950</td>\n",
       "      <td>...</td>\n",
       "      <td>23</td>\n",
       "      <td>46</td>\n",
       "      <td>2018</td>\n",
       "      <td>9</td>\n",
       "      <td>24</td>\n",
       "      <td>0</td>\n",
       "      <td>2018</td>\n",
       "      <td>9</td>\n",
       "      <td>24</td>\n",
       "      <td>30</td>\n",
       "    </tr>\n",
       "    <tr>\n",
       "      <th>3</th>\n",
       "      <td>2018-09-21 05:11:44.833176</td>\n",
       "      <td>2018-09-22 10:08:32.593022</td>\n",
       "      <td>2018-09-22 19:17:22.242888</td>\n",
       "      <td>705.451567</td>\n",
       "      <td>176</td>\n",
       "      <td>2018-09-22 14:09:17</td>\n",
       "      <td>262.866674</td>\n",
       "      <td>101.876844</td>\n",
       "      <td>19.588977</td>\n",
       "      <td>27.794019</td>\n",
       "      <td>...</td>\n",
       "      <td>21</td>\n",
       "      <td>44</td>\n",
       "      <td>2018</td>\n",
       "      <td>9</td>\n",
       "      <td>22</td>\n",
       "      <td>22</td>\n",
       "      <td>2018</td>\n",
       "      <td>9</td>\n",
       "      <td>22</td>\n",
       "      <td>17</td>\n",
       "    </tr>\n",
       "    <tr>\n",
       "      <th>4</th>\n",
       "      <td>2018-09-18 01:10:49.936747</td>\n",
       "      <td>2018-09-18 01:10:49.936747</td>\n",
       "      <td>2018-09-18 17:58:48.449251</td>\n",
       "      <td>1109.682268</td>\n",
       "      <td>198</td>\n",
       "      <td>2018-09-18 12:14:05</td>\n",
       "      <td>379.389280</td>\n",
       "      <td>46.571301</td>\n",
       "      <td>22.671495</td>\n",
       "      <td>26.971844</td>\n",
       "      <td>...</td>\n",
       "      <td>18</td>\n",
       "      <td>49</td>\n",
       "      <td>2018</td>\n",
       "      <td>9</td>\n",
       "      <td>18</td>\n",
       "      <td>48</td>\n",
       "      <td>2018</td>\n",
       "      <td>9</td>\n",
       "      <td>18</td>\n",
       "      <td>5</td>\n",
       "    </tr>\n",
       "  </tbody>\n",
       "</table>\n",
       "<p>5 rows × 35 columns</p>\n",
       "</div>"
      ],
      "text/plain": [
       "          trip_creation_time              od_start_time  \\\n",
       "0 2018-09-15 02:23:18.656742 2018-09-15 02:23:18.656742   \n",
       "1 2018-09-30 15:07:48.971326 2018-09-30 22:38:13.903069   \n",
       "2 2018-09-23 22:15:46.635975 2018-09-24 03:56:37.016232   \n",
       "3 2018-09-21 05:11:44.833176 2018-09-22 10:08:32.593022   \n",
       "4 2018-09-18 01:10:49.936747 2018-09-18 01:10:49.936747   \n",
       "\n",
       "                 od_end_time  start_scan_to_end_scan  cutoff_factor  \\\n",
       "0 2018-09-15 06:33:35.824186              713.521495             44   \n",
       "1 2018-10-01 06:48:37.637477              902.759458             22   \n",
       "2 2018-09-24 11:15:00.826140              923.666146             22   \n",
       "3 2018-09-22 19:17:22.242888              705.451567            176   \n",
       "4 2018-09-18 17:58:48.449251             1109.682268            198   \n",
       "\n",
       "     cutoff_timestamp  actual_distance_to_destination  segment_actual_time  \\\n",
       "0 2018-09-15 04:45:23                      158.807515            77.988686   \n",
       "1 2018-10-01 05:38:30                       81.388109            68.517914   \n",
       "2 2018-09-24 09:21:30                      134.486898            70.475386   \n",
       "3 2018-09-22 14:09:17                      262.866674           101.876844   \n",
       "4 2018-09-18 12:14:05                      379.389280            46.571301   \n",
       "\n",
       "   segment_osrm_time  segment_osrm_distance  ...  trip_creation_day  \\\n",
       "0          20.793472              28.475783  ...                 15   \n",
       "1          18.787231              34.612259  ...                 30   \n",
       "2          24.371978              29.867950  ...                 23   \n",
       "3          19.588977              27.794019  ...                 21   \n",
       "4          22.671495              26.971844  ...                 18   \n",
       "\n",
       "   trip_creation_hour  od_end_year  od_end_month  od_end_day  od_end_hour  \\\n",
       "0                  18         2018             9          15           35   \n",
       "1                  48         2018            10           1           37   \n",
       "2                  46         2018             9          24            0   \n",
       "3                  44         2018             9          22           22   \n",
       "4                  49         2018             9          18           48   \n",
       "\n",
       "   cutoff_timestamp_year  cutoff_timestamp_month  cutoff_timestamp_day  \\\n",
       "0                   2018                       9                    15   \n",
       "1                   2018                      10                     1   \n",
       "2                   2018                       9                    24   \n",
       "3                   2018                       9                    22   \n",
       "4                   2018                       9                    18   \n",
       "\n",
       "   cutoff_timestamp_hour  \n",
       "0                     23  \n",
       "1                     30  \n",
       "2                     30  \n",
       "3                     17  \n",
       "4                      5  \n",
       "\n",
       "[5 rows x 35 columns]"
      ]
     },
     "execution_count": 44,
     "metadata": {},
     "output_type": "execute_result"
    }
   ],
   "source": [
    "train_df.head()"
   ]
  },
  {
   "cell_type": "code",
   "execution_count": 45,
   "id": "9662f987",
   "metadata": {
    "execution": {
     "iopub.execute_input": "2023-04-02T18:52:50.685883Z",
     "iopub.status.busy": "2023-04-02T18:52:50.685443Z",
     "iopub.status.idle": "2023-04-02T18:52:50.718133Z",
     "shell.execute_reply": "2023-04-02T18:52:50.716803Z"
    },
    "papermill": {
     "duration": 0.061095,
     "end_time": "2023-04-02T18:52:50.720890",
     "exception": false,
     "start_time": "2023-04-02T18:52:50.659795",
     "status": "completed"
    },
    "tags": []
   },
   "outputs": [],
   "source": [
    "train_df.drop(['od_start_time','trip_creation_time','od_end_time','cutoff_timestamp'],axis=1, inplace=True)\n",
    "test_df.drop(['od_start_time','trip_creation_time','od_end_time','cutoff_timestamp'],axis=1, inplace=True)"
   ]
  },
  {
   "cell_type": "code",
   "execution_count": 46,
   "id": "ecb456bd",
   "metadata": {
    "execution": {
     "iopub.execute_input": "2023-04-02T18:52:50.772041Z",
     "iopub.status.busy": "2023-04-02T18:52:50.771176Z",
     "iopub.status.idle": "2023-04-02T18:52:50.793867Z",
     "shell.execute_reply": "2023-04-02T18:52:50.792661Z"
    },
    "papermill": {
     "duration": 0.051125,
     "end_time": "2023-04-02T18:52:50.796295",
     "exception": false,
     "start_time": "2023-04-02T18:52:50.745170",
     "status": "completed"
    },
    "tags": []
   },
   "outputs": [
    {
     "data": {
      "text/html": [
       "<div>\n",
       "<style scoped>\n",
       "    .dataframe tbody tr th:only-of-type {\n",
       "        vertical-align: middle;\n",
       "    }\n",
       "\n",
       "    .dataframe tbody tr th {\n",
       "        vertical-align: top;\n",
       "    }\n",
       "\n",
       "    .dataframe thead th {\n",
       "        text-align: right;\n",
       "    }\n",
       "</style>\n",
       "<table border=\"1\" class=\"dataframe\">\n",
       "  <thead>\n",
       "    <tr style=\"text-align: right;\">\n",
       "      <th></th>\n",
       "      <th>start_scan_to_end_scan</th>\n",
       "      <th>cutoff_factor</th>\n",
       "      <th>actual_distance_to_destination</th>\n",
       "      <th>segment_actual_time</th>\n",
       "      <th>segment_osrm_time</th>\n",
       "      <th>segment_osrm_distance</th>\n",
       "      <th>actual_time</th>\n",
       "      <th>osrm_distance_mean</th>\n",
       "      <th>osrm_time_mean</th>\n",
       "      <th>False</th>\n",
       "      <th>...</th>\n",
       "      <th>trip_creation_day</th>\n",
       "      <th>trip_creation_hour</th>\n",
       "      <th>od_end_year</th>\n",
       "      <th>od_end_month</th>\n",
       "      <th>od_end_day</th>\n",
       "      <th>od_end_hour</th>\n",
       "      <th>cutoff_timestamp_year</th>\n",
       "      <th>cutoff_timestamp_month</th>\n",
       "      <th>cutoff_timestamp_day</th>\n",
       "      <th>cutoff_timestamp_hour</th>\n",
       "    </tr>\n",
       "  </thead>\n",
       "  <tbody>\n",
       "    <tr>\n",
       "      <th>0</th>\n",
       "      <td>713.521495</td>\n",
       "      <td>44</td>\n",
       "      <td>158.807515</td>\n",
       "      <td>77.988686</td>\n",
       "      <td>20.793472</td>\n",
       "      <td>28.475783</td>\n",
       "      <td>100.0</td>\n",
       "      <td>1228.735753</td>\n",
       "      <td>778.672716</td>\n",
       "      <td>0</td>\n",
       "      <td>...</td>\n",
       "      <td>15</td>\n",
       "      <td>18</td>\n",
       "      <td>2018</td>\n",
       "      <td>9</td>\n",
       "      <td>15</td>\n",
       "      <td>35</td>\n",
       "      <td>2018</td>\n",
       "      <td>9</td>\n",
       "      <td>15</td>\n",
       "      <td>23</td>\n",
       "    </tr>\n",
       "    <tr>\n",
       "      <th>1</th>\n",
       "      <td>902.759458</td>\n",
       "      <td>22</td>\n",
       "      <td>81.388109</td>\n",
       "      <td>68.517914</td>\n",
       "      <td>18.787231</td>\n",
       "      <td>34.612259</td>\n",
       "      <td>61.0</td>\n",
       "      <td>869.045744</td>\n",
       "      <td>227.479029</td>\n",
       "      <td>0</td>\n",
       "      <td>...</td>\n",
       "      <td>30</td>\n",
       "      <td>48</td>\n",
       "      <td>2018</td>\n",
       "      <td>10</td>\n",
       "      <td>1</td>\n",
       "      <td>37</td>\n",
       "      <td>2018</td>\n",
       "      <td>10</td>\n",
       "      <td>1</td>\n",
       "      <td>30</td>\n",
       "    </tr>\n",
       "    <tr>\n",
       "      <th>2</th>\n",
       "      <td>923.666146</td>\n",
       "      <td>22</td>\n",
       "      <td>134.486898</td>\n",
       "      <td>70.475386</td>\n",
       "      <td>24.371978</td>\n",
       "      <td>29.867950</td>\n",
       "      <td>69.0</td>\n",
       "      <td>1188.943158</td>\n",
       "      <td>400.072069</td>\n",
       "      <td>0</td>\n",
       "      <td>...</td>\n",
       "      <td>23</td>\n",
       "      <td>46</td>\n",
       "      <td>2018</td>\n",
       "      <td>9</td>\n",
       "      <td>24</td>\n",
       "      <td>0</td>\n",
       "      <td>2018</td>\n",
       "      <td>9</td>\n",
       "      <td>24</td>\n",
       "      <td>30</td>\n",
       "    </tr>\n",
       "    <tr>\n",
       "      <th>3</th>\n",
       "      <td>705.451567</td>\n",
       "      <td>176</td>\n",
       "      <td>262.866674</td>\n",
       "      <td>101.876844</td>\n",
       "      <td>19.588977</td>\n",
       "      <td>27.794019</td>\n",
       "      <td>300.0</td>\n",
       "      <td>999.421258</td>\n",
       "      <td>510.123878</td>\n",
       "      <td>0</td>\n",
       "      <td>...</td>\n",
       "      <td>21</td>\n",
       "      <td>44</td>\n",
       "      <td>2018</td>\n",
       "      <td>9</td>\n",
       "      <td>22</td>\n",
       "      <td>22</td>\n",
       "      <td>2018</td>\n",
       "      <td>9</td>\n",
       "      <td>22</td>\n",
       "      <td>17</td>\n",
       "    </tr>\n",
       "    <tr>\n",
       "      <th>4</th>\n",
       "      <td>1109.682268</td>\n",
       "      <td>198</td>\n",
       "      <td>379.389280</td>\n",
       "      <td>46.571301</td>\n",
       "      <td>22.671495</td>\n",
       "      <td>26.971844</td>\n",
       "      <td>286.0</td>\n",
       "      <td>869.045744</td>\n",
       "      <td>645.031637</td>\n",
       "      <td>0</td>\n",
       "      <td>...</td>\n",
       "      <td>18</td>\n",
       "      <td>49</td>\n",
       "      <td>2018</td>\n",
       "      <td>9</td>\n",
       "      <td>18</td>\n",
       "      <td>48</td>\n",
       "      <td>2018</td>\n",
       "      <td>9</td>\n",
       "      <td>18</td>\n",
       "      <td>5</td>\n",
       "    </tr>\n",
       "  </tbody>\n",
       "</table>\n",
       "<p>5 rows × 31 columns</p>\n",
       "</div>"
      ],
      "text/plain": [
       "   start_scan_to_end_scan  cutoff_factor  actual_distance_to_destination  \\\n",
       "0              713.521495             44                      158.807515   \n",
       "1              902.759458             22                       81.388109   \n",
       "2              923.666146             22                      134.486898   \n",
       "3              705.451567            176                      262.866674   \n",
       "4             1109.682268            198                      379.389280   \n",
       "\n",
       "   segment_actual_time  segment_osrm_time  segment_osrm_distance  actual_time  \\\n",
       "0            77.988686          20.793472              28.475783        100.0   \n",
       "1            68.517914          18.787231              34.612259         61.0   \n",
       "2            70.475386          24.371978              29.867950         69.0   \n",
       "3           101.876844          19.588977              27.794019        300.0   \n",
       "4            46.571301          22.671495              26.971844        286.0   \n",
       "\n",
       "   osrm_distance_mean  osrm_time_mean  False  ...  trip_creation_day  \\\n",
       "0         1228.735753      778.672716      0  ...                 15   \n",
       "1          869.045744      227.479029      0  ...                 30   \n",
       "2         1188.943158      400.072069      0  ...                 23   \n",
       "3          999.421258      510.123878      0  ...                 21   \n",
       "4          869.045744      645.031637      0  ...                 18   \n",
       "\n",
       "   trip_creation_hour  od_end_year  od_end_month  od_end_day  od_end_hour  \\\n",
       "0                  18         2018             9          15           35   \n",
       "1                  48         2018            10           1           37   \n",
       "2                  46         2018             9          24            0   \n",
       "3                  44         2018             9          22           22   \n",
       "4                  49         2018             9          18           48   \n",
       "\n",
       "   cutoff_timestamp_year  cutoff_timestamp_month  cutoff_timestamp_day  \\\n",
       "0                   2018                       9                    15   \n",
       "1                   2018                      10                     1   \n",
       "2                   2018                       9                    24   \n",
       "3                   2018                       9                    22   \n",
       "4                   2018                       9                    18   \n",
       "\n",
       "   cutoff_timestamp_hour  \n",
       "0                     23  \n",
       "1                     30  \n",
       "2                     30  \n",
       "3                     17  \n",
       "4                      5  \n",
       "\n",
       "[5 rows x 31 columns]"
      ]
     },
     "execution_count": 46,
     "metadata": {},
     "output_type": "execute_result"
    }
   ],
   "source": [
    "train_df.head()"
   ]
  },
  {
   "cell_type": "code",
   "execution_count": 47,
   "id": "6869756b",
   "metadata": {
    "execution": {
     "iopub.execute_input": "2023-04-02T18:52:50.847751Z",
     "iopub.status.busy": "2023-04-02T18:52:50.846982Z",
     "iopub.status.idle": "2023-04-02T18:52:50.857997Z",
     "shell.execute_reply": "2023-04-02T18:52:50.857008Z"
    },
    "papermill": {
     "duration": 0.039215,
     "end_time": "2023-04-02T18:52:50.860171",
     "exception": false,
     "start_time": "2023-04-02T18:52:50.820956",
     "status": "completed"
    },
    "tags": []
   },
   "outputs": [],
   "source": [
    "test_df.drop(['UID'],axis=1,inplace=True)"
   ]
  },
  {
   "cell_type": "code",
   "execution_count": 48,
   "id": "147525f7",
   "metadata": {
    "execution": {
     "iopub.execute_input": "2023-04-02T18:52:50.911644Z",
     "iopub.status.busy": "2023-04-02T18:52:50.910460Z",
     "iopub.status.idle": "2023-04-02T18:52:50.919868Z",
     "shell.execute_reply": "2023-04-02T18:52:50.918726Z"
    },
    "papermill": {
     "duration": 0.037485,
     "end_time": "2023-04-02T18:52:50.922217",
     "exception": false,
     "start_time": "2023-04-02T18:52:50.884732",
     "status": "completed"
    },
    "tags": []
   },
   "outputs": [],
   "source": [
    "train_df.drop(['FTL'],axis=1,inplace=True)\n"
   ]
  },
  {
   "cell_type": "code",
   "execution_count": 49,
   "id": "423b2a51",
   "metadata": {
    "execution": {
     "iopub.execute_input": "2023-04-02T18:52:50.974670Z",
     "iopub.status.busy": "2023-04-02T18:52:50.973545Z",
     "iopub.status.idle": "2023-04-02T18:52:50.982758Z",
     "shell.execute_reply": "2023-04-02T18:52:50.981846Z"
    },
    "papermill": {
     "duration": 0.037645,
     "end_time": "2023-04-02T18:52:50.984985",
     "exception": false,
     "start_time": "2023-04-02T18:52:50.947340",
     "status": "completed"
    },
    "tags": []
   },
   "outputs": [],
   "source": [
    "test_df.drop(['FTL'],axis=1,inplace=True)"
   ]
  },
  {
   "cell_type": "code",
   "execution_count": 50,
   "id": "86c25191",
   "metadata": {
    "execution": {
     "iopub.execute_input": "2023-04-02T18:52:51.036510Z",
     "iopub.status.busy": "2023-04-02T18:52:51.035748Z",
     "iopub.status.idle": "2023-04-02T18:52:51.044032Z",
     "shell.execute_reply": "2023-04-02T18:52:51.042824Z"
    },
    "papermill": {
     "duration": 0.036479,
     "end_time": "2023-04-02T18:52:51.046353",
     "exception": false,
     "start_time": "2023-04-02T18:52:51.009874",
     "status": "completed"
    },
    "tags": []
   },
   "outputs": [
    {
     "data": {
      "text/plain": [
       "['start_scan_to_end_scan',\n",
       " 'cutoff_factor',\n",
       " 'actual_distance_to_destination',\n",
       " 'segment_actual_time',\n",
       " 'segment_osrm_time',\n",
       " 'segment_osrm_distance',\n",
       " 'actual_time',\n",
       " 'osrm_distance_mean',\n",
       " 'osrm_time_mean',\n",
       " False,\n",
       " True,\n",
       " 'Carting',\n",
       " 'segment_factor_mean',\n",
       " 'factor_mean',\n",
       " 'od_start_year',\n",
       " 'od_start_month',\n",
       " 'od_start_day',\n",
       " 'od_start_hour',\n",
       " 'trip_creation_year',\n",
       " 'trip_creation_month',\n",
       " 'trip_creation_day',\n",
       " 'trip_creation_hour',\n",
       " 'od_end_year',\n",
       " 'od_end_month',\n",
       " 'od_end_day',\n",
       " 'od_end_hour',\n",
       " 'cutoff_timestamp_year',\n",
       " 'cutoff_timestamp_month',\n",
       " 'cutoff_timestamp_day',\n",
       " 'cutoff_timestamp_hour']"
      ]
     },
     "execution_count": 50,
     "metadata": {},
     "output_type": "execute_result"
    }
   ],
   "source": [
    "train_df.columns.tolist()"
   ]
  },
  {
   "cell_type": "code",
   "execution_count": 51,
   "id": "b371d94a",
   "metadata": {
    "execution": {
     "iopub.execute_input": "2023-04-02T18:52:51.098923Z",
     "iopub.status.busy": "2023-04-02T18:52:51.098483Z",
     "iopub.status.idle": "2023-04-02T18:52:51.115959Z",
     "shell.execute_reply": "2023-04-02T18:52:51.114698Z"
    },
    "papermill": {
     "duration": 0.047184,
     "end_time": "2023-04-02T18:52:51.118626",
     "exception": false,
     "start_time": "2023-04-02T18:52:51.071442",
     "status": "completed"
    },
    "tags": []
   },
   "outputs": [],
   "source": [
    "y = train_df['actual_time']\n",
    "train_df.drop('actual_time',axis=1,inplace=True)\n",
    "X = train_df.values\n",
    "test = test_df"
   ]
  },
  {
   "cell_type": "code",
   "execution_count": 52,
   "id": "2a802d06",
   "metadata": {
    "execution": {
     "iopub.execute_input": "2023-04-02T18:52:51.169589Z",
     "iopub.status.busy": "2023-04-02T18:52:51.169129Z",
     "iopub.status.idle": "2023-04-02T18:52:51.409699Z",
     "shell.execute_reply": "2023-04-02T18:52:51.408523Z"
    },
    "papermill": {
     "duration": 0.26941,
     "end_time": "2023-04-02T18:52:51.412572",
     "exception": false,
     "start_time": "2023-04-02T18:52:51.143162",
     "status": "completed"
    },
    "tags": []
   },
   "outputs": [],
   "source": [
    "from sklearn.model_selection import train_test_split\n",
    "x_train, x_test, y_train, y_test = train_test_split(X, y, test_size=0.2, random_state=2084)"
   ]
  },
  {
   "cell_type": "code",
   "execution_count": 53,
   "id": "4a4a3ae7",
   "metadata": {
    "execution": {
     "iopub.execute_input": "2023-04-02T18:52:51.464231Z",
     "iopub.status.busy": "2023-04-02T18:52:51.463814Z",
     "iopub.status.idle": "2023-04-02T18:52:51.469650Z",
     "shell.execute_reply": "2023-04-02T18:52:51.468497Z"
    },
    "papermill": {
     "duration": 0.034493,
     "end_time": "2023-04-02T18:52:51.472358",
     "exception": false,
     "start_time": "2023-04-02T18:52:51.437865",
     "status": "completed"
    },
    "tags": []
   },
   "outputs": [],
   "source": [
    "xgb_params = {'learning_rate': 0.21332121304895782,\n",
    " 'reg_lambda': 0.015832777652673033,\n",
    " 'reg_alpha': 4.004765999790442e-06,\n",
    " 'subsample': 0.7633583263826937,\n",
    " 'colsample_bytree': 0.8016447134543976,\n",
    " 'max_depth': 7\n",
    "             ,'n_estimators':15,'eval_metric':'rmse'}"
   ]
  },
  {
   "cell_type": "code",
   "execution_count": 54,
   "id": "61db6af9",
   "metadata": {
    "execution": {
     "iopub.execute_input": "2023-04-02T18:52:51.524315Z",
     "iopub.status.busy": "2023-04-02T18:52:51.523624Z",
     "iopub.status.idle": "2023-04-02T18:53:01.889170Z",
     "shell.execute_reply": "2023-04-02T18:53:01.888124Z"
    },
    "papermill": {
     "duration": 10.395478,
     "end_time": "2023-04-02T18:53:01.892413",
     "exception": false,
     "start_time": "2023-04-02T18:52:51.496935",
     "status": "completed"
    },
    "tags": []
   },
   "outputs": [
    {
     "name": "stdout",
     "output_type": "stream",
     "text": [
      "[0]\tvalidation_0-rmse:517.40943\tvalidation_1-rmse:515.54985\n",
      "[1]\tvalidation_0-rmse:367.95198\tvalidation_1-rmse:366.50173\n",
      "[2]\tvalidation_0-rmse:264.44407\tvalidation_1-rmse:263.69666\n",
      "[3]\tvalidation_0-rmse:193.43145\tvalidation_1-rmse:193.21546\n",
      "[4]\tvalidation_0-rmse:145.60642\tvalidation_1-rmse:146.25407\n",
      "[5]\tvalidation_0-rmse:114.23460\tvalidation_1-rmse:115.82733\n",
      "[6]\tvalidation_0-rmse:94.50898\tvalidation_1-rmse:96.90193\n",
      "[7]\tvalidation_0-rmse:82.54371\tvalidation_1-rmse:85.85550\n",
      "[8]\tvalidation_0-rmse:75.30634\tvalidation_1-rmse:79.65796\n",
      "[9]\tvalidation_0-rmse:71.12902\tvalidation_1-rmse:75.98110\n",
      "[10]\tvalidation_0-rmse:68.58792\tvalidation_1-rmse:74.02072\n",
      "[11]\tvalidation_0-rmse:66.71632\tvalidation_1-rmse:72.62316\n",
      "[12]\tvalidation_0-rmse:65.23940\tvalidation_1-rmse:71.61200\n",
      "[13]\tvalidation_0-rmse:64.17813\tvalidation_1-rmse:70.73344\n",
      "[14]\tvalidation_0-rmse:63.44939\tvalidation_1-rmse:70.34505\n",
      "[15]\tvalidation_0-rmse:62.84109\tvalidation_1-rmse:70.15826\n",
      "[16]\tvalidation_0-rmse:62.44854\tvalidation_1-rmse:70.12872\n",
      "[17]\tvalidation_0-rmse:61.81001\tvalidation_1-rmse:69.67866\n",
      "[18]\tvalidation_0-rmse:61.03202\tvalidation_1-rmse:69.29233\n",
      "[19]\tvalidation_0-rmse:60.78672\tvalidation_1-rmse:69.20398\n",
      "[20]\tvalidation_0-rmse:60.05596\tvalidation_1-rmse:68.89250\n",
      "[21]\tvalidation_0-rmse:59.82027\tvalidation_1-rmse:68.81396\n",
      "[22]\tvalidation_0-rmse:59.48812\tvalidation_1-rmse:68.68553\n",
      "[23]\tvalidation_0-rmse:59.37256\tvalidation_1-rmse:68.65064\n",
      "[24]\tvalidation_0-rmse:58.67931\tvalidation_1-rmse:68.09502\n",
      "[25]\tvalidation_0-rmse:58.51605\tvalidation_1-rmse:68.00955\n",
      "[26]\tvalidation_0-rmse:58.30974\tvalidation_1-rmse:67.87458\n",
      "[27]\tvalidation_0-rmse:58.02142\tvalidation_1-rmse:67.81507\n",
      "[28]\tvalidation_0-rmse:57.47590\tvalidation_1-rmse:67.57096\n",
      "[29]\tvalidation_0-rmse:57.37980\tvalidation_1-rmse:67.54910\n",
      "[30]\tvalidation_0-rmse:57.02679\tvalidation_1-rmse:67.31004\n",
      "[31]\tvalidation_0-rmse:56.99553\tvalidation_1-rmse:67.32774\n",
      "[32]\tvalidation_0-rmse:56.73569\tvalidation_1-rmse:67.26538\n",
      "[33]\tvalidation_0-rmse:56.27448\tvalidation_1-rmse:67.05704\n",
      "[34]\tvalidation_0-rmse:55.88296\tvalidation_1-rmse:66.75011\n",
      "[35]\tvalidation_0-rmse:55.50024\tvalidation_1-rmse:66.70025\n",
      "[36]\tvalidation_0-rmse:55.13045\tvalidation_1-rmse:66.45621\n",
      "[37]\tvalidation_0-rmse:54.84624\tvalidation_1-rmse:66.41242\n",
      "[38]\tvalidation_0-rmse:54.18050\tvalidation_1-rmse:66.01553\n",
      "[39]\tvalidation_0-rmse:53.95173\tvalidation_1-rmse:66.01256\n",
      "[40]\tvalidation_0-rmse:53.90516\tvalidation_1-rmse:65.98124\n",
      "[41]\tvalidation_0-rmse:53.45049\tvalidation_1-rmse:65.68845\n",
      "[42]\tvalidation_0-rmse:53.22723\tvalidation_1-rmse:65.70381\n",
      "[43]\tvalidation_0-rmse:53.15430\tvalidation_1-rmse:65.68639\n",
      "[44]\tvalidation_0-rmse:53.07651\tvalidation_1-rmse:65.67375\n",
      "[45]\tvalidation_0-rmse:52.82586\tvalidation_1-rmse:65.64647\n",
      "[46]\tvalidation_0-rmse:52.47427\tvalidation_1-rmse:65.42529\n",
      "[47]\tvalidation_0-rmse:52.11070\tvalidation_1-rmse:65.20345\n",
      "[48]\tvalidation_0-rmse:51.80938\tvalidation_1-rmse:65.15697\n",
      "[49]\tvalidation_0-rmse:51.64126\tvalidation_1-rmse:65.11880\n",
      "[50]\tvalidation_0-rmse:51.29945\tvalidation_1-rmse:64.74282\n",
      "[51]\tvalidation_0-rmse:50.82792\tvalidation_1-rmse:64.52589\n",
      "[52]\tvalidation_0-rmse:50.56403\tvalidation_1-rmse:64.36276\n",
      "[53]\tvalidation_0-rmse:50.42466\tvalidation_1-rmse:64.33414\n",
      "[54]\tvalidation_0-rmse:50.04455\tvalidation_1-rmse:64.04789\n",
      "[55]\tvalidation_0-rmse:49.58305\tvalidation_1-rmse:63.81209\n",
      "[56]\tvalidation_0-rmse:49.30883\tvalidation_1-rmse:63.78861\n",
      "[57]\tvalidation_0-rmse:48.99115\tvalidation_1-rmse:63.52109\n",
      "[58]\tvalidation_0-rmse:48.94317\tvalidation_1-rmse:63.56265\n",
      "[59]\tvalidation_0-rmse:48.85299\tvalidation_1-rmse:63.55598\n",
      "[60]\tvalidation_0-rmse:48.72530\tvalidation_1-rmse:63.54159\n",
      "[61]\tvalidation_0-rmse:48.64641\tvalidation_1-rmse:63.55781\n",
      "[62]\tvalidation_0-rmse:48.53239\tvalidation_1-rmse:63.57105\n",
      "[63]\tvalidation_0-rmse:48.39482\tvalidation_1-rmse:63.52657\n",
      "[64]\tvalidation_0-rmse:48.29825\tvalidation_1-rmse:63.56295\n",
      "[65]\tvalidation_0-rmse:47.98529\tvalidation_1-rmse:63.42460\n",
      "[66]\tvalidation_0-rmse:47.70967\tvalidation_1-rmse:63.21218\n",
      "[67]\tvalidation_0-rmse:47.61735\tvalidation_1-rmse:63.18120\n",
      "[68]\tvalidation_0-rmse:47.44616\tvalidation_1-rmse:63.14794\n",
      "[69]\tvalidation_0-rmse:47.38943\tvalidation_1-rmse:63.12053\n",
      "[70]\tvalidation_0-rmse:47.22750\tvalidation_1-rmse:63.07909\n",
      "[71]\tvalidation_0-rmse:47.04749\tvalidation_1-rmse:63.00583\n",
      "[72]\tvalidation_0-rmse:46.95081\tvalidation_1-rmse:63.02819\n",
      "[73]\tvalidation_0-rmse:46.84959\tvalidation_1-rmse:63.03646\n",
      "[74]\tvalidation_0-rmse:46.73306\tvalidation_1-rmse:63.01366\n",
      "[75]\tvalidation_0-rmse:46.69750\tvalidation_1-rmse:63.00328\n",
      "[76]\tvalidation_0-rmse:46.60118\tvalidation_1-rmse:62.99447\n",
      "[77]\tvalidation_0-rmse:46.37700\tvalidation_1-rmse:62.81692\n",
      "[78]\tvalidation_0-rmse:46.27346\tvalidation_1-rmse:62.74623\n",
      "[79]\tvalidation_0-rmse:46.15576\tvalidation_1-rmse:62.72734\n",
      "[80]\tvalidation_0-rmse:46.11574\tvalidation_1-rmse:62.69704\n",
      "[81]\tvalidation_0-rmse:46.03151\tvalidation_1-rmse:62.71906\n",
      "[82]\tvalidation_0-rmse:45.69363\tvalidation_1-rmse:62.58070\n",
      "[83]\tvalidation_0-rmse:45.62073\tvalidation_1-rmse:62.62010\n",
      "[84]\tvalidation_0-rmse:45.56749\tvalidation_1-rmse:62.62532\n",
      "[85]\tvalidation_0-rmse:45.26554\tvalidation_1-rmse:62.44964\n",
      "[86]\tvalidation_0-rmse:45.11311\tvalidation_1-rmse:62.39348\n",
      "[87]\tvalidation_0-rmse:44.96285\tvalidation_1-rmse:62.39635\n",
      "[88]\tvalidation_0-rmse:44.92047\tvalidation_1-rmse:62.40830\n",
      "[89]\tvalidation_0-rmse:44.85369\tvalidation_1-rmse:62.39286\n",
      "[90]\tvalidation_0-rmse:44.84658\tvalidation_1-rmse:62.39230\n",
      "[91]\tvalidation_0-rmse:44.77208\tvalidation_1-rmse:62.35147\n",
      "[92]\tvalidation_0-rmse:44.45044\tvalidation_1-rmse:62.10730\n",
      "[93]\tvalidation_0-rmse:44.23838\tvalidation_1-rmse:62.05127\n",
      "[94]\tvalidation_0-rmse:43.99552\tvalidation_1-rmse:61.96107\n",
      "[95]\tvalidation_0-rmse:43.82290\tvalidation_1-rmse:61.97751\n",
      "[96]\tvalidation_0-rmse:43.70931\tvalidation_1-rmse:61.95307\n",
      "[97]\tvalidation_0-rmse:43.44171\tvalidation_1-rmse:61.76666\n",
      "[98]\tvalidation_0-rmse:43.23260\tvalidation_1-rmse:61.74897\n",
      "[99]\tvalidation_0-rmse:43.19585\tvalidation_1-rmse:61.73556\n",
      "61.73555695013684\n"
     ]
    }
   ],
   "source": [
    "from xgboost import XGBRegressor\n",
    "from sklearn.metrics import mean_squared_error\n",
    "\n",
    "xgbr = XGBRegressor( n_estimators=100,eval_metric=['rmse'] )\n",
    "\n",
    "xgbr.fit(x_train,y_train,eval_set=[[x_train,y_train],[x_test,y_test]])\n",
    "\n",
    "y_preds_xgb = xgbr.predict(x_test)\n",
    "   \n",
    "print(np.sqrt(mean_squared_error(y_test, y_preds_xgb)))"
   ]
  },
  {
   "cell_type": "code",
   "execution_count": 55,
   "id": "eb1e6f15",
   "metadata": {
    "execution": {
     "iopub.execute_input": "2023-04-02T18:53:01.957504Z",
     "iopub.status.busy": "2023-04-02T18:53:01.956501Z",
     "iopub.status.idle": "2023-04-02T18:53:01.979672Z",
     "shell.execute_reply": "2023-04-02T18:53:01.978451Z"
    },
    "papermill": {
     "duration": 0.058118,
     "end_time": "2023-04-02T18:53:01.982181",
     "exception": false,
     "start_time": "2023-04-02T18:53:01.924063",
     "status": "completed"
    },
    "tags": []
   },
   "outputs": [
    {
     "data": {
      "text/html": [
       "<div>\n",
       "<style scoped>\n",
       "    .dataframe tbody tr th:only-of-type {\n",
       "        vertical-align: middle;\n",
       "    }\n",
       "\n",
       "    .dataframe tbody tr th {\n",
       "        vertical-align: top;\n",
       "    }\n",
       "\n",
       "    .dataframe thead th {\n",
       "        text-align: right;\n",
       "    }\n",
       "</style>\n",
       "<table border=\"1\" class=\"dataframe\">\n",
       "  <thead>\n",
       "    <tr style=\"text-align: right;\">\n",
       "      <th></th>\n",
       "      <th>start_scan_to_end_scan</th>\n",
       "      <th>cutoff_factor</th>\n",
       "      <th>actual_distance_to_destination</th>\n",
       "      <th>segment_actual_time</th>\n",
       "      <th>segment_osrm_time</th>\n",
       "      <th>segment_osrm_distance</th>\n",
       "      <th>osrm_distance_mean</th>\n",
       "      <th>osrm_time_mean</th>\n",
       "      <th>False</th>\n",
       "      <th>True</th>\n",
       "      <th>...</th>\n",
       "      <th>trip_creation_day</th>\n",
       "      <th>trip_creation_hour</th>\n",
       "      <th>od_end_year</th>\n",
       "      <th>od_end_month</th>\n",
       "      <th>od_end_day</th>\n",
       "      <th>od_end_hour</th>\n",
       "      <th>cutoff_timestamp_year</th>\n",
       "      <th>cutoff_timestamp_month</th>\n",
       "      <th>cutoff_timestamp_day</th>\n",
       "      <th>cutoff_timestamp_hour</th>\n",
       "    </tr>\n",
       "  </thead>\n",
       "  <tbody>\n",
       "    <tr>\n",
       "      <th>0</th>\n",
       "      <td>86.0</td>\n",
       "      <td>27</td>\n",
       "      <td>27.637279</td>\n",
       "      <td>16.0</td>\n",
       "      <td>7.0</td>\n",
       "      <td>10.8152</td>\n",
       "      <td>32.5395</td>\n",
       "      <td>28.0</td>\n",
       "      <td>0</td>\n",
       "      <td>1</td>\n",
       "      <td>...</td>\n",
       "      <td>20</td>\n",
       "      <td>36</td>\n",
       "      <td>2018</td>\n",
       "      <td>9</td>\n",
       "      <td>20</td>\n",
       "      <td>45</td>\n",
       "      <td>2018</td>\n",
       "      <td>9</td>\n",
       "      <td>20</td>\n",
       "      <td>19</td>\n",
       "    </tr>\n",
       "    <tr>\n",
       "      <th>1</th>\n",
       "      <td>86.0</td>\n",
       "      <td>39</td>\n",
       "      <td>39.386040</td>\n",
       "      <td>6.0</td>\n",
       "      <td>5.0</td>\n",
       "      <td>3.9153</td>\n",
       "      <td>54.2181</td>\n",
       "      <td>44.0</td>\n",
       "      <td>1</td>\n",
       "      <td>0</td>\n",
       "      <td>...</td>\n",
       "      <td>20</td>\n",
       "      <td>36</td>\n",
       "      <td>2018</td>\n",
       "      <td>9</td>\n",
       "      <td>20</td>\n",
       "      <td>45</td>\n",
       "      <td>2018</td>\n",
       "      <td>9</td>\n",
       "      <td>20</td>\n",
       "      <td>55</td>\n",
       "    </tr>\n",
       "    <tr>\n",
       "      <th>2</th>\n",
       "      <td>109.0</td>\n",
       "      <td>9</td>\n",
       "      <td>10.403038</td>\n",
       "      <td>15.0</td>\n",
       "      <td>11.0</td>\n",
       "      <td>12.1171</td>\n",
       "      <td>12.1171</td>\n",
       "      <td>11.0</td>\n",
       "      <td>0</td>\n",
       "      <td>1</td>\n",
       "      <td>...</td>\n",
       "      <td>20</td>\n",
       "      <td>36</td>\n",
       "      <td>2018</td>\n",
       "      <td>9</td>\n",
       "      <td>20</td>\n",
       "      <td>55</td>\n",
       "      <td>2018</td>\n",
       "      <td>9</td>\n",
       "      <td>20</td>\n",
       "      <td>58</td>\n",
       "    </tr>\n",
       "    <tr>\n",
       "      <th>3</th>\n",
       "      <td>109.0</td>\n",
       "      <td>36</td>\n",
       "      <td>38.939167</td>\n",
       "      <td>10.0</td>\n",
       "      <td>10.0</td>\n",
       "      <td>11.3648</td>\n",
       "      <td>47.1900</td>\n",
       "      <td>39.0</td>\n",
       "      <td>0</td>\n",
       "      <td>1</td>\n",
       "      <td>...</td>\n",
       "      <td>20</td>\n",
       "      <td>36</td>\n",
       "      <td>2018</td>\n",
       "      <td>9</td>\n",
       "      <td>20</td>\n",
       "      <td>55</td>\n",
       "      <td>2018</td>\n",
       "      <td>9</td>\n",
       "      <td>20</td>\n",
       "      <td>56</td>\n",
       "    </tr>\n",
       "    <tr>\n",
       "      <th>4</th>\n",
       "      <td>302.0</td>\n",
       "      <td>22</td>\n",
       "      <td>23.194334</td>\n",
       "      <td>38.0</td>\n",
       "      <td>24.0</td>\n",
       "      <td>26.8622</td>\n",
       "      <td>26.8622</td>\n",
       "      <td>24.0</td>\n",
       "      <td>0</td>\n",
       "      <td>1</td>\n",
       "      <td>...</td>\n",
       "      <td>23</td>\n",
       "      <td>6</td>\n",
       "      <td>2018</td>\n",
       "      <td>9</td>\n",
       "      <td>23</td>\n",
       "      <td>28</td>\n",
       "      <td>2018</td>\n",
       "      <td>9</td>\n",
       "      <td>23</td>\n",
       "      <td>19</td>\n",
       "    </tr>\n",
       "  </tbody>\n",
       "</table>\n",
       "<p>5 rows × 29 columns</p>\n",
       "</div>"
      ],
      "text/plain": [
       "   start_scan_to_end_scan  cutoff_factor  actual_distance_to_destination  \\\n",
       "0                    86.0             27                       27.637279   \n",
       "1                    86.0             39                       39.386040   \n",
       "2                   109.0              9                       10.403038   \n",
       "3                   109.0             36                       38.939167   \n",
       "4                   302.0             22                       23.194334   \n",
       "\n",
       "   segment_actual_time  segment_osrm_time  segment_osrm_distance  \\\n",
       "0                 16.0                7.0                10.8152   \n",
       "1                  6.0                5.0                 3.9153   \n",
       "2                 15.0               11.0                12.1171   \n",
       "3                 10.0               10.0                11.3648   \n",
       "4                 38.0               24.0                26.8622   \n",
       "\n",
       "   osrm_distance_mean  osrm_time_mean  False  True  ...  trip_creation_day  \\\n",
       "0             32.5395            28.0      0     1  ...                 20   \n",
       "1             54.2181            44.0      1     0  ...                 20   \n",
       "2             12.1171            11.0      0     1  ...                 20   \n",
       "3             47.1900            39.0      0     1  ...                 20   \n",
       "4             26.8622            24.0      0     1  ...                 23   \n",
       "\n",
       "   trip_creation_hour  od_end_year  od_end_month  od_end_day  od_end_hour  \\\n",
       "0                  36         2018             9          20           45   \n",
       "1                  36         2018             9          20           45   \n",
       "2                  36         2018             9          20           55   \n",
       "3                  36         2018             9          20           55   \n",
       "4                   6         2018             9          23           28   \n",
       "\n",
       "   cutoff_timestamp_year  cutoff_timestamp_month  cutoff_timestamp_day  \\\n",
       "0                   2018                       9                    20   \n",
       "1                   2018                       9                    20   \n",
       "2                   2018                       9                    20   \n",
       "3                   2018                       9                    20   \n",
       "4                   2018                       9                    23   \n",
       "\n",
       "   cutoff_timestamp_hour  \n",
       "0                     19  \n",
       "1                     55  \n",
       "2                     58  \n",
       "3                     56  \n",
       "4                     19  \n",
       "\n",
       "[5 rows x 29 columns]"
      ]
     },
     "execution_count": 55,
     "metadata": {},
     "output_type": "execute_result"
    }
   ],
   "source": [
    "test_df.head()"
   ]
  },
  {
   "cell_type": "code",
   "execution_count": 56,
   "id": "379a58d2",
   "metadata": {
    "execution": {
     "iopub.execute_input": "2023-04-02T18:53:02.046706Z",
     "iopub.status.busy": "2023-04-02T18:53:02.046244Z",
     "iopub.status.idle": "2023-04-02T18:53:02.615402Z",
     "shell.execute_reply": "2023-04-02T18:53:02.614294Z"
    },
    "papermill": {
     "duration": 0.604842,
     "end_time": "2023-04-02T18:53:02.618370",
     "exception": false,
     "start_time": "2023-04-02T18:53:02.013528",
     "status": "completed"
    },
    "tags": []
   },
   "outputs": [],
   "source": [
    "import optuna\n",
    "def run(trial):\n",
    "\n",
    "    learning_rate = trial.suggest_float(\"learning_rate\", 1e-2, 0.25, log=True)\n",
    "    \n",
    "    reg_lambda = trial.suggest_loguniform(\"reg_lambda\", 1e-8, 100.0)\n",
    "    reg_alpha = trial.suggest_loguniform(\"reg_alpha\", 1e-8, 100.0)\n",
    "    subsample = trial.suggest_float(\"subsample\", 0.1, 1.0)\n",
    "    colsample_bytree = trial.suggest_float(\"colsample_bytree\", 0.1, 1.0)\n",
    "    max_depth = trial.suggest_int(\"max_depth\", 1, 7)\n",
    "\n",
    "    model = XGBRegressor(\n",
    "        random_state=42,\n",
    "        n_estimators=15,\n",
    "        learning_rate=learning_rate,\n",
    "        reg_lambda=reg_lambda,\n",
    "        reg_alpha=reg_alpha,\n",
    "        subsample=subsample,\n",
    "        colsample_bytree=colsample_bytree,\n",
    "        max_depth=max_depth,\n",
    "    )\n",
    "    model.fit(x_train, y_train, early_stopping_rounds=300, eval_set=[(x_test, y_test)],eval_metric=['rmse'], verbose=1000)\n",
    "    preds_valid = model.predict(x_test)\n",
    "    check_arr =[]\n",
    "    for i in range(len(preds_valid)):\n",
    "        check_arr.append(preds_valid[i])\n",
    "    score = np.sqrt(mean_squared_error(y_test, check_arr))\n",
    "    return score"
   ]
  },
  {
   "cell_type": "code",
   "execution_count": 57,
   "id": "7394536c",
   "metadata": {
    "execution": {
     "iopub.execute_input": "2023-04-02T18:53:02.684108Z",
     "iopub.status.busy": "2023-04-02T18:53:02.682853Z",
     "iopub.status.idle": "2023-04-02T18:53:47.358131Z",
     "shell.execute_reply": "2023-04-02T18:53:47.356844Z"
    },
    "papermill": {
     "duration": 44.711337,
     "end_time": "2023-04-02T18:53:47.361329",
     "exception": false,
     "start_time": "2023-04-02T18:53:02.649992",
     "status": "completed"
    },
    "tags": []
   },
   "outputs": [
    {
     "name": "stderr",
     "output_type": "stream",
     "text": [
      "\u001b[32m[I 2023-04-02 18:53:02,685]\u001b[0m A new study created in memory with name: no-name-17a478d9-eb19-4eea-9b91-fae46c6531b8\u001b[0m\n"
     ]
    },
    {
     "name": "stdout",
     "output_type": "stream",
     "text": [
      "[0]\tvalidation_0-rmse:715.17294\n"
     ]
    },
    {
     "name": "stderr",
     "output_type": "stream",
     "text": [
      "/opt/conda/lib/python3.7/site-packages/ipykernel_launcher.py:6: FutureWarning: suggest_loguniform has been deprecated in v3.0.0. This feature will be removed in v6.0.0. See https://github.com/optuna/optuna/releases/tag/v3.0.0. Use :func:`~optuna.trial.Trial.suggest_float` instead.\n",
      "  \n",
      "/opt/conda/lib/python3.7/site-packages/ipykernel_launcher.py:7: FutureWarning: suggest_loguniform has been deprecated in v3.0.0. This feature will be removed in v6.0.0. See https://github.com/optuna/optuna/releases/tag/v3.0.0. Use :func:`~optuna.trial.Trial.suggest_float` instead.\n",
      "  import sys\n",
      "/opt/conda/lib/python3.7/site-packages/xgboost/sklearn.py:797: UserWarning: `eval_metric` in `fit` method is deprecated for better compatibility with scikit-learn, use `eval_metric` in constructor or`set_params` instead.\n",
      "  UserWarning,\n",
      "/opt/conda/lib/python3.7/site-packages/xgboost/sklearn.py:797: UserWarning: `early_stopping_rounds` in `fit` method is deprecated for better compatibility with scikit-learn, use `early_stopping_rounds` in constructor or`set_params` instead.\n",
      "  UserWarning,\n"
     ]
    },
    {
     "name": "stdout",
     "output_type": "stream",
     "text": [
      "[14]\tvalidation_0-rmse:559.34793\n"
     ]
    },
    {
     "name": "stderr",
     "output_type": "stream",
     "text": [
      "\u001b[32m[I 2023-04-02 18:53:03,117]\u001b[0m Trial 0 finished with value: 559.3479365535844 and parameters: {'learning_rate': 0.024454515712584564, 'reg_lambda': 4.818484402044378e-06, 'reg_alpha': 0.19504637081250845, 'subsample': 0.40289037210477596, 'colsample_bytree': 0.506623669099437, 'max_depth': 1}. Best is trial 0 with value: 559.3479365535844.\u001b[0m\n"
     ]
    },
    {
     "name": "stdout",
     "output_type": "stream",
     "text": [
      "[0]\tvalidation_0-rmse:694.99599\n"
     ]
    },
    {
     "name": "stderr",
     "output_type": "stream",
     "text": [
      "/opt/conda/lib/python3.7/site-packages/ipykernel_launcher.py:6: FutureWarning: suggest_loguniform has been deprecated in v3.0.0. This feature will be removed in v6.0.0. See https://github.com/optuna/optuna/releases/tag/v3.0.0. Use :func:`~optuna.trial.Trial.suggest_float` instead.\n",
      "  \n",
      "/opt/conda/lib/python3.7/site-packages/ipykernel_launcher.py:7: FutureWarning: suggest_loguniform has been deprecated in v3.0.0. This feature will be removed in v6.0.0. See https://github.com/optuna/optuna/releases/tag/v3.0.0. Use :func:`~optuna.trial.Trial.suggest_float` instead.\n",
      "  import sys\n",
      "/opt/conda/lib/python3.7/site-packages/xgboost/sklearn.py:797: UserWarning: `eval_metric` in `fit` method is deprecated for better compatibility with scikit-learn, use `eval_metric` in constructor or`set_params` instead.\n",
      "  UserWarning,\n",
      "/opt/conda/lib/python3.7/site-packages/xgboost/sklearn.py:797: UserWarning: `early_stopping_rounds` in `fit` method is deprecated for better compatibility with scikit-learn, use `early_stopping_rounds` in constructor or`set_params` instead.\n",
      "  UserWarning,\n"
     ]
    },
    {
     "name": "stdout",
     "output_type": "stream",
     "text": [
      "[14]\tvalidation_0-rmse:375.74923\n"
     ]
    },
    {
     "name": "stderr",
     "output_type": "stream",
     "text": [
      "\u001b[32m[I 2023-04-02 18:53:03,959]\u001b[0m Trial 1 finished with value: 375.7492285468718 and parameters: {'learning_rate': 0.051306454478229305, 'reg_lambda': 44.82459877958348, 'reg_alpha': 38.74686805108861, 'subsample': 0.4680063068288868, 'colsample_bytree': 0.6141873715562046, 'max_depth': 5}. Best is trial 1 with value: 375.7492285468718.\u001b[0m\n"
     ]
    },
    {
     "name": "stdout",
     "output_type": "stream",
     "text": [
      "[0]\tvalidation_0-rmse:713.61620\n"
     ]
    },
    {
     "name": "stderr",
     "output_type": "stream",
     "text": [
      "/opt/conda/lib/python3.7/site-packages/ipykernel_launcher.py:6: FutureWarning: suggest_loguniform has been deprecated in v3.0.0. This feature will be removed in v6.0.0. See https://github.com/optuna/optuna/releases/tag/v3.0.0. Use :func:`~optuna.trial.Trial.suggest_float` instead.\n",
      "  \n",
      "/opt/conda/lib/python3.7/site-packages/ipykernel_launcher.py:7: FutureWarning: suggest_loguniform has been deprecated in v3.0.0. This feature will be removed in v6.0.0. See https://github.com/optuna/optuna/releases/tag/v3.0.0. Use :func:`~optuna.trial.Trial.suggest_float` instead.\n",
      "  import sys\n",
      "/opt/conda/lib/python3.7/site-packages/xgboost/sklearn.py:797: UserWarning: `eval_metric` in `fit` method is deprecated for better compatibility with scikit-learn, use `eval_metric` in constructor or`set_params` instead.\n",
      "  UserWarning,\n",
      "/opt/conda/lib/python3.7/site-packages/xgboost/sklearn.py:797: UserWarning: `early_stopping_rounds` in `fit` method is deprecated for better compatibility with scikit-learn, use `early_stopping_rounds` in constructor or`set_params` instead.\n",
      "  UserWarning,\n"
     ]
    },
    {
     "name": "stdout",
     "output_type": "stream",
     "text": [
      "[14]\tvalidation_0-rmse:575.91483\n"
     ]
    },
    {
     "name": "stderr",
     "output_type": "stream",
     "text": [
      "\u001b[32m[I 2023-04-02 18:53:04,528]\u001b[0m Trial 2 finished with value: 575.9148281249256 and parameters: {'learning_rate': 0.022909019216587924, 'reg_lambda': 0.08169403006973315, 'reg_alpha': 0.12974290863724341, 'subsample': 0.5209826757682425, 'colsample_bytree': 0.20817424248569147, 'max_depth': 4}. Best is trial 1 with value: 375.7492285468718.\u001b[0m\n"
     ]
    },
    {
     "name": "stdout",
     "output_type": "stream",
     "text": [
      "[0]\tvalidation_0-rmse:707.72063\n"
     ]
    },
    {
     "name": "stderr",
     "output_type": "stream",
     "text": [
      "/opt/conda/lib/python3.7/site-packages/ipykernel_launcher.py:6: FutureWarning: suggest_loguniform has been deprecated in v3.0.0. This feature will be removed in v6.0.0. See https://github.com/optuna/optuna/releases/tag/v3.0.0. Use :func:`~optuna.trial.Trial.suggest_float` instead.\n",
      "  \n",
      "/opt/conda/lib/python3.7/site-packages/ipykernel_launcher.py:7: FutureWarning: suggest_loguniform has been deprecated in v3.0.0. This feature will be removed in v6.0.0. See https://github.com/optuna/optuna/releases/tag/v3.0.0. Use :func:`~optuna.trial.Trial.suggest_float` instead.\n",
      "  import sys\n",
      "/opt/conda/lib/python3.7/site-packages/xgboost/sklearn.py:797: UserWarning: `eval_metric` in `fit` method is deprecated for better compatibility with scikit-learn, use `eval_metric` in constructor or`set_params` instead.\n",
      "  UserWarning,\n",
      "/opt/conda/lib/python3.7/site-packages/xgboost/sklearn.py:797: UserWarning: `early_stopping_rounds` in `fit` method is deprecated for better compatibility with scikit-learn, use `early_stopping_rounds` in constructor or`set_params` instead.\n",
      "  UserWarning,\n"
     ]
    },
    {
     "name": "stdout",
     "output_type": "stream",
     "text": [
      "[14]\tvalidation_0-rmse:492.80127\n"
     ]
    },
    {
     "name": "stderr",
     "output_type": "stream",
     "text": [
      "\u001b[32m[I 2023-04-02 18:53:04,976]\u001b[0m Trial 3 finished with value: 492.80127350213166 and parameters: {'learning_rate': 0.08105771900019887, 'reg_lambda': 3.646945400416247e-06, 'reg_alpha': 1.1050458775053538e-08, 'subsample': 0.995224525223129, 'colsample_bytree': 0.12179804638986537, 'max_depth': 2}. Best is trial 1 with value: 375.7492285468718.\u001b[0m\n"
     ]
    },
    {
     "name": "stdout",
     "output_type": "stream",
     "text": [
      "[0]\tvalidation_0-rmse:689.39187\n"
     ]
    },
    {
     "name": "stderr",
     "output_type": "stream",
     "text": [
      "/opt/conda/lib/python3.7/site-packages/ipykernel_launcher.py:6: FutureWarning: suggest_loguniform has been deprecated in v3.0.0. This feature will be removed in v6.0.0. See https://github.com/optuna/optuna/releases/tag/v3.0.0. Use :func:`~optuna.trial.Trial.suggest_float` instead.\n",
      "  \n",
      "/opt/conda/lib/python3.7/site-packages/ipykernel_launcher.py:7: FutureWarning: suggest_loguniform has been deprecated in v3.0.0. This feature will be removed in v6.0.0. See https://github.com/optuna/optuna/releases/tag/v3.0.0. Use :func:`~optuna.trial.Trial.suggest_float` instead.\n",
      "  import sys\n",
      "/opt/conda/lib/python3.7/site-packages/xgboost/sklearn.py:797: UserWarning: `eval_metric` in `fit` method is deprecated for better compatibility with scikit-learn, use `eval_metric` in constructor or`set_params` instead.\n",
      "  UserWarning,\n",
      "/opt/conda/lib/python3.7/site-packages/xgboost/sklearn.py:797: UserWarning: `early_stopping_rounds` in `fit` method is deprecated for better compatibility with scikit-learn, use `early_stopping_rounds` in constructor or`set_params` instead.\n",
      "  UserWarning,\n"
     ]
    },
    {
     "name": "stdout",
     "output_type": "stream",
     "text": [
      "[14]\tvalidation_0-rmse:392.38874\n"
     ]
    },
    {
     "name": "stderr",
     "output_type": "stream",
     "text": [
      "\u001b[32m[I 2023-04-02 18:53:05,703]\u001b[0m Trial 4 finished with value: 392.38873745235315 and parameters: {'learning_rate': 0.05702748426428576, 'reg_lambda': 0.0010420946141942884, 'reg_alpha': 0.028463374632367477, 'subsample': 0.19846726370238105, 'colsample_bytree': 0.26481805745076187, 'max_depth': 7}. Best is trial 1 with value: 375.7492285468718.\u001b[0m\n"
     ]
    },
    {
     "name": "stdout",
     "output_type": "stream",
     "text": [
      "[0]\tvalidation_0-rmse:720.05614\n"
     ]
    },
    {
     "name": "stderr",
     "output_type": "stream",
     "text": [
      "/opt/conda/lib/python3.7/site-packages/ipykernel_launcher.py:6: FutureWarning: suggest_loguniform has been deprecated in v3.0.0. This feature will be removed in v6.0.0. See https://github.com/optuna/optuna/releases/tag/v3.0.0. Use :func:`~optuna.trial.Trial.suggest_float` instead.\n",
      "  \n",
      "/opt/conda/lib/python3.7/site-packages/ipykernel_launcher.py:7: FutureWarning: suggest_loguniform has been deprecated in v3.0.0. This feature will be removed in v6.0.0. See https://github.com/optuna/optuna/releases/tag/v3.0.0. Use :func:`~optuna.trial.Trial.suggest_float` instead.\n",
      "  import sys\n",
      "/opt/conda/lib/python3.7/site-packages/xgboost/sklearn.py:797: UserWarning: `eval_metric` in `fit` method is deprecated for better compatibility with scikit-learn, use `eval_metric` in constructor or`set_params` instead.\n",
      "  UserWarning,\n",
      "/opt/conda/lib/python3.7/site-packages/xgboost/sklearn.py:797: UserWarning: `early_stopping_rounds` in `fit` method is deprecated for better compatibility with scikit-learn, use `early_stopping_rounds` in constructor or`set_params` instead.\n",
      "  UserWarning,\n"
     ]
    },
    {
     "name": "stdout",
     "output_type": "stream",
     "text": [
      "[14]\tvalidation_0-rmse:611.94217\n"
     ]
    },
    {
     "name": "stderr",
     "output_type": "stream",
     "text": [
      "\u001b[32m[I 2023-04-02 18:53:06,349]\u001b[0m Trial 5 finished with value: 611.9421668607059 and parameters: {'learning_rate': 0.013850435880739791, 'reg_lambda': 6.741959883427333e-07, 'reg_alpha': 6.240974671527166e-08, 'subsample': 0.45209892993381473, 'colsample_bytree': 0.4380730525741666, 'max_depth': 4}. Best is trial 1 with value: 375.7492285468718.\u001b[0m\n"
     ]
    },
    {
     "name": "stdout",
     "output_type": "stream",
     "text": [
      "[0]\tvalidation_0-rmse:573.10077\n"
     ]
    },
    {
     "name": "stderr",
     "output_type": "stream",
     "text": [
      "/opt/conda/lib/python3.7/site-packages/ipykernel_launcher.py:6: FutureWarning: suggest_loguniform has been deprecated in v3.0.0. This feature will be removed in v6.0.0. See https://github.com/optuna/optuna/releases/tag/v3.0.0. Use :func:`~optuna.trial.Trial.suggest_float` instead.\n",
      "  \n",
      "/opt/conda/lib/python3.7/site-packages/ipykernel_launcher.py:7: FutureWarning: suggest_loguniform has been deprecated in v3.0.0. This feature will be removed in v6.0.0. See https://github.com/optuna/optuna/releases/tag/v3.0.0. Use :func:`~optuna.trial.Trial.suggest_float` instead.\n",
      "  import sys\n",
      "/opt/conda/lib/python3.7/site-packages/xgboost/sklearn.py:797: UserWarning: `eval_metric` in `fit` method is deprecated for better compatibility with scikit-learn, use `eval_metric` in constructor or`set_params` instead.\n",
      "  UserWarning,\n",
      "/opt/conda/lib/python3.7/site-packages/xgboost/sklearn.py:797: UserWarning: `early_stopping_rounds` in `fit` method is deprecated for better compatibility with scikit-learn, use `early_stopping_rounds` in constructor or`set_params` instead.\n",
      "  UserWarning,\n"
     ]
    },
    {
     "name": "stdout",
     "output_type": "stream",
     "text": [
      "[14]\tvalidation_0-rmse:140.49061\n"
     ]
    },
    {
     "name": "stderr",
     "output_type": "stream",
     "text": [
      "\u001b[32m[I 2023-04-02 18:53:06,856]\u001b[0m Trial 6 finished with value: 140.4906074612556 and parameters: {'learning_rate': 0.23116037682506385, 'reg_lambda': 0.3878367639560884, 'reg_alpha': 0.30290186521891727, 'subsample': 0.6507346500871544, 'colsample_bytree': 0.43509252702839196, 'max_depth': 2}. Best is trial 6 with value: 140.4906074612556.\u001b[0m\n"
     ]
    },
    {
     "name": "stdout",
     "output_type": "stream",
     "text": [
      "[0]\tvalidation_0-rmse:714.69886\n"
     ]
    },
    {
     "name": "stderr",
     "output_type": "stream",
     "text": [
      "/opt/conda/lib/python3.7/site-packages/ipykernel_launcher.py:6: FutureWarning: suggest_loguniform has been deprecated in v3.0.0. This feature will be removed in v6.0.0. See https://github.com/optuna/optuna/releases/tag/v3.0.0. Use :func:`~optuna.trial.Trial.suggest_float` instead.\n",
      "  \n",
      "/opt/conda/lib/python3.7/site-packages/ipykernel_launcher.py:7: FutureWarning: suggest_loguniform has been deprecated in v3.0.0. This feature will be removed in v6.0.0. See https://github.com/optuna/optuna/releases/tag/v3.0.0. Use :func:`~optuna.trial.Trial.suggest_float` instead.\n",
      "  import sys\n",
      "/opt/conda/lib/python3.7/site-packages/xgboost/sklearn.py:797: UserWarning: `eval_metric` in `fit` method is deprecated for better compatibility with scikit-learn, use `eval_metric` in constructor or`set_params` instead.\n",
      "  UserWarning,\n",
      "/opt/conda/lib/python3.7/site-packages/xgboost/sklearn.py:797: UserWarning: `early_stopping_rounds` in `fit` method is deprecated for better compatibility with scikit-learn, use `early_stopping_rounds` in constructor or`set_params` instead.\n",
      "  UserWarning,\n"
     ]
    },
    {
     "name": "stdout",
     "output_type": "stream",
     "text": [
      "[14]\tvalidation_0-rmse:536.24545\n"
     ]
    },
    {
     "name": "stderr",
     "output_type": "stream",
     "text": [
      "\u001b[32m[I 2023-04-02 18:53:07,588]\u001b[0m Trial 7 finished with value: 536.2454541403428 and parameters: {'learning_rate': 0.021546164072774245, 'reg_lambda': 1.529732098701039e-08, 'reg_alpha': 0.03996938432058296, 'subsample': 0.7492345875329113, 'colsample_bytree': 0.7222435978093454, 'max_depth': 3}. Best is trial 6 with value: 140.4906074612556.\u001b[0m\n"
     ]
    },
    {
     "name": "stdout",
     "output_type": "stream",
     "text": [
      "[0]\tvalidation_0-rmse:720.83223\n"
     ]
    },
    {
     "name": "stderr",
     "output_type": "stream",
     "text": [
      "/opt/conda/lib/python3.7/site-packages/ipykernel_launcher.py:6: FutureWarning: suggest_loguniform has been deprecated in v3.0.0. This feature will be removed in v6.0.0. See https://github.com/optuna/optuna/releases/tag/v3.0.0. Use :func:`~optuna.trial.Trial.suggest_float` instead.\n",
      "  \n",
      "/opt/conda/lib/python3.7/site-packages/ipykernel_launcher.py:7: FutureWarning: suggest_loguniform has been deprecated in v3.0.0. This feature will be removed in v6.0.0. See https://github.com/optuna/optuna/releases/tag/v3.0.0. Use :func:`~optuna.trial.Trial.suggest_float` instead.\n",
      "  import sys\n",
      "/opt/conda/lib/python3.7/site-packages/xgboost/sklearn.py:797: UserWarning: `eval_metric` in `fit` method is deprecated for better compatibility with scikit-learn, use `eval_metric` in constructor or`set_params` instead.\n",
      "  UserWarning,\n",
      "/opt/conda/lib/python3.7/site-packages/xgboost/sklearn.py:797: UserWarning: `early_stopping_rounds` in `fit` method is deprecated for better compatibility with scikit-learn, use `early_stopping_rounds` in constructor or`set_params` instead.\n",
      "  UserWarning,\n"
     ]
    },
    {
     "name": "stdout",
     "output_type": "stream",
     "text": [
      "[14]\tvalidation_0-rmse:606.24583\n"
     ]
    },
    {
     "name": "stderr",
     "output_type": "stream",
     "text": [
      "\u001b[32m[I 2023-04-02 18:53:08,132]\u001b[0m Trial 8 finished with value: 606.2458424009144 and parameters: {'learning_rate': 0.013238979288530323, 'reg_lambda': 0.00011079206860661272, 'reg_alpha': 1.4776498611882623e-07, 'subsample': 0.3485379001881814, 'colsample_bytree': 0.7534906909653891, 'max_depth': 2}. Best is trial 6 with value: 140.4906074612556.\u001b[0m\n"
     ]
    },
    {
     "name": "stdout",
     "output_type": "stream",
     "text": [
      "[0]\tvalidation_0-rmse:707.12121\n"
     ]
    },
    {
     "name": "stderr",
     "output_type": "stream",
     "text": [
      "/opt/conda/lib/python3.7/site-packages/ipykernel_launcher.py:6: FutureWarning: suggest_loguniform has been deprecated in v3.0.0. This feature will be removed in v6.0.0. See https://github.com/optuna/optuna/releases/tag/v3.0.0. Use :func:`~optuna.trial.Trial.suggest_float` instead.\n",
      "  \n",
      "/opt/conda/lib/python3.7/site-packages/ipykernel_launcher.py:7: FutureWarning: suggest_loguniform has been deprecated in v3.0.0. This feature will be removed in v6.0.0. See https://github.com/optuna/optuna/releases/tag/v3.0.0. Use :func:`~optuna.trial.Trial.suggest_float` instead.\n",
      "  import sys\n",
      "/opt/conda/lib/python3.7/site-packages/xgboost/sklearn.py:797: UserWarning: `eval_metric` in `fit` method is deprecated for better compatibility with scikit-learn, use `eval_metric` in constructor or`set_params` instead.\n",
      "  UserWarning,\n",
      "/opt/conda/lib/python3.7/site-packages/xgboost/sklearn.py:797: UserWarning: `early_stopping_rounds` in `fit` method is deprecated for better compatibility with scikit-learn, use `early_stopping_rounds` in constructor or`set_params` instead.\n",
      "  UserWarning,\n"
     ]
    },
    {
     "name": "stdout",
     "output_type": "stream",
     "text": [
      "[14]\tvalidation_0-rmse:471.44897\n"
     ]
    },
    {
     "name": "stderr",
     "output_type": "stream",
     "text": [
      "\u001b[32m[I 2023-04-02 18:53:09,228]\u001b[0m Trial 9 finished with value: 471.4489699369768 and parameters: {'learning_rate': 0.03164852123116362, 'reg_lambda': 0.0011444646543794601, 'reg_alpha': 4.2922428708933335e-07, 'subsample': 0.9916373500641708, 'colsample_bytree': 0.6052606084612278, 'max_depth': 6}. Best is trial 6 with value: 140.4906074612556.\u001b[0m\n"
     ]
    },
    {
     "name": "stdout",
     "output_type": "stream",
     "text": [
      "[0]\tvalidation_0-rmse:590.54167\n"
     ]
    },
    {
     "name": "stderr",
     "output_type": "stream",
     "text": [
      "/opt/conda/lib/python3.7/site-packages/ipykernel_launcher.py:6: FutureWarning: suggest_loguniform has been deprecated in v3.0.0. This feature will be removed in v6.0.0. See https://github.com/optuna/optuna/releases/tag/v3.0.0. Use :func:`~optuna.trial.Trial.suggest_float` instead.\n",
      "  \n",
      "/opt/conda/lib/python3.7/site-packages/ipykernel_launcher.py:7: FutureWarning: suggest_loguniform has been deprecated in v3.0.0. This feature will be removed in v6.0.0. See https://github.com/optuna/optuna/releases/tag/v3.0.0. Use :func:`~optuna.trial.Trial.suggest_float` instead.\n",
      "  import sys\n",
      "/opt/conda/lib/python3.7/site-packages/xgboost/sklearn.py:797: UserWarning: `eval_metric` in `fit` method is deprecated for better compatibility with scikit-learn, use `eval_metric` in constructor or`set_params` instead.\n",
      "  UserWarning,\n",
      "/opt/conda/lib/python3.7/site-packages/xgboost/sklearn.py:797: UserWarning: `early_stopping_rounds` in `fit` method is deprecated for better compatibility with scikit-learn, use `early_stopping_rounds` in constructor or`set_params` instead.\n",
      "  UserWarning,\n"
     ]
    },
    {
     "name": "stdout",
     "output_type": "stream",
     "text": [
      "[14]\tvalidation_0-rmse:140.19833\n"
     ]
    },
    {
     "name": "stderr",
     "output_type": "stream",
     "text": [
      "\u001b[32m[I 2023-04-02 18:53:09,761]\u001b[0m Trial 10 finished with value: 140.19832848595888 and parameters: {'learning_rate': 0.23658633350757874, 'reg_lambda': 0.7791124659835685, 'reg_alpha': 8.974737004488263e-05, 'subsample': 0.6861785593982516, 'colsample_bytree': 0.9355621545516599, 'max_depth': 1}. Best is trial 10 with value: 140.19832848595888.\u001b[0m\n"
     ]
    },
    {
     "name": "stdout",
     "output_type": "stream",
     "text": [
      "[0]\tvalidation_0-rmse:583.40072\n"
     ]
    },
    {
     "name": "stderr",
     "output_type": "stream",
     "text": [
      "/opt/conda/lib/python3.7/site-packages/ipykernel_launcher.py:6: FutureWarning: suggest_loguniform has been deprecated in v3.0.0. This feature will be removed in v6.0.0. See https://github.com/optuna/optuna/releases/tag/v3.0.0. Use :func:`~optuna.trial.Trial.suggest_float` instead.\n",
      "  \n",
      "/opt/conda/lib/python3.7/site-packages/ipykernel_launcher.py:7: FutureWarning: suggest_loguniform has been deprecated in v3.0.0. This feature will be removed in v6.0.0. See https://github.com/optuna/optuna/releases/tag/v3.0.0. Use :func:`~optuna.trial.Trial.suggest_float` instead.\n",
      "  import sys\n",
      "/opt/conda/lib/python3.7/site-packages/xgboost/sklearn.py:797: UserWarning: `eval_metric` in `fit` method is deprecated for better compatibility with scikit-learn, use `eval_metric` in constructor or`set_params` instead.\n",
      "  UserWarning,\n",
      "/opt/conda/lib/python3.7/site-packages/xgboost/sklearn.py:797: UserWarning: `early_stopping_rounds` in `fit` method is deprecated for better compatibility with scikit-learn, use `early_stopping_rounds` in constructor or`set_params` instead.\n",
      "  UserWarning,\n"
     ]
    },
    {
     "name": "stdout",
     "output_type": "stream",
     "text": [
      "[14]\tvalidation_0-rmse:137.02364\n"
     ]
    },
    {
     "name": "stderr",
     "output_type": "stream",
     "text": [
      "\u001b[32m[I 2023-04-02 18:53:10,306]\u001b[0m Trial 11 finished with value: 137.02363735034362 and parameters: {'learning_rate': 0.24929836315573758, 'reg_lambda': 1.4022502495056093, 'reg_alpha': 7.139291414300933e-05, 'subsample': 0.6815671000496549, 'colsample_bytree': 0.975482783001156, 'max_depth': 1}. Best is trial 11 with value: 137.02363735034362.\u001b[0m\n"
     ]
    },
    {
     "name": "stdout",
     "output_type": "stream",
     "text": [
      "[0]\tvalidation_0-rmse:583.86387\n"
     ]
    },
    {
     "name": "stderr",
     "output_type": "stream",
     "text": [
      "/opt/conda/lib/python3.7/site-packages/ipykernel_launcher.py:6: FutureWarning: suggest_loguniform has been deprecated in v3.0.0. This feature will be removed in v6.0.0. See https://github.com/optuna/optuna/releases/tag/v3.0.0. Use :func:`~optuna.trial.Trial.suggest_float` instead.\n",
      "  \n",
      "/opt/conda/lib/python3.7/site-packages/ipykernel_launcher.py:7: FutureWarning: suggest_loguniform has been deprecated in v3.0.0. This feature will be removed in v6.0.0. See https://github.com/optuna/optuna/releases/tag/v3.0.0. Use :func:`~optuna.trial.Trial.suggest_float` instead.\n",
      "  import sys\n",
      "/opt/conda/lib/python3.7/site-packages/xgboost/sklearn.py:797: UserWarning: `eval_metric` in `fit` method is deprecated for better compatibility with scikit-learn, use `eval_metric` in constructor or`set_params` instead.\n",
      "  UserWarning,\n",
      "/opt/conda/lib/python3.7/site-packages/xgboost/sklearn.py:797: UserWarning: `early_stopping_rounds` in `fit` method is deprecated for better compatibility with scikit-learn, use `early_stopping_rounds` in constructor or`set_params` instead.\n",
      "  UserWarning,\n"
     ]
    },
    {
     "name": "stdout",
     "output_type": "stream",
     "text": [
      "[14]\tvalidation_0-rmse:137.84129\n"
     ]
    },
    {
     "name": "stderr",
     "output_type": "stream",
     "text": [
      "\u001b[32m[I 2023-04-02 18:53:10,841]\u001b[0m Trial 12 finished with value: 137.84129390202463 and parameters: {'learning_rate': 0.24827525431449857, 'reg_lambda': 25.246410498666226, 'reg_alpha': 3.8774281101364765e-05, 'subsample': 0.6977772390751429, 'colsample_bytree': 0.9968731960620921, 'max_depth': 1}. Best is trial 11 with value: 137.02363735034362.\u001b[0m\n"
     ]
    },
    {
     "name": "stdout",
     "output_type": "stream",
     "text": [
      "[0]\tvalidation_0-rmse:637.55537\n"
     ]
    },
    {
     "name": "stderr",
     "output_type": "stream",
     "text": [
      "/opt/conda/lib/python3.7/site-packages/ipykernel_launcher.py:6: FutureWarning: suggest_loguniform has been deprecated in v3.0.0. This feature will be removed in v6.0.0. See https://github.com/optuna/optuna/releases/tag/v3.0.0. Use :func:`~optuna.trial.Trial.suggest_float` instead.\n",
      "  \n",
      "/opt/conda/lib/python3.7/site-packages/ipykernel_launcher.py:7: FutureWarning: suggest_loguniform has been deprecated in v3.0.0. This feature will be removed in v6.0.0. See https://github.com/optuna/optuna/releases/tag/v3.0.0. Use :func:`~optuna.trial.Trial.suggest_float` instead.\n",
      "  import sys\n",
      "/opt/conda/lib/python3.7/site-packages/xgboost/sklearn.py:797: UserWarning: `eval_metric` in `fit` method is deprecated for better compatibility with scikit-learn, use `eval_metric` in constructor or`set_params` instead.\n",
      "  UserWarning,\n",
      "/opt/conda/lib/python3.7/site-packages/xgboost/sklearn.py:797: UserWarning: `early_stopping_rounds` in `fit` method is deprecated for better compatibility with scikit-learn, use `early_stopping_rounds` in constructor or`set_params` instead.\n",
      "  UserWarning,\n"
     ]
    },
    {
     "name": "stdout",
     "output_type": "stream",
     "text": [
      "[14]\tvalidation_0-rmse:182.86457\n"
     ]
    },
    {
     "name": "stderr",
     "output_type": "stream",
     "text": [
      "\u001b[32m[I 2023-04-02 18:53:11,382]\u001b[0m Trial 13 finished with value: 182.86456674809475 and parameters: {'learning_rate': 0.1554232328194118, 'reg_lambda': 23.784691925410726, 'reg_alpha': 4.566855809454331e-05, 'subsample': 0.7938808808934796, 'colsample_bytree': 0.9980147279472453, 'max_depth': 1}. Best is trial 11 with value: 137.02363735034362.\u001b[0m\n"
     ]
    },
    {
     "name": "stdout",
     "output_type": "stream",
     "text": [
      "[0]\tvalidation_0-rmse:643.75602\n"
     ]
    },
    {
     "name": "stderr",
     "output_type": "stream",
     "text": [
      "/opt/conda/lib/python3.7/site-packages/ipykernel_launcher.py:6: FutureWarning: suggest_loguniform has been deprecated in v3.0.0. This feature will be removed in v6.0.0. See https://github.com/optuna/optuna/releases/tag/v3.0.0. Use :func:`~optuna.trial.Trial.suggest_float` instead.\n",
      "  \n",
      "/opt/conda/lib/python3.7/site-packages/ipykernel_launcher.py:7: FutureWarning: suggest_loguniform has been deprecated in v3.0.0. This feature will be removed in v6.0.0. See https://github.com/optuna/optuna/releases/tag/v3.0.0. Use :func:`~optuna.trial.Trial.suggest_float` instead.\n",
      "  import sys\n",
      "/opt/conda/lib/python3.7/site-packages/xgboost/sklearn.py:797: UserWarning: `eval_metric` in `fit` method is deprecated for better compatibility with scikit-learn, use `eval_metric` in constructor or`set_params` instead.\n",
      "  UserWarning,\n",
      "/opt/conda/lib/python3.7/site-packages/xgboost/sklearn.py:797: UserWarning: `early_stopping_rounds` in `fit` method is deprecated for better compatibility with scikit-learn, use `early_stopping_rounds` in constructor or`set_params` instead.\n",
      "  UserWarning,\n"
     ]
    },
    {
     "name": "stdout",
     "output_type": "stream",
     "text": [
      "[14]\tvalidation_0-rmse:153.53337\n"
     ]
    },
    {
     "name": "stderr",
     "output_type": "stream",
     "text": [
      "\u001b[32m[I 2023-04-02 18:53:12,197]\u001b[0m Trial 14 finished with value: 153.5333741481138 and parameters: {'learning_rate': 0.12878924590133606, 'reg_lambda': 81.71522732006015, 'reg_alpha': 8.214796323569295e-06, 'subsample': 0.5758800250475099, 'colsample_bytree': 0.9204722092281251, 'max_depth': 3}. Best is trial 11 with value: 137.02363735034362.\u001b[0m\n"
     ]
    },
    {
     "name": "stdout",
     "output_type": "stream",
     "text": [
      "[0]\tvalidation_0-rmse:638.59901\n"
     ]
    },
    {
     "name": "stderr",
     "output_type": "stream",
     "text": [
      "/opt/conda/lib/python3.7/site-packages/ipykernel_launcher.py:6: FutureWarning: suggest_loguniform has been deprecated in v3.0.0. This feature will be removed in v6.0.0. See https://github.com/optuna/optuna/releases/tag/v3.0.0. Use :func:`~optuna.trial.Trial.suggest_float` instead.\n",
      "  \n",
      "/opt/conda/lib/python3.7/site-packages/ipykernel_launcher.py:7: FutureWarning: suggest_loguniform has been deprecated in v3.0.0. This feature will be removed in v6.0.0. See https://github.com/optuna/optuna/releases/tag/v3.0.0. Use :func:`~optuna.trial.Trial.suggest_float` instead.\n",
      "  import sys\n",
      "/opt/conda/lib/python3.7/site-packages/xgboost/sklearn.py:797: UserWarning: `eval_metric` in `fit` method is deprecated for better compatibility with scikit-learn, use `eval_metric` in constructor or`set_params` instead.\n",
      "  UserWarning,\n",
      "/opt/conda/lib/python3.7/site-packages/xgboost/sklearn.py:797: UserWarning: `early_stopping_rounds` in `fit` method is deprecated for better compatibility with scikit-learn, use `early_stopping_rounds` in constructor or`set_params` instead.\n",
      "  UserWarning,\n"
     ]
    },
    {
     "name": "stdout",
     "output_type": "stream",
     "text": [
      "[14]\tvalidation_0-rmse:139.28296\n"
     ]
    },
    {
     "name": "stderr",
     "output_type": "stream",
     "text": [
      "\u001b[32m[I 2023-04-02 18:53:13,017]\u001b[0m Trial 15 finished with value: 139.2829573266734 and parameters: {'learning_rate': 0.1296728300932593, 'reg_lambda': 2.2627462455207326, 'reg_alpha': 0.0009083854235913003, 'subsample': 0.8390235375759326, 'colsample_bytree': 0.8450647444857076, 'max_depth': 3}. Best is trial 11 with value: 137.02363735034362.\u001b[0m\n"
     ]
    },
    {
     "name": "stdout",
     "output_type": "stream",
     "text": [
      "[0]\tvalidation_0-rmse:585.02946\n"
     ]
    },
    {
     "name": "stderr",
     "output_type": "stream",
     "text": [
      "/opt/conda/lib/python3.7/site-packages/ipykernel_launcher.py:6: FutureWarning: suggest_loguniform has been deprecated in v3.0.0. This feature will be removed in v6.0.0. See https://github.com/optuna/optuna/releases/tag/v3.0.0. Use :func:`~optuna.trial.Trial.suggest_float` instead.\n",
      "  \n",
      "/opt/conda/lib/python3.7/site-packages/ipykernel_launcher.py:7: FutureWarning: suggest_loguniform has been deprecated in v3.0.0. This feature will be removed in v6.0.0. See https://github.com/optuna/optuna/releases/tag/v3.0.0. Use :func:`~optuna.trial.Trial.suggest_float` instead.\n",
      "  import sys\n",
      "/opt/conda/lib/python3.7/site-packages/xgboost/sklearn.py:797: UserWarning: `eval_metric` in `fit` method is deprecated for better compatibility with scikit-learn, use `eval_metric` in constructor or`set_params` instead.\n",
      "  UserWarning,\n",
      "/opt/conda/lib/python3.7/site-packages/xgboost/sklearn.py:797: UserWarning: `early_stopping_rounds` in `fit` method is deprecated for better compatibility with scikit-learn, use `early_stopping_rounds` in constructor or`set_params` instead.\n",
      "  UserWarning,\n"
     ]
    },
    {
     "name": "stdout",
     "output_type": "stream",
     "text": [
      "[14]\tvalidation_0-rmse:138.73633\n"
     ]
    },
    {
     "name": "stderr",
     "output_type": "stream",
     "text": [
      "\u001b[32m[I 2023-04-02 18:53:13,525]\u001b[0m Trial 16 finished with value: 138.73633436530145 and parameters: {'learning_rate': 0.24687265809731485, 'reg_lambda': 0.04797324715376172, 'reg_alpha': 3.049729789722249e-06, 'subsample': 0.6227170771283853, 'colsample_bytree': 0.8085940256941169, 'max_depth': 1}. Best is trial 11 with value: 137.02363735034362.\u001b[0m\n"
     ]
    },
    {
     "name": "stdout",
     "output_type": "stream",
     "text": [
      "[0]\tvalidation_0-rmse:661.79640\n"
     ]
    },
    {
     "name": "stderr",
     "output_type": "stream",
     "text": [
      "/opt/conda/lib/python3.7/site-packages/ipykernel_launcher.py:6: FutureWarning: suggest_loguniform has been deprecated in v3.0.0. This feature will be removed in v6.0.0. See https://github.com/optuna/optuna/releases/tag/v3.0.0. Use :func:`~optuna.trial.Trial.suggest_float` instead.\n",
      "  \n",
      "/opt/conda/lib/python3.7/site-packages/ipykernel_launcher.py:7: FutureWarning: suggest_loguniform has been deprecated in v3.0.0. This feature will be removed in v6.0.0. See https://github.com/optuna/optuna/releases/tag/v3.0.0. Use :func:`~optuna.trial.Trial.suggest_float` instead.\n",
      "  import sys\n",
      "/opt/conda/lib/python3.7/site-packages/xgboost/sklearn.py:797: UserWarning: `eval_metric` in `fit` method is deprecated for better compatibility with scikit-learn, use `eval_metric` in constructor or`set_params` instead.\n",
      "  UserWarning,\n",
      "/opt/conda/lib/python3.7/site-packages/xgboost/sklearn.py:797: UserWarning: `early_stopping_rounds` in `fit` method is deprecated for better compatibility with scikit-learn, use `early_stopping_rounds` in constructor or`set_params` instead.\n",
      "  UserWarning,\n"
     ]
    },
    {
     "name": "stdout",
     "output_type": "stream",
     "text": [
      "[14]\tvalidation_0-rmse:201.35341\n"
     ]
    },
    {
     "name": "stderr",
     "output_type": "stream",
     "text": [
      "\u001b[32m[I 2023-04-02 18:53:14,227]\u001b[0m Trial 17 finished with value: 201.35340988296744 and parameters: {'learning_rate': 0.09952678508570717, 'reg_lambda': 3.0462592424154042, 'reg_alpha': 0.0005405885664879213, 'subsample': 0.8660031689291283, 'colsample_bytree': 0.9870690790668207, 'max_depth': 2}. Best is trial 11 with value: 137.02363735034362.\u001b[0m\n"
     ]
    },
    {
     "name": "stdout",
     "output_type": "stream",
     "text": [
      "[0]\tvalidation_0-rmse:604.58244\n"
     ]
    },
    {
     "name": "stderr",
     "output_type": "stream",
     "text": [
      "/opt/conda/lib/python3.7/site-packages/ipykernel_launcher.py:6: FutureWarning: suggest_loguniform has been deprecated in v3.0.0. This feature will be removed in v6.0.0. See https://github.com/optuna/optuna/releases/tag/v3.0.0. Use :func:`~optuna.trial.Trial.suggest_float` instead.\n",
      "  \n",
      "/opt/conda/lib/python3.7/site-packages/ipykernel_launcher.py:7: FutureWarning: suggest_loguniform has been deprecated in v3.0.0. This feature will be removed in v6.0.0. See https://github.com/optuna/optuna/releases/tag/v3.0.0. Use :func:`~optuna.trial.Trial.suggest_float` instead.\n",
      "  import sys\n",
      "/opt/conda/lib/python3.7/site-packages/xgboost/sklearn.py:797: UserWarning: `eval_metric` in `fit` method is deprecated for better compatibility with scikit-learn, use `eval_metric` in constructor or`set_params` instead.\n",
      "  UserWarning,\n",
      "/opt/conda/lib/python3.7/site-packages/xgboost/sklearn.py:797: UserWarning: `early_stopping_rounds` in `fit` method is deprecated for better compatibility with scikit-learn, use `early_stopping_rounds` in constructor or`set_params` instead.\n",
      "  UserWarning,\n"
     ]
    },
    {
     "name": "stdout",
     "output_type": "stream",
     "text": [
      "[14]\tvalidation_0-rmse:100.88056\n"
     ]
    },
    {
     "name": "stderr",
     "output_type": "stream",
     "text": [
      "\u001b[32m[I 2023-04-02 18:53:15,041]\u001b[0m Trial 18 finished with value: 100.88055869750656 and parameters: {'learning_rate': 0.17823296798234156, 'reg_lambda': 0.028734441460888396, 'reg_alpha': 2.1227729320102227e-06, 'subsample': 0.7075769320006026, 'colsample_bytree': 0.8727659565519095, 'max_depth': 3}. Best is trial 18 with value: 100.88055869750656.\u001b[0m\n"
     ]
    },
    {
     "name": "stdout",
     "output_type": "stream",
     "text": [
      "[0]\tvalidation_0-rmse:614.62494\n"
     ]
    },
    {
     "name": "stderr",
     "output_type": "stream",
     "text": [
      "/opt/conda/lib/python3.7/site-packages/ipykernel_launcher.py:6: FutureWarning: suggest_loguniform has been deprecated in v3.0.0. This feature will be removed in v6.0.0. See https://github.com/optuna/optuna/releases/tag/v3.0.0. Use :func:`~optuna.trial.Trial.suggest_float` instead.\n",
      "  \n",
      "/opt/conda/lib/python3.7/site-packages/ipykernel_launcher.py:7: FutureWarning: suggest_loguniform has been deprecated in v3.0.0. This feature will be removed in v6.0.0. See https://github.com/optuna/optuna/releases/tag/v3.0.0. Use :func:`~optuna.trial.Trial.suggest_float` instead.\n",
      "  import sys\n",
      "/opt/conda/lib/python3.7/site-packages/xgboost/sklearn.py:797: UserWarning: `eval_metric` in `fit` method is deprecated for better compatibility with scikit-learn, use `eval_metric` in constructor or`set_params` instead.\n",
      "  UserWarning,\n",
      "/opt/conda/lib/python3.7/site-packages/xgboost/sklearn.py:797: UserWarning: `early_stopping_rounds` in `fit` method is deprecated for better compatibility with scikit-learn, use `early_stopping_rounds` in constructor or`set_params` instead.\n",
      "  UserWarning,\n"
     ]
    },
    {
     "name": "stdout",
     "output_type": "stream",
     "text": [
      "[14]\tvalidation_0-rmse:94.32745\n"
     ]
    },
    {
     "name": "stderr",
     "output_type": "stream",
     "text": [
      "\u001b[32m[I 2023-04-02 18:53:16,141]\u001b[0m Trial 19 finished with value: 94.32744774732504 and parameters: {'learning_rate': 0.1616240594058608, 'reg_lambda': 0.013516019254329258, 'reg_alpha': 2.3687224128957592e-06, 'subsample': 0.577599250918539, 'colsample_bytree': 0.8690102104757789, 'max_depth': 5}. Best is trial 19 with value: 94.32744774732504.\u001b[0m\n",
      "/opt/conda/lib/python3.7/site-packages/ipykernel_launcher.py:6: FutureWarning: suggest_loguniform has been deprecated in v3.0.0. This feature will be removed in v6.0.0. See https://github.com/optuna/optuna/releases/tag/v3.0.0. Use :func:`~optuna.trial.Trial.suggest_float` instead.\n",
      "  \n",
      "/opt/conda/lib/python3.7/site-packages/ipykernel_launcher.py:7: FutureWarning: suggest_loguniform has been deprecated in v3.0.0. This feature will be removed in v6.0.0. See https://github.com/optuna/optuna/releases/tag/v3.0.0. Use :func:`~optuna.trial.Trial.suggest_float` instead.\n",
      "  import sys\n",
      "/opt/conda/lib/python3.7/site-packages/xgboost/sklearn.py:797: UserWarning: `eval_metric` in `fit` method is deprecated for better compatibility with scikit-learn, use `eval_metric` in constructor or`set_params` instead.\n",
      "  UserWarning,\n",
      "/opt/conda/lib/python3.7/site-packages/xgboost/sklearn.py:797: UserWarning: `early_stopping_rounds` in `fit` method is deprecated for better compatibility with scikit-learn, use `early_stopping_rounds` in constructor or`set_params` instead.\n",
      "  UserWarning,\n"
     ]
    },
    {
     "name": "stdout",
     "output_type": "stream",
     "text": [
      "[0]\tvalidation_0-rmse:612.54799\n",
      "[14]\tvalidation_0-rmse:94.21415\n"
     ]
    },
    {
     "name": "stderr",
     "output_type": "stream",
     "text": [
      "\u001b[32m[I 2023-04-02 18:53:17,295]\u001b[0m Trial 20 finished with value: 94.21414752756218 and parameters: {'learning_rate': 0.16396603787941702, 'reg_lambda': 0.004628670517889459, 'reg_alpha': 1.4791916014235225e-06, 'subsample': 0.5953798926964667, 'colsample_bytree': 0.8603949474368748, 'max_depth': 5}. Best is trial 20 with value: 94.21414752756218.\u001b[0m\n"
     ]
    },
    {
     "name": "stdout",
     "output_type": "stream",
     "text": [
      "[0]\tvalidation_0-rmse:612.39874\n"
     ]
    },
    {
     "name": "stderr",
     "output_type": "stream",
     "text": [
      "/opt/conda/lib/python3.7/site-packages/ipykernel_launcher.py:6: FutureWarning: suggest_loguniform has been deprecated in v3.0.0. This feature will be removed in v6.0.0. See https://github.com/optuna/optuna/releases/tag/v3.0.0. Use :func:`~optuna.trial.Trial.suggest_float` instead.\n",
      "  \n",
      "/opt/conda/lib/python3.7/site-packages/ipykernel_launcher.py:7: FutureWarning: suggest_loguniform has been deprecated in v3.0.0. This feature will be removed in v6.0.0. See https://github.com/optuna/optuna/releases/tag/v3.0.0. Use :func:`~optuna.trial.Trial.suggest_float` instead.\n",
      "  import sys\n",
      "/opt/conda/lib/python3.7/site-packages/xgboost/sklearn.py:797: UserWarning: `eval_metric` in `fit` method is deprecated for better compatibility with scikit-learn, use `eval_metric` in constructor or`set_params` instead.\n",
      "  UserWarning,\n",
      "/opt/conda/lib/python3.7/site-packages/xgboost/sklearn.py:797: UserWarning: `early_stopping_rounds` in `fit` method is deprecated for better compatibility with scikit-learn, use `early_stopping_rounds` in constructor or`set_params` instead.\n",
      "  UserWarning,\n"
     ]
    },
    {
     "name": "stdout",
     "output_type": "stream",
     "text": [
      "[14]\tvalidation_0-rmse:94.32519\n"
     ]
    },
    {
     "name": "stderr",
     "output_type": "stream",
     "text": [
      "\u001b[32m[I 2023-04-02 18:53:18,403]\u001b[0m Trial 21 finished with value: 94.32519222361393 and parameters: {'learning_rate': 0.16469985452394187, 'reg_lambda': 0.008341961653799097, 'reg_alpha': 1.671459992795143e-06, 'subsample': 0.5585269089996251, 'colsample_bytree': 0.8554977777735914, 'max_depth': 5}. Best is trial 20 with value: 94.21414752756218.\u001b[0m\n",
      "/opt/conda/lib/python3.7/site-packages/ipykernel_launcher.py:6: FutureWarning: suggest_loguniform has been deprecated in v3.0.0. This feature will be removed in v6.0.0. See https://github.com/optuna/optuna/releases/tag/v3.0.0. Use :func:`~optuna.trial.Trial.suggest_float` instead.\n",
      "  \n",
      "/opt/conda/lib/python3.7/site-packages/ipykernel_launcher.py:7: FutureWarning: suggest_loguniform has been deprecated in v3.0.0. This feature will be removed in v6.0.0. See https://github.com/optuna/optuna/releases/tag/v3.0.0. Use :func:`~optuna.trial.Trial.suggest_float` instead.\n",
      "  import sys\n",
      "/opt/conda/lib/python3.7/site-packages/xgboost/sklearn.py:797: UserWarning: `eval_metric` in `fit` method is deprecated for better compatibility with scikit-learn, use `eval_metric` in constructor or`set_params` instead.\n",
      "  UserWarning,\n",
      "/opt/conda/lib/python3.7/site-packages/xgboost/sklearn.py:797: UserWarning: `early_stopping_rounds` in `fit` method is deprecated for better compatibility with scikit-learn, use `early_stopping_rounds` in constructor or`set_params` instead.\n",
      "  UserWarning,\n"
     ]
    },
    {
     "name": "stdout",
     "output_type": "stream",
     "text": [
      "[0]\tvalidation_0-rmse:661.77326\n",
      "[14]\tvalidation_0-rmse:184.79692\n"
     ]
    },
    {
     "name": "stderr",
     "output_type": "stream",
     "text": [
      "\u001b[32m[I 2023-04-02 18:53:19,458]\u001b[0m Trial 22 finished with value: 184.79691698354299 and parameters: {'learning_rate': 0.09537797365583577, 'reg_lambda': 0.0029547260601045047, 'reg_alpha': 4.4378937240273275e-07, 'subsample': 0.5638563381217584, 'colsample_bytree': 0.7831393882568618, 'max_depth': 5}. Best is trial 20 with value: 94.21414752756218.\u001b[0m\n",
      "/opt/conda/lib/python3.7/site-packages/ipykernel_launcher.py:6: FutureWarning: suggest_loguniform has been deprecated in v3.0.0. This feature will be removed in v6.0.0. See https://github.com/optuna/optuna/releases/tag/v3.0.0. Use :func:`~optuna.trial.Trial.suggest_float` instead.\n",
      "  \n",
      "/opt/conda/lib/python3.7/site-packages/ipykernel_launcher.py:7: FutureWarning: suggest_loguniform has been deprecated in v3.0.0. This feature will be removed in v6.0.0. See https://github.com/optuna/optuna/releases/tag/v3.0.0. Use :func:`~optuna.trial.Trial.suggest_float` instead.\n",
      "  import sys\n",
      "/opt/conda/lib/python3.7/site-packages/xgboost/sklearn.py:797: UserWarning: `eval_metric` in `fit` method is deprecated for better compatibility with scikit-learn, use `eval_metric` in constructor or`set_params` instead.\n",
      "  UserWarning,\n",
      "/opt/conda/lib/python3.7/site-packages/xgboost/sklearn.py:797: UserWarning: `early_stopping_rounds` in `fit` method is deprecated for better compatibility with scikit-learn, use `early_stopping_rounds` in constructor or`set_params` instead.\n",
      "  UserWarning,\n"
     ]
    },
    {
     "name": "stdout",
     "output_type": "stream",
     "text": [
      "[0]\tvalidation_0-rmse:613.45427\n",
      "[14]\tvalidation_0-rmse:93.90288\n"
     ]
    },
    {
     "name": "stderr",
     "output_type": "stream",
     "text": [
      "\u001b[32m[I 2023-04-02 18:53:21,456]\u001b[0m Trial 23 finished with value: 93.90288106053269 and parameters: {'learning_rate': 0.16313409554741687, 'reg_lambda': 0.007460974421270072, 'reg_alpha': 2.1022455794233642e-06, 'subsample': 0.5890981850835861, 'colsample_bytree': 0.8744692761705096, 'max_depth': 5}. Best is trial 23 with value: 93.90288106053269.\u001b[0m\n",
      "/opt/conda/lib/python3.7/site-packages/ipykernel_launcher.py:6: FutureWarning: suggest_loguniform has been deprecated in v3.0.0. This feature will be removed in v6.0.0. See https://github.com/optuna/optuna/releases/tag/v3.0.0. Use :func:`~optuna.trial.Trial.suggest_float` instead.\n",
      "  \n",
      "/opt/conda/lib/python3.7/site-packages/ipykernel_launcher.py:7: FutureWarning: suggest_loguniform has been deprecated in v3.0.0. This feature will be removed in v6.0.0. See https://github.com/optuna/optuna/releases/tag/v3.0.0. Use :func:`~optuna.trial.Trial.suggest_float` instead.\n",
      "  import sys\n",
      "/opt/conda/lib/python3.7/site-packages/xgboost/sklearn.py:797: UserWarning: `eval_metric` in `fit` method is deprecated for better compatibility with scikit-learn, use `eval_metric` in constructor or`set_params` instead.\n",
      "  UserWarning,\n",
      "/opt/conda/lib/python3.7/site-packages/xgboost/sklearn.py:797: UserWarning: `early_stopping_rounds` in `fit` method is deprecated for better compatibility with scikit-learn, use `early_stopping_rounds` in constructor or`set_params` instead.\n",
      "  UserWarning,\n"
     ]
    },
    {
     "name": "stdout",
     "output_type": "stream",
     "text": [
      "[0]\tvalidation_0-rmse:674.11880\n",
      "[14]\tvalidation_0-rmse:236.51599\n"
     ]
    },
    {
     "name": "stderr",
     "output_type": "stream",
     "text": [
      "\u001b[32m[I 2023-04-02 18:53:22,564]\u001b[0m Trial 24 finished with value: 236.51598905783467 and parameters: {'learning_rate': 0.07778290029202829, 'reg_lambda': 0.005071768536169401, 'reg_alpha': 4.653791452337089e-08, 'subsample': 0.5140904416219425, 'colsample_bytree': 0.6885053546308624, 'max_depth': 6}. Best is trial 23 with value: 93.90288106053269.\u001b[0m\n",
      "/opt/conda/lib/python3.7/site-packages/ipykernel_launcher.py:6: FutureWarning: suggest_loguniform has been deprecated in v3.0.0. This feature will be removed in v6.0.0. See https://github.com/optuna/optuna/releases/tag/v3.0.0. Use :func:`~optuna.trial.Trial.suggest_float` instead.\n",
      "  \n",
      "/opt/conda/lib/python3.7/site-packages/ipykernel_launcher.py:7: FutureWarning: suggest_loguniform has been deprecated in v3.0.0. This feature will be removed in v6.0.0. See https://github.com/optuna/optuna/releases/tag/v3.0.0. Use :func:`~optuna.trial.Trial.suggest_float` instead.\n",
      "  import sys\n",
      "/opt/conda/lib/python3.7/site-packages/xgboost/sklearn.py:797: UserWarning: `eval_metric` in `fit` method is deprecated for better compatibility with scikit-learn, use `eval_metric` in constructor or`set_params` instead.\n",
      "  UserWarning,\n",
      "/opt/conda/lib/python3.7/site-packages/xgboost/sklearn.py:797: UserWarning: `early_stopping_rounds` in `fit` method is deprecated for better compatibility with scikit-learn, use `early_stopping_rounds` in constructor or`set_params` instead.\n",
      "  UserWarning,\n"
     ]
    },
    {
     "name": "stdout",
     "output_type": "stream",
     "text": [
      "[0]\tvalidation_0-rmse:646.55655\n",
      "[14]\tvalidation_0-rmse:140.72818\n"
     ]
    },
    {
     "name": "stderr",
     "output_type": "stream",
     "text": [
      "\u001b[32m[I 2023-04-02 18:53:23,819]\u001b[0m Trial 25 finished with value: 140.72817827303973 and parameters: {'learning_rate': 0.11585411491352125, 'reg_lambda': 0.00025267497087953084, 'reg_alpha': 8.141554774007477e-07, 'subsample': 0.6129113089351675, 'colsample_bytree': 0.8121901814445687, 'max_depth': 6}. Best is trial 23 with value: 93.90288106053269.\u001b[0m\n"
     ]
    },
    {
     "name": "stdout",
     "output_type": "stream",
     "text": [
      "[0]\tvalidation_0-rmse:605.79613\n"
     ]
    },
    {
     "name": "stderr",
     "output_type": "stream",
     "text": [
      "/opt/conda/lib/python3.7/site-packages/ipykernel_launcher.py:6: FutureWarning: suggest_loguniform has been deprecated in v3.0.0. This feature will be removed in v6.0.0. See https://github.com/optuna/optuna/releases/tag/v3.0.0. Use :func:`~optuna.trial.Trial.suggest_float` instead.\n",
      "  \n",
      "/opt/conda/lib/python3.7/site-packages/ipykernel_launcher.py:7: FutureWarning: suggest_loguniform has been deprecated in v3.0.0. This feature will be removed in v6.0.0. See https://github.com/optuna/optuna/releases/tag/v3.0.0. Use :func:`~optuna.trial.Trial.suggest_float` instead.\n",
      "  import sys\n",
      "/opt/conda/lib/python3.7/site-packages/xgboost/sklearn.py:797: UserWarning: `eval_metric` in `fit` method is deprecated for better compatibility with scikit-learn, use `eval_metric` in constructor or`set_params` instead.\n",
      "  UserWarning,\n",
      "/opt/conda/lib/python3.7/site-packages/xgboost/sklearn.py:797: UserWarning: `early_stopping_rounds` in `fit` method is deprecated for better compatibility with scikit-learn, use `early_stopping_rounds` in constructor or`set_params` instead.\n",
      "  UserWarning,\n"
     ]
    },
    {
     "name": "stdout",
     "output_type": "stream",
     "text": [
      "[14]\tvalidation_0-rmse:89.87377\n"
     ]
    },
    {
     "name": "stderr",
     "output_type": "stream",
     "text": [
      "\u001b[32m[I 2023-04-02 18:53:24,763]\u001b[0m Trial 26 finished with value: 89.87376709907147 and parameters: {'learning_rate': 0.17417079859868825, 'reg_lambda': 0.00875877527922861, 'reg_alpha': 1.1434518065711054e-05, 'subsample': 0.33806379237972894, 'colsample_bytree': 0.8618023190325318, 'max_depth': 5}. Best is trial 26 with value: 89.87376709907147.\u001b[0m\n"
     ]
    },
    {
     "name": "stdout",
     "output_type": "stream",
     "text": [
      "[0]\tvalidation_0-rmse:598.20526\n"
     ]
    },
    {
     "name": "stderr",
     "output_type": "stream",
     "text": [
      "/opt/conda/lib/python3.7/site-packages/ipykernel_launcher.py:6: FutureWarning: suggest_loguniform has been deprecated in v3.0.0. This feature will be removed in v6.0.0. See https://github.com/optuna/optuna/releases/tag/v3.0.0. Use :func:`~optuna.trial.Trial.suggest_float` instead.\n",
      "  \n",
      "/opt/conda/lib/python3.7/site-packages/ipykernel_launcher.py:7: FutureWarning: suggest_loguniform has been deprecated in v3.0.0. This feature will be removed in v6.0.0. See https://github.com/optuna/optuna/releases/tag/v3.0.0. Use :func:`~optuna.trial.Trial.suggest_float` instead.\n",
      "  import sys\n",
      "/opt/conda/lib/python3.7/site-packages/xgboost/sklearn.py:797: UserWarning: `eval_metric` in `fit` method is deprecated for better compatibility with scikit-learn, use `eval_metric` in constructor or`set_params` instead.\n",
      "  UserWarning,\n",
      "/opt/conda/lib/python3.7/site-packages/xgboost/sklearn.py:797: UserWarning: `early_stopping_rounds` in `fit` method is deprecated for better compatibility with scikit-learn, use `early_stopping_rounds` in constructor or`set_params` instead.\n",
      "  UserWarning,\n"
     ]
    },
    {
     "name": "stdout",
     "output_type": "stream",
     "text": [
      "[14]\tvalidation_0-rmse:86.37249\n"
     ]
    },
    {
     "name": "stderr",
     "output_type": "stream",
     "text": [
      "\u001b[32m[I 2023-04-02 18:53:25,902]\u001b[0m Trial 27 finished with value: 86.37249451677468 and parameters: {'learning_rate': 0.1843664551534317, 'reg_lambda': 0.07855396653071973, 'reg_alpha': 9.108045643677973e-06, 'subsample': 0.33047714862697036, 'colsample_bytree': 0.6894186171977617, 'max_depth': 7}. Best is trial 27 with value: 86.37249451677468.\u001b[0m\n"
     ]
    },
    {
     "name": "stdout",
     "output_type": "stream",
     "text": [
      "[0]\tvalidation_0-rmse:593.61636\n"
     ]
    },
    {
     "name": "stderr",
     "output_type": "stream",
     "text": [
      "/opt/conda/lib/python3.7/site-packages/ipykernel_launcher.py:6: FutureWarning: suggest_loguniform has been deprecated in v3.0.0. This feature will be removed in v6.0.0. See https://github.com/optuna/optuna/releases/tag/v3.0.0. Use :func:`~optuna.trial.Trial.suggest_float` instead.\n",
      "  \n",
      "/opt/conda/lib/python3.7/site-packages/ipykernel_launcher.py:7: FutureWarning: suggest_loguniform has been deprecated in v3.0.0. This feature will be removed in v6.0.0. See https://github.com/optuna/optuna/releases/tag/v3.0.0. Use :func:`~optuna.trial.Trial.suggest_float` instead.\n",
      "  import sys\n",
      "/opt/conda/lib/python3.7/site-packages/xgboost/sklearn.py:797: UserWarning: `eval_metric` in `fit` method is deprecated for better compatibility with scikit-learn, use `eval_metric` in constructor or`set_params` instead.\n",
      "  UserWarning,\n",
      "/opt/conda/lib/python3.7/site-packages/xgboost/sklearn.py:797: UserWarning: `early_stopping_rounds` in `fit` method is deprecated for better compatibility with scikit-learn, use `early_stopping_rounds` in constructor or`set_params` instead.\n",
      "  UserWarning,\n"
     ]
    },
    {
     "name": "stdout",
     "output_type": "stream",
     "text": [
      "[14]\tvalidation_0-rmse:84.46608\n"
     ]
    },
    {
     "name": "stderr",
     "output_type": "stream",
     "text": [
      "\u001b[32m[I 2023-04-02 18:53:26,990]\u001b[0m Trial 28 finished with value: 84.46608458054826 and parameters: {'learning_rate': 0.19070254526585578, 'reg_lambda': 0.12863077033879025, 'reg_alpha': 1.3206316683535496e-05, 'subsample': 0.2948968209510595, 'colsample_bytree': 0.7219898940554488, 'max_depth': 7}. Best is trial 28 with value: 84.46608458054826.\u001b[0m\n",
      "/opt/conda/lib/python3.7/site-packages/ipykernel_launcher.py:6: FutureWarning: suggest_loguniform has been deprecated in v3.0.0. This feature will be removed in v6.0.0. See https://github.com/optuna/optuna/releases/tag/v3.0.0. Use :func:`~optuna.trial.Trial.suggest_float` instead.\n",
      "  \n",
      "/opt/conda/lib/python3.7/site-packages/ipykernel_launcher.py:7: FutureWarning: suggest_loguniform has been deprecated in v3.0.0. This feature will be removed in v6.0.0. See https://github.com/optuna/optuna/releases/tag/v3.0.0. Use :func:`~optuna.trial.Trial.suggest_float` instead.\n",
      "  import sys\n",
      "/opt/conda/lib/python3.7/site-packages/xgboost/sklearn.py:797: UserWarning: `eval_metric` in `fit` method is deprecated for better compatibility with scikit-learn, use `eval_metric` in constructor or`set_params` instead.\n",
      "  UserWarning,\n",
      "/opt/conda/lib/python3.7/site-packages/xgboost/sklearn.py:797: UserWarning: `early_stopping_rounds` in `fit` method is deprecated for better compatibility with scikit-learn, use `early_stopping_rounds` in constructor or`set_params` instead.\n",
      "  UserWarning,\n"
     ]
    },
    {
     "name": "stdout",
     "output_type": "stream",
     "text": [
      "[0]\tvalidation_0-rmse:595.91412\n",
      "[14]\tvalidation_0-rmse:86.03438\n"
     ]
    },
    {
     "name": "stderr",
     "output_type": "stream",
     "text": [
      "\u001b[32m[I 2023-04-02 18:53:28,166]\u001b[0m Trial 29 finished with value: 86.03437618488542 and parameters: {'learning_rate': 0.18794850844692854, 'reg_lambda': 0.15428862001432336, 'reg_alpha': 1.7052811934466958e-05, 'subsample': 0.3446090942919057, 'colsample_bytree': 0.68369822611998, 'max_depth': 7}. Best is trial 28 with value: 84.46608458054826.\u001b[0m\n"
     ]
    },
    {
     "name": "stdout",
     "output_type": "stream",
     "text": [
      "[0]\tvalidation_0-rmse:585.65344\n"
     ]
    },
    {
     "name": "stderr",
     "output_type": "stream",
     "text": [
      "/opt/conda/lib/python3.7/site-packages/ipykernel_launcher.py:6: FutureWarning: suggest_loguniform has been deprecated in v3.0.0. This feature will be removed in v6.0.0. See https://github.com/optuna/optuna/releases/tag/v3.0.0. Use :func:`~optuna.trial.Trial.suggest_float` instead.\n",
      "  \n",
      "/opt/conda/lib/python3.7/site-packages/ipykernel_launcher.py:7: FutureWarning: suggest_loguniform has been deprecated in v3.0.0. This feature will be removed in v6.0.0. See https://github.com/optuna/optuna/releases/tag/v3.0.0. Use :func:`~optuna.trial.Trial.suggest_float` instead.\n",
      "  import sys\n",
      "/opt/conda/lib/python3.7/site-packages/xgboost/sklearn.py:797: UserWarning: `eval_metric` in `fit` method is deprecated for better compatibility with scikit-learn, use `eval_metric` in constructor or`set_params` instead.\n",
      "  UserWarning,\n",
      "/opt/conda/lib/python3.7/site-packages/xgboost/sklearn.py:797: UserWarning: `early_stopping_rounds` in `fit` method is deprecated for better compatibility with scikit-learn, use `early_stopping_rounds` in constructor or`set_params` instead.\n",
      "  UserWarning,\n"
     ]
    },
    {
     "name": "stdout",
     "output_type": "stream",
     "text": [
      "[14]\tvalidation_0-rmse:83.20264\n"
     ]
    },
    {
     "name": "stderr",
     "output_type": "stream",
     "text": [
      "\u001b[32m[I 2023-04-02 18:53:29,173]\u001b[0m Trial 30 finished with value: 83.20264338674133 and parameters: {'learning_rate': 0.20233879596541862, 'reg_lambda': 0.14750510887759788, 'reg_alpha': 0.00020371513201862903, 'subsample': 0.24828926521113148, 'colsample_bytree': 0.6758917694417381, 'max_depth': 7}. Best is trial 30 with value: 83.20264338674133.\u001b[0m\n"
     ]
    },
    {
     "name": "stdout",
     "output_type": "stream",
     "text": [
      "[0]\tvalidation_0-rmse:589.90399\n"
     ]
    },
    {
     "name": "stderr",
     "output_type": "stream",
     "text": [
      "/opt/conda/lib/python3.7/site-packages/ipykernel_launcher.py:6: FutureWarning: suggest_loguniform has been deprecated in v3.0.0. This feature will be removed in v6.0.0. See https://github.com/optuna/optuna/releases/tag/v3.0.0. Use :func:`~optuna.trial.Trial.suggest_float` instead.\n",
      "  \n",
      "/opt/conda/lib/python3.7/site-packages/ipykernel_launcher.py:7: FutureWarning: suggest_loguniform has been deprecated in v3.0.0. This feature will be removed in v6.0.0. See https://github.com/optuna/optuna/releases/tag/v3.0.0. Use :func:`~optuna.trial.Trial.suggest_float` instead.\n",
      "  import sys\n",
      "/opt/conda/lib/python3.7/site-packages/xgboost/sklearn.py:797: UserWarning: `eval_metric` in `fit` method is deprecated for better compatibility with scikit-learn, use `eval_metric` in constructor or`set_params` instead.\n",
      "  UserWarning,\n",
      "/opt/conda/lib/python3.7/site-packages/xgboost/sklearn.py:797: UserWarning: `early_stopping_rounds` in `fit` method is deprecated for better compatibility with scikit-learn, use `early_stopping_rounds` in constructor or`set_params` instead.\n",
      "  UserWarning,\n"
     ]
    },
    {
     "name": "stdout",
     "output_type": "stream",
     "text": [
      "[14]\tvalidation_0-rmse:84.47406\n"
     ]
    },
    {
     "name": "stderr",
     "output_type": "stream",
     "text": [
      "\u001b[32m[I 2023-04-02 18:53:30,184]\u001b[0m Trial 31 finished with value: 84.47406303430108 and parameters: {'learning_rate': 0.19683462577741762, 'reg_lambda': 0.19407736869453837, 'reg_alpha': 0.0002876275927403484, 'subsample': 0.23460814124338533, 'colsample_bytree': 0.6777853456451656, 'max_depth': 7}. Best is trial 30 with value: 83.20264338674133.\u001b[0m\n"
     ]
    },
    {
     "name": "stdout",
     "output_type": "stream",
     "text": [
      "[0]\tvalidation_0-rmse:587.84241\n"
     ]
    },
    {
     "name": "stderr",
     "output_type": "stream",
     "text": [
      "/opt/conda/lib/python3.7/site-packages/ipykernel_launcher.py:6: FutureWarning: suggest_loguniform has been deprecated in v3.0.0. This feature will be removed in v6.0.0. See https://github.com/optuna/optuna/releases/tag/v3.0.0. Use :func:`~optuna.trial.Trial.suggest_float` instead.\n",
      "  \n",
      "/opt/conda/lib/python3.7/site-packages/ipykernel_launcher.py:7: FutureWarning: suggest_loguniform has been deprecated in v3.0.0. This feature will be removed in v6.0.0. See https://github.com/optuna/optuna/releases/tag/v3.0.0. Use :func:`~optuna.trial.Trial.suggest_float` instead.\n",
      "  import sys\n",
      "/opt/conda/lib/python3.7/site-packages/xgboost/sklearn.py:797: UserWarning: `eval_metric` in `fit` method is deprecated for better compatibility with scikit-learn, use `eval_metric` in constructor or`set_params` instead.\n",
      "  UserWarning,\n",
      "/opt/conda/lib/python3.7/site-packages/xgboost/sklearn.py:797: UserWarning: `early_stopping_rounds` in `fit` method is deprecated for better compatibility with scikit-learn, use `early_stopping_rounds` in constructor or`set_params` instead.\n",
      "  UserWarning,\n"
     ]
    },
    {
     "name": "stdout",
     "output_type": "stream",
     "text": [
      "[14]\tvalidation_0-rmse:90.20462\n"
     ]
    },
    {
     "name": "stderr",
     "output_type": "stream",
     "text": [
      "\u001b[32m[I 2023-04-02 18:53:31,115]\u001b[0m Trial 32 finished with value: 90.2046176321636 and parameters: {'learning_rate': 0.20047462981171305, 'reg_lambda': 0.20741584866223126, 'reg_alpha': 0.00026653716462026063, 'subsample': 0.1979110759383394, 'colsample_bytree': 0.6412031884126645, 'max_depth': 7}. Best is trial 30 with value: 83.20264338674133.\u001b[0m\n"
     ]
    },
    {
     "name": "stdout",
     "output_type": "stream",
     "text": [
      "[0]\tvalidation_0-rmse:633.77639\n"
     ]
    },
    {
     "name": "stderr",
     "output_type": "stream",
     "text": [
      "/opt/conda/lib/python3.7/site-packages/ipykernel_launcher.py:6: FutureWarning: suggest_loguniform has been deprecated in v3.0.0. This feature will be removed in v6.0.0. See https://github.com/optuna/optuna/releases/tag/v3.0.0. Use :func:`~optuna.trial.Trial.suggest_float` instead.\n",
      "  \n",
      "/opt/conda/lib/python3.7/site-packages/ipykernel_launcher.py:7: FutureWarning: suggest_loguniform has been deprecated in v3.0.0. This feature will be removed in v6.0.0. See https://github.com/optuna/optuna/releases/tag/v3.0.0. Use :func:`~optuna.trial.Trial.suggest_float` instead.\n",
      "  import sys\n",
      "/opt/conda/lib/python3.7/site-packages/xgboost/sklearn.py:797: UserWarning: `eval_metric` in `fit` method is deprecated for better compatibility with scikit-learn, use `eval_metric` in constructor or`set_params` instead.\n",
      "  UserWarning,\n",
      "/opt/conda/lib/python3.7/site-packages/xgboost/sklearn.py:797: UserWarning: `early_stopping_rounds` in `fit` method is deprecated for better compatibility with scikit-learn, use `early_stopping_rounds` in constructor or`set_params` instead.\n",
      "  UserWarning,\n"
     ]
    },
    {
     "name": "stdout",
     "output_type": "stream",
     "text": [
      "[14]\tvalidation_0-rmse:138.71873\n"
     ]
    },
    {
     "name": "stderr",
     "output_type": "stream",
     "text": [
      "\u001b[32m[I 2023-04-02 18:53:31,930]\u001b[0m Trial 33 finished with value: 138.71872961986875 and parameters: {'learning_rate': 0.13683459270032156, 'reg_lambda': 0.21093289103584675, 'reg_alpha': 0.0026312426967675735, 'subsample': 0.1230378629676448, 'colsample_bytree': 0.5614837871829206, 'max_depth': 7}. Best is trial 30 with value: 83.20264338674133.\u001b[0m\n"
     ]
    },
    {
     "name": "stdout",
     "output_type": "stream",
     "text": [
      "[0]\tvalidation_0-rmse:587.81450\n"
     ]
    },
    {
     "name": "stderr",
     "output_type": "stream",
     "text": [
      "/opt/conda/lib/python3.7/site-packages/ipykernel_launcher.py:6: FutureWarning: suggest_loguniform has been deprecated in v3.0.0. This feature will be removed in v6.0.0. See https://github.com/optuna/optuna/releases/tag/v3.0.0. Use :func:`~optuna.trial.Trial.suggest_float` instead.\n",
      "  \n",
      "/opt/conda/lib/python3.7/site-packages/ipykernel_launcher.py:7: FutureWarning: suggest_loguniform has been deprecated in v3.0.0. This feature will be removed in v6.0.0. See https://github.com/optuna/optuna/releases/tag/v3.0.0. Use :func:`~optuna.trial.Trial.suggest_float` instead.\n",
      "  import sys\n",
      "/opt/conda/lib/python3.7/site-packages/xgboost/sklearn.py:797: UserWarning: `eval_metric` in `fit` method is deprecated for better compatibility with scikit-learn, use `eval_metric` in constructor or`set_params` instead.\n",
      "  UserWarning,\n",
      "/opt/conda/lib/python3.7/site-packages/xgboost/sklearn.py:797: UserWarning: `early_stopping_rounds` in `fit` method is deprecated for better compatibility with scikit-learn, use `early_stopping_rounds` in constructor or`set_params` instead.\n",
      "  UserWarning,\n"
     ]
    },
    {
     "name": "stdout",
     "output_type": "stream",
     "text": [
      "[14]\tvalidation_0-rmse:81.26273\n"
     ]
    },
    {
     "name": "stderr",
     "output_type": "stream",
     "text": [
      "\u001b[32m[I 2023-04-02 18:53:32,921]\u001b[0m Trial 34 finished with value: 81.26272871014517 and parameters: {'learning_rate': 0.19924439624248877, 'reg_lambda': 0.10787173207392568, 'reg_alpha': 0.002845259891937731, 'subsample': 0.2745465134662076, 'colsample_bytree': 0.7374442206212073, 'max_depth': 6}. Best is trial 34 with value: 81.26272871014517.\u001b[0m\n"
     ]
    },
    {
     "name": "stdout",
     "output_type": "stream",
     "text": [
      "[0]\tvalidation_0-rmse:587.50306\n"
     ]
    },
    {
     "name": "stderr",
     "output_type": "stream",
     "text": [
      "/opt/conda/lib/python3.7/site-packages/ipykernel_launcher.py:6: FutureWarning: suggest_loguniform has been deprecated in v3.0.0. This feature will be removed in v6.0.0. See https://github.com/optuna/optuna/releases/tag/v3.0.0. Use :func:`~optuna.trial.Trial.suggest_float` instead.\n",
      "  \n",
      "/opt/conda/lib/python3.7/site-packages/ipykernel_launcher.py:7: FutureWarning: suggest_loguniform has been deprecated in v3.0.0. This feature will be removed in v6.0.0. See https://github.com/optuna/optuna/releases/tag/v3.0.0. Use :func:`~optuna.trial.Trial.suggest_float` instead.\n",
      "  import sys\n",
      "/opt/conda/lib/python3.7/site-packages/xgboost/sklearn.py:797: UserWarning: `eval_metric` in `fit` method is deprecated for better compatibility with scikit-learn, use `eval_metric` in constructor or`set_params` instead.\n",
      "  UserWarning,\n",
      "/opt/conda/lib/python3.7/site-packages/xgboost/sklearn.py:797: UserWarning: `early_stopping_rounds` in `fit` method is deprecated for better compatibility with scikit-learn, use `early_stopping_rounds` in constructor or`set_params` instead.\n",
      "  UserWarning,\n"
     ]
    },
    {
     "name": "stdout",
     "output_type": "stream",
     "text": [
      "[14]\tvalidation_0-rmse:86.40525\n"
     ]
    },
    {
     "name": "stderr",
     "output_type": "stream",
     "text": [
      "\u001b[32m[I 2023-04-02 18:53:33,833]\u001b[0m Trial 35 finished with value: 86.40524703587543 and parameters: {'learning_rate': 0.20418469190127014, 'reg_lambda': 6.051698734105922, 'reg_alpha': 0.00344128168046164, 'subsample': 0.2575645007209853, 'colsample_bytree': 0.7346246410936464, 'max_depth': 6}. Best is trial 34 with value: 81.26272871014517.\u001b[0m\n"
     ]
    },
    {
     "name": "stdout",
     "output_type": "stream",
     "text": [
      "[0]\tvalidation_0-rmse:631.00775\n"
     ]
    },
    {
     "name": "stderr",
     "output_type": "stream",
     "text": [
      "/opt/conda/lib/python3.7/site-packages/ipykernel_launcher.py:6: FutureWarning: suggest_loguniform has been deprecated in v3.0.0. This feature will be removed in v6.0.0. See https://github.com/optuna/optuna/releases/tag/v3.0.0. Use :func:`~optuna.trial.Trial.suggest_float` instead.\n",
      "  \n",
      "/opt/conda/lib/python3.7/site-packages/ipykernel_launcher.py:7: FutureWarning: suggest_loguniform has been deprecated in v3.0.0. This feature will be removed in v6.0.0. See https://github.com/optuna/optuna/releases/tag/v3.0.0. Use :func:`~optuna.trial.Trial.suggest_float` instead.\n",
      "  import sys\n",
      "/opt/conda/lib/python3.7/site-packages/xgboost/sklearn.py:797: UserWarning: `eval_metric` in `fit` method is deprecated for better compatibility with scikit-learn, use `eval_metric` in constructor or`set_params` instead.\n",
      "  UserWarning,\n",
      "/opt/conda/lib/python3.7/site-packages/xgboost/sklearn.py:797: UserWarning: `early_stopping_rounds` in `fit` method is deprecated for better compatibility with scikit-learn, use `early_stopping_rounds` in constructor or`set_params` instead.\n",
      "  UserWarning,\n"
     ]
    },
    {
     "name": "stdout",
     "output_type": "stream",
     "text": [
      "[14]\tvalidation_0-rmse:124.95298\n"
     ]
    },
    {
     "name": "stderr",
     "output_type": "stream",
     "text": [
      "\u001b[32m[I 2023-04-02 18:53:34,829]\u001b[0m Trial 36 finished with value: 124.9529775519213 and parameters: {'learning_rate': 0.13897950095606512, 'reg_lambda': 0.49045138198635374, 'reg_alpha': 0.0002454996997704343, 'subsample': 0.40693116574431654, 'colsample_bytree': 0.6403396471719054, 'max_depth': 6}. Best is trial 34 with value: 81.26272871014517.\u001b[0m\n"
     ]
    },
    {
     "name": "stdout",
     "output_type": "stream",
     "text": [
      "[0]\tvalidation_0-rmse:582.94776\n"
     ]
    },
    {
     "name": "stderr",
     "output_type": "stream",
     "text": [
      "/opt/conda/lib/python3.7/site-packages/ipykernel_launcher.py:6: FutureWarning: suggest_loguniform has been deprecated in v3.0.0. This feature will be removed in v6.0.0. See https://github.com/optuna/optuna/releases/tag/v3.0.0. Use :func:`~optuna.trial.Trial.suggest_float` instead.\n",
      "  \n",
      "/opt/conda/lib/python3.7/site-packages/ipykernel_launcher.py:7: FutureWarning: suggest_loguniform has been deprecated in v3.0.0. This feature will be removed in v6.0.0. See https://github.com/optuna/optuna/releases/tag/v3.0.0. Use :func:`~optuna.trial.Trial.suggest_float` instead.\n",
      "  import sys\n",
      "/opt/conda/lib/python3.7/site-packages/xgboost/sklearn.py:797: UserWarning: `eval_metric` in `fit` method is deprecated for better compatibility with scikit-learn, use `eval_metric` in constructor or`set_params` instead.\n",
      "  UserWarning,\n",
      "/opt/conda/lib/python3.7/site-packages/xgboost/sklearn.py:797: UserWarning: `early_stopping_rounds` in `fit` method is deprecated for better compatibility with scikit-learn, use `early_stopping_rounds` in constructor or`set_params` instead.\n",
      "  UserWarning,\n"
     ]
    },
    {
     "name": "stdout",
     "output_type": "stream",
     "text": [
      "[14]\tvalidation_0-rmse:79.35187\n"
     ]
    },
    {
     "name": "stderr",
     "output_type": "stream",
     "text": [
      "\u001b[32m[I 2023-04-02 18:53:35,918]\u001b[0m Trial 37 finished with value: 79.35187422525867 and parameters: {'learning_rate': 0.2054135387418983, 'reg_lambda': 0.040731645344800574, 'reg_alpha': 0.0016812996365608813, 'subsample': 0.26770600576480347, 'colsample_bytree': 0.7655735328800468, 'max_depth': 7}. Best is trial 37 with value: 79.35187422525867.\u001b[0m\n"
     ]
    },
    {
     "name": "stdout",
     "output_type": "stream",
     "text": [
      "[0]\tvalidation_0-rmse:648.10504\n"
     ]
    },
    {
     "name": "stderr",
     "output_type": "stream",
     "text": [
      "/opt/conda/lib/python3.7/site-packages/ipykernel_launcher.py:6: FutureWarning: suggest_loguniform has been deprecated in v3.0.0. This feature will be removed in v6.0.0. See https://github.com/optuna/optuna/releases/tag/v3.0.0. Use :func:`~optuna.trial.Trial.suggest_float` instead.\n",
      "  \n",
      "/opt/conda/lib/python3.7/site-packages/ipykernel_launcher.py:7: FutureWarning: suggest_loguniform has been deprecated in v3.0.0. This feature will be removed in v6.0.0. See https://github.com/optuna/optuna/releases/tag/v3.0.0. Use :func:`~optuna.trial.Trial.suggest_float` instead.\n",
      "  import sys\n",
      "/opt/conda/lib/python3.7/site-packages/xgboost/sklearn.py:797: UserWarning: `eval_metric` in `fit` method is deprecated for better compatibility with scikit-learn, use `eval_metric` in constructor or`set_params` instead.\n",
      "  UserWarning,\n",
      "/opt/conda/lib/python3.7/site-packages/xgboost/sklearn.py:797: UserWarning: `early_stopping_rounds` in `fit` method is deprecated for better compatibility with scikit-learn, use `early_stopping_rounds` in constructor or`set_params` instead.\n",
      "  UserWarning,\n"
     ]
    },
    {
     "name": "stdout",
     "output_type": "stream",
     "text": [
      "[14]\tvalidation_0-rmse:142.74570\n"
     ]
    },
    {
     "name": "stderr",
     "output_type": "stream",
     "text": [
      "\u001b[32m[I 2023-04-02 18:53:36,993]\u001b[0m Trial 38 finished with value: 142.74570292399383 and parameters: {'learning_rate': 0.11424862341584735, 'reg_lambda': 0.029226429274229426, 'reg_alpha': 0.009191452910425177, 'subsample': 0.2787195158081672, 'colsample_bytree': 0.7529367365750399, 'max_depth': 7}. Best is trial 37 with value: 79.35187422525867.\u001b[0m\n"
     ]
    },
    {
     "name": "stdout",
     "output_type": "stream",
     "text": [
      "[0]\tvalidation_0-rmse:583.28618\n"
     ]
    },
    {
     "name": "stderr",
     "output_type": "stream",
     "text": [
      "/opt/conda/lib/python3.7/site-packages/ipykernel_launcher.py:6: FutureWarning: suggest_loguniform has been deprecated in v3.0.0. This feature will be removed in v6.0.0. See https://github.com/optuna/optuna/releases/tag/v3.0.0. Use :func:`~optuna.trial.Trial.suggest_float` instead.\n",
      "  \n",
      "/opt/conda/lib/python3.7/site-packages/ipykernel_launcher.py:7: FutureWarning: suggest_loguniform has been deprecated in v3.0.0. This feature will be removed in v6.0.0. See https://github.com/optuna/optuna/releases/tag/v3.0.0. Use :func:`~optuna.trial.Trial.suggest_float` instead.\n",
      "  import sys\n",
      "/opt/conda/lib/python3.7/site-packages/xgboost/sklearn.py:797: UserWarning: `eval_metric` in `fit` method is deprecated for better compatibility with scikit-learn, use `eval_metric` in constructor or`set_params` instead.\n",
      "  UserWarning,\n",
      "/opt/conda/lib/python3.7/site-packages/xgboost/sklearn.py:797: UserWarning: `early_stopping_rounds` in `fit` method is deprecated for better compatibility with scikit-learn, use `early_stopping_rounds` in constructor or`set_params` instead.\n",
      "  UserWarning,\n"
     ]
    },
    {
     "name": "stdout",
     "output_type": "stream",
     "text": [
      "[14]\tvalidation_0-rmse:98.62590\n"
     ]
    },
    {
     "name": "stderr",
     "output_type": "stream",
     "text": [
      "\u001b[32m[I 2023-04-02 18:53:37,742]\u001b[0m Trial 39 finished with value: 98.62590374071715 and parameters: {'learning_rate': 0.2080644918660629, 'reg_lambda': 0.06260703209667438, 'reg_alpha': 0.0017055542408724836, 'subsample': 0.1422577628498533, 'colsample_bytree': 0.5668120972399247, 'max_depth': 6}. Best is trial 37 with value: 79.35187422525867.\u001b[0m\n"
     ]
    },
    {
     "name": "stdout",
     "output_type": "stream",
     "text": [
      "[0]\tvalidation_0-rmse:679.46047\n"
     ]
    },
    {
     "name": "stderr",
     "output_type": "stream",
     "text": [
      "/opt/conda/lib/python3.7/site-packages/ipykernel_launcher.py:6: FutureWarning: suggest_loguniform has been deprecated in v3.0.0. This feature will be removed in v6.0.0. See https://github.com/optuna/optuna/releases/tag/v3.0.0. Use :func:`~optuna.trial.Trial.suggest_float` instead.\n",
      "  \n",
      "/opt/conda/lib/python3.7/site-packages/ipykernel_launcher.py:7: FutureWarning: suggest_loguniform has been deprecated in v3.0.0. This feature will be removed in v6.0.0. See https://github.com/optuna/optuna/releases/tag/v3.0.0. Use :func:`~optuna.trial.Trial.suggest_float` instead.\n",
      "  import sys\n",
      "/opt/conda/lib/python3.7/site-packages/xgboost/sklearn.py:797: UserWarning: `eval_metric` in `fit` method is deprecated for better compatibility with scikit-learn, use `eval_metric` in constructor or`set_params` instead.\n",
      "  UserWarning,\n",
      "/opt/conda/lib/python3.7/site-packages/xgboost/sklearn.py:797: UserWarning: `early_stopping_rounds` in `fit` method is deprecated for better compatibility with scikit-learn, use `early_stopping_rounds` in constructor or`set_params` instead.\n",
      "  UserWarning,\n"
     ]
    },
    {
     "name": "stdout",
     "output_type": "stream",
     "text": [
      "[14]\tvalidation_0-rmse:258.13376\n"
     ]
    },
    {
     "name": "stderr",
     "output_type": "stream",
     "text": [
      "\u001b[32m[I 2023-04-02 18:53:38,725]\u001b[0m Trial 40 finished with value: 258.1337605707629 and parameters: {'learning_rate': 0.07141706116697383, 'reg_lambda': 0.7255598966411585, 'reg_alpha': 0.012502334862913403, 'subsample': 0.17385896792313543, 'colsample_bytree': 0.7697770909834284, 'max_depth': 7}. Best is trial 37 with value: 79.35187422525867.\u001b[0m\n"
     ]
    },
    {
     "name": "stdout",
     "output_type": "stream",
     "text": [
      "[0]\tvalidation_0-rmse:575.35810\n"
     ]
    },
    {
     "name": "stderr",
     "output_type": "stream",
     "text": [
      "/opt/conda/lib/python3.7/site-packages/ipykernel_launcher.py:6: FutureWarning: suggest_loguniform has been deprecated in v3.0.0. This feature will be removed in v6.0.0. See https://github.com/optuna/optuna/releases/tag/v3.0.0. Use :func:`~optuna.trial.Trial.suggest_float` instead.\n",
      "  \n",
      "/opt/conda/lib/python3.7/site-packages/ipykernel_launcher.py:7: FutureWarning: suggest_loguniform has been deprecated in v3.0.0. This feature will be removed in v6.0.0. See https://github.com/optuna/optuna/releases/tag/v3.0.0. Use :func:`~optuna.trial.Trial.suggest_float` instead.\n",
      "  import sys\n",
      "/opt/conda/lib/python3.7/site-packages/xgboost/sklearn.py:797: UserWarning: `eval_metric` in `fit` method is deprecated for better compatibility with scikit-learn, use `eval_metric` in constructor or`set_params` instead.\n",
      "  UserWarning,\n",
      "/opt/conda/lib/python3.7/site-packages/xgboost/sklearn.py:797: UserWarning: `early_stopping_rounds` in `fit` method is deprecated for better compatibility with scikit-learn, use `early_stopping_rounds` in constructor or`set_params` instead.\n",
      "  UserWarning,\n"
     ]
    },
    {
     "name": "stdout",
     "output_type": "stream",
     "text": [
      "[14]\tvalidation_0-rmse:80.51614\n"
     ]
    },
    {
     "name": "stderr",
     "output_type": "stream",
     "text": [
      "\u001b[32m[I 2023-04-02 18:53:39,763]\u001b[0m Trial 41 finished with value: 80.51613576015953 and parameters: {'learning_rate': 0.21675613924515805, 'reg_lambda': 0.23172342486259753, 'reg_alpha': 0.0002968091750754536, 'subsample': 0.2430424608460584, 'colsample_bytree': 0.7145583348684268, 'max_depth': 7}. Best is trial 37 with value: 79.35187422525867.\u001b[0m\n"
     ]
    },
    {
     "name": "stdout",
     "output_type": "stream",
     "text": [
      "[0]\tvalidation_0-rmse:579.00244\n"
     ]
    },
    {
     "name": "stderr",
     "output_type": "stream",
     "text": [
      "/opt/conda/lib/python3.7/site-packages/ipykernel_launcher.py:6: FutureWarning: suggest_loguniform has been deprecated in v3.0.0. This feature will be removed in v6.0.0. See https://github.com/optuna/optuna/releases/tag/v3.0.0. Use :func:`~optuna.trial.Trial.suggest_float` instead.\n",
      "  \n",
      "/opt/conda/lib/python3.7/site-packages/ipykernel_launcher.py:7: FutureWarning: suggest_loguniform has been deprecated in v3.0.0. This feature will be removed in v6.0.0. See https://github.com/optuna/optuna/releases/tag/v3.0.0. Use :func:`~optuna.trial.Trial.suggest_float` instead.\n",
      "  import sys\n",
      "/opt/conda/lib/python3.7/site-packages/xgboost/sklearn.py:797: UserWarning: `eval_metric` in `fit` method is deprecated for better compatibility with scikit-learn, use `eval_metric` in constructor or`set_params` instead.\n",
      "  UserWarning,\n",
      "/opt/conda/lib/python3.7/site-packages/xgboost/sklearn.py:797: UserWarning: `early_stopping_rounds` in `fit` method is deprecated for better compatibility with scikit-learn, use `early_stopping_rounds` in constructor or`set_params` instead.\n",
      "  UserWarning,\n"
     ]
    },
    {
     "name": "stdout",
     "output_type": "stream",
     "text": [
      "[14]\tvalidation_0-rmse:78.91733\n"
     ]
    },
    {
     "name": "stderr",
     "output_type": "stream",
     "text": [
      "\u001b[32m[I 2023-04-02 18:53:40,824]\u001b[0m Trial 42 finished with value: 78.91733419417903 and parameters: {'learning_rate': 0.21101799800246898, 'reg_lambda': 0.024521925727152182, 'reg_alpha': 0.00010350042945514287, 'subsample': 0.23496142046849552, 'colsample_bytree': 0.7323063234436703, 'max_depth': 7}. Best is trial 42 with value: 78.91733419417903.\u001b[0m\n"
     ]
    },
    {
     "name": "stdout",
     "output_type": "stream",
     "text": [
      "[0]\tvalidation_0-rmse:571.59272\n"
     ]
    },
    {
     "name": "stderr",
     "output_type": "stream",
     "text": [
      "/opt/conda/lib/python3.7/site-packages/ipykernel_launcher.py:6: FutureWarning: suggest_loguniform has been deprecated in v3.0.0. This feature will be removed in v6.0.0. See https://github.com/optuna/optuna/releases/tag/v3.0.0. Use :func:`~optuna.trial.Trial.suggest_float` instead.\n",
      "  \n",
      "/opt/conda/lib/python3.7/site-packages/ipykernel_launcher.py:7: FutureWarning: suggest_loguniform has been deprecated in v3.0.0. This feature will be removed in v6.0.0. See https://github.com/optuna/optuna/releases/tag/v3.0.0. Use :func:`~optuna.trial.Trial.suggest_float` instead.\n",
      "  import sys\n",
      "/opt/conda/lib/python3.7/site-packages/xgboost/sklearn.py:797: UserWarning: `eval_metric` in `fit` method is deprecated for better compatibility with scikit-learn, use `eval_metric` in constructor or`set_params` instead.\n",
      "  UserWarning,\n",
      "/opt/conda/lib/python3.7/site-packages/xgboost/sklearn.py:797: UserWarning: `early_stopping_rounds` in `fit` method is deprecated for better compatibility with scikit-learn, use `early_stopping_rounds` in constructor or`set_params` instead.\n",
      "  UserWarning,\n"
     ]
    },
    {
     "name": "stdout",
     "output_type": "stream",
     "text": [
      "[14]\tvalidation_0-rmse:86.34861\n"
     ]
    },
    {
     "name": "stderr",
     "output_type": "stream",
     "text": [
      "\u001b[32m[I 2023-04-02 18:53:41,655]\u001b[0m Trial 43 finished with value: 86.34860886890696 and parameters: {'learning_rate': 0.22190588028362598, 'reg_lambda': 0.02364588105604444, 'reg_alpha': 0.000834511536595028, 'subsample': 0.23107915508766513, 'colsample_bytree': 0.6048474940956151, 'max_depth': 6}. Best is trial 42 with value: 78.91733419417903.\u001b[0m\n"
     ]
    },
    {
     "name": "stdout",
     "output_type": "stream",
     "text": [
      "[0]\tvalidation_0-rmse:577.52273\n"
     ]
    },
    {
     "name": "stderr",
     "output_type": "stream",
     "text": [
      "/opt/conda/lib/python3.7/site-packages/ipykernel_launcher.py:6: FutureWarning: suggest_loguniform has been deprecated in v3.0.0. This feature will be removed in v6.0.0. See https://github.com/optuna/optuna/releases/tag/v3.0.0. Use :func:`~optuna.trial.Trial.suggest_float` instead.\n",
      "  \n",
      "/opt/conda/lib/python3.7/site-packages/ipykernel_launcher.py:7: FutureWarning: suggest_loguniform has been deprecated in v3.0.0. This feature will be removed in v6.0.0. See https://github.com/optuna/optuna/releases/tag/v3.0.0. Use :func:`~optuna.trial.Trial.suggest_float` instead.\n",
      "  import sys\n",
      "/opt/conda/lib/python3.7/site-packages/xgboost/sklearn.py:797: UserWarning: `eval_metric` in `fit` method is deprecated for better compatibility with scikit-learn, use `eval_metric` in constructor or`set_params` instead.\n",
      "  UserWarning,\n",
      "/opt/conda/lib/python3.7/site-packages/xgboost/sklearn.py:797: UserWarning: `early_stopping_rounds` in `fit` method is deprecated for better compatibility with scikit-learn, use `early_stopping_rounds` in constructor or`set_params` instead.\n",
      "  UserWarning,\n"
     ]
    },
    {
     "name": "stdout",
     "output_type": "stream",
     "text": [
      "[14]\tvalidation_0-rmse:80.26194\n"
     ]
    },
    {
     "name": "stderr",
     "output_type": "stream",
     "text": [
      "\u001b[32m[I 2023-04-02 18:53:42,627]\u001b[0m Trial 44 finished with value: 80.261944689895 and parameters: {'learning_rate': 0.2162221379398872, 'reg_lambda': 0.6220973366306648, 'reg_alpha': 0.0001729449888228966, 'subsample': 0.17626820831411583, 'colsample_bytree': 0.7973447543974768, 'max_depth': 7}. Best is trial 42 with value: 78.91733419417903.\u001b[0m\n"
     ]
    },
    {
     "name": "stdout",
     "output_type": "stream",
     "text": [
      "[0]\tvalidation_0-rmse:574.64444\n"
     ]
    },
    {
     "name": "stderr",
     "output_type": "stream",
     "text": [
      "/opt/conda/lib/python3.7/site-packages/ipykernel_launcher.py:6: FutureWarning: suggest_loguniform has been deprecated in v3.0.0. This feature will be removed in v6.0.0. See https://github.com/optuna/optuna/releases/tag/v3.0.0. Use :func:`~optuna.trial.Trial.suggest_float` instead.\n",
      "  \n",
      "/opt/conda/lib/python3.7/site-packages/ipykernel_launcher.py:7: FutureWarning: suggest_loguniform has been deprecated in v3.0.0. This feature will be removed in v6.0.0. See https://github.com/optuna/optuna/releases/tag/v3.0.0. Use :func:`~optuna.trial.Trial.suggest_float` instead.\n",
      "  import sys\n",
      "/opt/conda/lib/python3.7/site-packages/xgboost/sklearn.py:797: UserWarning: `eval_metric` in `fit` method is deprecated for better compatibility with scikit-learn, use `eval_metric` in constructor or`set_params` instead.\n",
      "  UserWarning,\n",
      "/opt/conda/lib/python3.7/site-packages/xgboost/sklearn.py:797: UserWarning: `early_stopping_rounds` in `fit` method is deprecated for better compatibility with scikit-learn, use `early_stopping_rounds` in constructor or`set_params` instead.\n",
      "  UserWarning,\n"
     ]
    },
    {
     "name": "stdout",
     "output_type": "stream",
     "text": [
      "[14]\tvalidation_0-rmse:81.55844\n"
     ]
    },
    {
     "name": "stderr",
     "output_type": "stream",
     "text": [
      "\u001b[32m[I 2023-04-02 18:53:43,417]\u001b[0m Trial 45 finished with value: 81.55844458964992 and parameters: {'learning_rate': 0.221296125318884, 'reg_lambda': 0.7052813439590978, 'reg_alpha': 0.0001029038242877305, 'subsample': 0.12083755414567317, 'colsample_bytree': 0.7880761169185856, 'max_depth': 6}. Best is trial 42 with value: 78.91733419417903.\u001b[0m\n"
     ]
    },
    {
     "name": "stdout",
     "output_type": "stream",
     "text": [
      "[0]\tvalidation_0-rmse:626.89368\n"
     ]
    },
    {
     "name": "stderr",
     "output_type": "stream",
     "text": [
      "/opt/conda/lib/python3.7/site-packages/ipykernel_launcher.py:6: FutureWarning: suggest_loguniform has been deprecated in v3.0.0. This feature will be removed in v6.0.0. See https://github.com/optuna/optuna/releases/tag/v3.0.0. Use :func:`~optuna.trial.Trial.suggest_float` instead.\n",
      "  \n",
      "/opt/conda/lib/python3.7/site-packages/ipykernel_launcher.py:7: FutureWarning: suggest_loguniform has been deprecated in v3.0.0. This feature will be removed in v6.0.0. See https://github.com/optuna/optuna/releases/tag/v3.0.0. Use :func:`~optuna.trial.Trial.suggest_float` instead.\n",
      "  import sys\n",
      "/opt/conda/lib/python3.7/site-packages/xgboost/sklearn.py:797: UserWarning: `eval_metric` in `fit` method is deprecated for better compatibility with scikit-learn, use `eval_metric` in constructor or`set_params` instead.\n",
      "  UserWarning,\n",
      "/opt/conda/lib/python3.7/site-packages/xgboost/sklearn.py:797: UserWarning: `early_stopping_rounds` in `fit` method is deprecated for better compatibility with scikit-learn, use `early_stopping_rounds` in constructor or`set_params` instead.\n",
      "  UserWarning,\n"
     ]
    },
    {
     "name": "stdout",
     "output_type": "stream",
     "text": [
      "[14]\tvalidation_0-rmse:117.15091\n"
     ]
    },
    {
     "name": "stderr",
     "output_type": "stream",
     "text": [
      "\u001b[32m[I 2023-04-02 18:53:44,372]\u001b[0m Trial 46 finished with value: 117.15091439708182 and parameters: {'learning_rate': 0.14816659864112858, 'reg_lambda': 7.008950617239427, 'reg_alpha': 0.10856698424600143, 'subsample': 0.21199551691144602, 'colsample_bytree': 0.7199292578272153, 'max_depth': 7}. Best is trial 42 with value: 78.91733419417903.\u001b[0m\n"
     ]
    },
    {
     "name": "stdout",
     "output_type": "stream",
     "text": [
      "[0]\tvalidation_0-rmse:579.41549\n"
     ]
    },
    {
     "name": "stderr",
     "output_type": "stream",
     "text": [
      "/opt/conda/lib/python3.7/site-packages/ipykernel_launcher.py:6: FutureWarning: suggest_loguniform has been deprecated in v3.0.0. This feature will be removed in v6.0.0. See https://github.com/optuna/optuna/releases/tag/v3.0.0. Use :func:`~optuna.trial.Trial.suggest_float` instead.\n",
      "  \n",
      "/opt/conda/lib/python3.7/site-packages/ipykernel_launcher.py:7: FutureWarning: suggest_loguniform has been deprecated in v3.0.0. This feature will be removed in v6.0.0. See https://github.com/optuna/optuna/releases/tag/v3.0.0. Use :func:`~optuna.trial.Trial.suggest_float` instead.\n",
      "  import sys\n",
      "/opt/conda/lib/python3.7/site-packages/xgboost/sklearn.py:797: UserWarning: `eval_metric` in `fit` method is deprecated for better compatibility with scikit-learn, use `eval_metric` in constructor or`set_params` instead.\n",
      "  UserWarning,\n",
      "/opt/conda/lib/python3.7/site-packages/xgboost/sklearn.py:797: UserWarning: `early_stopping_rounds` in `fit` method is deprecated for better compatibility with scikit-learn, use `early_stopping_rounds` in constructor or`set_params` instead.\n",
      "  UserWarning,\n"
     ]
    },
    {
     "name": "stdout",
     "output_type": "stream",
     "text": [
      "[14]\tvalidation_0-rmse:81.79682\n"
     ]
    },
    {
     "name": "stderr",
     "output_type": "stream",
     "text": [
      "\u001b[32m[I 2023-04-02 18:53:45,347]\u001b[0m Trial 47 finished with value: 81.79682114908465 and parameters: {'learning_rate': 0.2144031729981057, 'reg_lambda': 1.6737442970339138, 'reg_alpha': 0.00572309180455535, 'subsample': 0.17546858788864433, 'colsample_bytree': 0.7956461974664273, 'max_depth': 7}. Best is trial 42 with value: 78.91733419417903.\u001b[0m\n"
     ]
    },
    {
     "name": "stdout",
     "output_type": "stream",
     "text": [
      "[0]\tvalidation_0-rmse:552.18459\n"
     ]
    },
    {
     "name": "stderr",
     "output_type": "stream",
     "text": [
      "/opt/conda/lib/python3.7/site-packages/ipykernel_launcher.py:6: FutureWarning: suggest_loguniform has been deprecated in v3.0.0. This feature will be removed in v6.0.0. See https://github.com/optuna/optuna/releases/tag/v3.0.0. Use :func:`~optuna.trial.Trial.suggest_float` instead.\n",
      "  \n",
      "/opt/conda/lib/python3.7/site-packages/ipykernel_launcher.py:7: FutureWarning: suggest_loguniform has been deprecated in v3.0.0. This feature will be removed in v6.0.0. See https://github.com/optuna/optuna/releases/tag/v3.0.0. Use :func:`~optuna.trial.Trial.suggest_float` instead.\n",
      "  import sys\n",
      "/opt/conda/lib/python3.7/site-packages/xgboost/sklearn.py:797: UserWarning: `eval_metric` in `fit` method is deprecated for better compatibility with scikit-learn, use `eval_metric` in constructor or`set_params` instead.\n",
      "  UserWarning,\n",
      "/opt/conda/lib/python3.7/site-packages/xgboost/sklearn.py:797: UserWarning: `early_stopping_rounds` in `fit` method is deprecated for better compatibility with scikit-learn, use `early_stopping_rounds` in constructor or`set_params` instead.\n",
      "  UserWarning,\n"
     ]
    },
    {
     "name": "stdout",
     "output_type": "stream",
     "text": [
      "[14]\tvalidation_0-rmse:75.86323\n"
     ]
    },
    {
     "name": "stderr",
     "output_type": "stream",
     "text": [
      "\u001b[32m[I 2023-04-02 18:53:46,331]\u001b[0m Trial 48 finished with value: 75.86323032904555 and parameters: {'learning_rate': 0.24853507840191025, 'reg_lambda': 0.045460102510831366, 'reg_alpha': 0.002234303262769935, 'subsample': 0.2922633071093583, 'colsample_bytree': 0.7420961661870421, 'max_depth': 6}. Best is trial 48 with value: 75.86323032904555.\u001b[0m\n"
     ]
    },
    {
     "name": "stdout",
     "output_type": "stream",
     "text": [
      "[0]\tvalidation_0-rmse:554.40833\n"
     ]
    },
    {
     "name": "stderr",
     "output_type": "stream",
     "text": [
      "/opt/conda/lib/python3.7/site-packages/ipykernel_launcher.py:6: FutureWarning: suggest_loguniform has been deprecated in v3.0.0. This feature will be removed in v6.0.0. See https://github.com/optuna/optuna/releases/tag/v3.0.0. Use :func:`~optuna.trial.Trial.suggest_float` instead.\n",
      "  \n",
      "/opt/conda/lib/python3.7/site-packages/ipykernel_launcher.py:7: FutureWarning: suggest_loguniform has been deprecated in v3.0.0. This feature will be removed in v6.0.0. See https://github.com/optuna/optuna/releases/tag/v3.0.0. Use :func:`~optuna.trial.Trial.suggest_float` instead.\n",
      "  import sys\n",
      "/opt/conda/lib/python3.7/site-packages/xgboost/sklearn.py:797: UserWarning: `eval_metric` in `fit` method is deprecated for better compatibility with scikit-learn, use `eval_metric` in constructor or`set_params` instead.\n",
      "  UserWarning,\n",
      "/opt/conda/lib/python3.7/site-packages/xgboost/sklearn.py:797: UserWarning: `early_stopping_rounds` in `fit` method is deprecated for better compatibility with scikit-learn, use `early_stopping_rounds` in constructor or`set_params` instead.\n",
      "  UserWarning,\n"
     ]
    },
    {
     "name": "stdout",
     "output_type": "stream",
     "text": [
      "[14]\tvalidation_0-rmse:87.75709\n"
     ]
    },
    {
     "name": "stderr",
     "output_type": "stream",
     "text": [
      "\u001b[32m[I 2023-04-02 18:53:47,351]\u001b[0m Trial 49 finished with value: 87.75709383042745 and parameters: {'learning_rate': 0.24770592005027883, 'reg_lambda': 0.0014277227336453853, 'reg_alpha': 0.001240892061535776, 'subsample': 0.38233453738026035, 'colsample_bytree': 0.5129769557529464, 'max_depth': 7}. Best is trial 48 with value: 75.86323032904555.\u001b[0m\n"
     ]
    }
   ],
   "source": [
    "study = optuna.create_study(direction=\"minimize\")\n",
    "study.optimize(run, n_trials=50)"
   ]
  },
  {
   "cell_type": "code",
   "execution_count": 58,
   "id": "0e6bf2c1",
   "metadata": {
    "execution": {
     "iopub.execute_input": "2023-04-02T18:53:47.454825Z",
     "iopub.status.busy": "2023-04-02T18:53:47.453935Z",
     "iopub.status.idle": "2023-04-02T18:53:47.462350Z",
     "shell.execute_reply": "2023-04-02T18:53:47.461260Z"
    },
    "papermill": {
     "duration": 0.058298,
     "end_time": "2023-04-02T18:53:47.464998",
     "exception": false,
     "start_time": "2023-04-02T18:53:47.406700",
     "status": "completed"
    },
    "tags": []
   },
   "outputs": [
    {
     "data": {
      "text/plain": [
       "{'learning_rate': 0.24853507840191025,\n",
       " 'reg_lambda': 0.045460102510831366,\n",
       " 'reg_alpha': 0.002234303262769935,\n",
       " 'subsample': 0.2922633071093583,\n",
       " 'colsample_bytree': 0.7420961661870421,\n",
       " 'max_depth': 6}"
      ]
     },
     "execution_count": 58,
     "metadata": {},
     "output_type": "execute_result"
    }
   ],
   "source": [
    "study.best_params"
   ]
  },
  {
   "cell_type": "code",
   "execution_count": 59,
   "id": "f5a22792",
   "metadata": {
    "execution": {
     "iopub.execute_input": "2023-04-02T18:53:47.558421Z",
     "iopub.status.busy": "2023-04-02T18:53:47.557610Z",
     "iopub.status.idle": "2023-04-02T18:53:51.238057Z",
     "shell.execute_reply": "2023-04-02T18:53:51.236571Z"
    },
    "papermill": {
     "duration": 3.730854,
     "end_time": "2023-04-02T18:53:51.241579",
     "exception": false,
     "start_time": "2023-04-02T18:53:47.510725",
     "status": "completed"
    },
    "tags": []
   },
   "outputs": [
    {
     "name": "stdout",
     "output_type": "stream",
     "text": [
      "Learning rate set to 0.224227\n",
      "0:\tlearn: 476.9532717\ttest: 476.7565246\tbest: 476.7565246 (0)\ttotal: 67.1ms\tremaining: 16.7s\n",
      "1:\tlearn: 380.5510865\ttest: 379.8647719\tbest: 379.8647719 (1)\ttotal: 83.8ms\tremaining: 10.4s\n",
      "2:\tlearn: 307.3377607\ttest: 306.2823139\tbest: 306.2823139 (2)\ttotal: 94.3ms\tremaining: 7.76s\n",
      "3:\tlearn: 250.7023759\ttest: 248.9866380\tbest: 248.9866380 (3)\ttotal: 104ms\tremaining: 6.4s\n",
      "4:\tlearn: 208.6557361\ttest: 206.6085120\tbest: 206.6085120 (4)\ttotal: 113ms\tremaining: 5.55s\n",
      "5:\tlearn: 176.6274299\ttest: 174.3998877\tbest: 174.3998877 (5)\ttotal: 123ms\tremaining: 4.99s\n",
      "6:\tlearn: 151.7957274\ttest: 149.4015164\tbest: 149.4015164 (6)\ttotal: 132ms\tremaining: 4.58s\n",
      "7:\tlearn: 133.5058032\ttest: 131.0875012\tbest: 131.0875012 (7)\ttotal: 142ms\tremaining: 4.28s\n",
      "8:\tlearn: 120.3420371\ttest: 117.6374594\tbest: 117.6374594 (8)\ttotal: 151ms\tremaining: 4.04s\n",
      "9:\tlearn: 110.3592914\ttest: 107.7993810\tbest: 107.7993810 (9)\ttotal: 160ms\tremaining: 3.83s\n",
      "10:\tlearn: 103.1508410\ttest: 100.6801836\tbest: 100.6801836 (10)\ttotal: 169ms\tremaining: 3.66s\n",
      "11:\tlearn: 97.9014517\ttest: 95.5568777\tbest: 95.5568777 (11)\ttotal: 179ms\tremaining: 3.55s\n",
      "12:\tlearn: 94.0193013\ttest: 91.9062505\tbest: 91.9062505 (12)\ttotal: 189ms\tremaining: 3.45s\n",
      "13:\tlearn: 91.2190049\ttest: 89.4091957\tbest: 89.4091957 (13)\ttotal: 198ms\tremaining: 3.34s\n",
      "14:\tlearn: 89.0146182\ttest: 87.3791475\tbest: 87.3791475 (14)\ttotal: 207ms\tremaining: 3.25s\n",
      "15:\tlearn: 87.5903885\ttest: 86.1671070\tbest: 86.1671070 (15)\ttotal: 215ms\tremaining: 3.15s\n",
      "16:\tlearn: 86.2343102\ttest: 84.9122145\tbest: 84.9122145 (16)\ttotal: 224ms\tremaining: 3.06s\n",
      "17:\tlearn: 85.2744083\ttest: 84.0980924\tbest: 84.0980924 (17)\ttotal: 231ms\tremaining: 2.98s\n",
      "18:\tlearn: 84.2330379\ttest: 83.1288668\tbest: 83.1288668 (18)\ttotal: 240ms\tremaining: 2.91s\n",
      "19:\tlearn: 83.5748227\ttest: 82.5741489\tbest: 82.5741489 (19)\ttotal: 248ms\tremaining: 2.85s\n",
      "20:\tlearn: 82.8664780\ttest: 81.8368920\tbest: 81.8368920 (20)\ttotal: 256ms\tremaining: 2.79s\n",
      "21:\tlearn: 82.1530782\ttest: 81.2468969\tbest: 81.2468969 (21)\ttotal: 265ms\tremaining: 2.75s\n",
      "22:\tlearn: 81.4841317\ttest: 80.6081908\tbest: 80.6081908 (22)\ttotal: 273ms\tremaining: 2.7s\n",
      "23:\tlearn: 81.1085413\ttest: 80.2501594\tbest: 80.2501594 (23)\ttotal: 282ms\tremaining: 2.65s\n",
      "24:\tlearn: 80.8175078\ttest: 80.0096539\tbest: 80.0096539 (24)\ttotal: 291ms\tremaining: 2.62s\n",
      "25:\tlearn: 80.3809734\ttest: 79.6275630\tbest: 79.6275630 (25)\ttotal: 299ms\tremaining: 2.58s\n",
      "26:\tlearn: 80.0350154\ttest: 79.3750257\tbest: 79.3750257 (26)\ttotal: 307ms\tremaining: 2.54s\n",
      "27:\tlearn: 79.7490145\ttest: 79.1405595\tbest: 79.1405595 (27)\ttotal: 316ms\tremaining: 2.51s\n",
      "28:\tlearn: 79.3660870\ttest: 78.8821230\tbest: 78.8821230 (28)\ttotal: 325ms\tremaining: 2.48s\n",
      "29:\tlearn: 79.0239532\ttest: 78.6118994\tbest: 78.6118994 (29)\ttotal: 332ms\tremaining: 2.44s\n",
      "30:\tlearn: 78.7671984\ttest: 78.3933972\tbest: 78.3933972 (30)\ttotal: 342ms\tremaining: 2.41s\n",
      "31:\tlearn: 78.6000820\ttest: 78.2346920\tbest: 78.2346920 (31)\ttotal: 350ms\tremaining: 2.39s\n",
      "32:\tlearn: 78.2921877\ttest: 78.0421765\tbest: 78.0421765 (32)\ttotal: 359ms\tremaining: 2.36s\n",
      "33:\tlearn: 77.9899065\ttest: 77.8191094\tbest: 77.8191094 (33)\ttotal: 368ms\tremaining: 2.33s\n",
      "34:\tlearn: 77.6726538\ttest: 77.5376139\tbest: 77.5376139 (34)\ttotal: 376ms\tremaining: 2.31s\n",
      "35:\tlearn: 77.3649090\ttest: 77.2884543\tbest: 77.2884543 (35)\ttotal: 387ms\tremaining: 2.3s\n",
      "36:\tlearn: 77.2055939\ttest: 77.1954292\tbest: 77.1954292 (36)\ttotal: 401ms\tremaining: 2.31s\n",
      "37:\tlearn: 76.8203761\ttest: 76.8765200\tbest: 76.8765200 (37)\ttotal: 411ms\tremaining: 2.29s\n",
      "38:\tlearn: 76.4653149\ttest: 76.5876106\tbest: 76.5876106 (38)\ttotal: 420ms\tremaining: 2.27s\n",
      "39:\tlearn: 76.2049002\ttest: 76.3435091\tbest: 76.3435091 (39)\ttotal: 429ms\tremaining: 2.25s\n",
      "40:\tlearn: 75.8899593\ttest: 76.0959124\tbest: 76.0959124 (40)\ttotal: 438ms\tremaining: 2.23s\n",
      "41:\tlearn: 75.6932880\ttest: 75.9817479\tbest: 75.9817479 (41)\ttotal: 446ms\tremaining: 2.21s\n",
      "42:\tlearn: 75.4766573\ttest: 75.8281461\tbest: 75.8281461 (42)\ttotal: 455ms\tremaining: 2.19s\n",
      "43:\tlearn: 75.3051056\ttest: 75.6460267\tbest: 75.6460267 (43)\ttotal: 464ms\tremaining: 2.17s\n",
      "44:\tlearn: 75.0585865\ttest: 75.4748619\tbest: 75.4748619 (44)\ttotal: 473ms\tremaining: 2.15s\n",
      "45:\tlearn: 74.7188914\ttest: 75.2285221\tbest: 75.2285221 (45)\ttotal: 483ms\tremaining: 2.14s\n",
      "46:\tlearn: 74.5582834\ttest: 75.0872319\tbest: 75.0872319 (46)\ttotal: 492ms\tremaining: 2.12s\n",
      "47:\tlearn: 74.3592046\ttest: 74.9093845\tbest: 74.9093845 (47)\ttotal: 502ms\tremaining: 2.11s\n",
      "48:\tlearn: 74.2132700\ttest: 74.8085423\tbest: 74.8085423 (48)\ttotal: 510ms\tremaining: 2.09s\n",
      "49:\tlearn: 74.0532635\ttest: 74.7809765\tbest: 74.7809765 (49)\ttotal: 520ms\tremaining: 2.08s\n",
      "50:\tlearn: 73.8766601\ttest: 74.6669705\tbest: 74.6669705 (50)\ttotal: 528ms\tremaining: 2.06s\n",
      "51:\tlearn: 73.6671243\ttest: 74.5276784\tbest: 74.5276784 (51)\ttotal: 536ms\tremaining: 2.04s\n",
      "52:\tlearn: 73.5372574\ttest: 74.4182117\tbest: 74.4182117 (52)\ttotal: 545ms\tremaining: 2.03s\n",
      "53:\tlearn: 73.3334743\ttest: 74.3471969\tbest: 74.3471969 (53)\ttotal: 554ms\tremaining: 2.01s\n",
      "54:\tlearn: 73.1484488\ttest: 74.2105136\tbest: 74.2105136 (54)\ttotal: 562ms\tremaining: 1.99s\n",
      "55:\tlearn: 73.0099462\ttest: 74.0968749\tbest: 74.0968749 (55)\ttotal: 571ms\tremaining: 1.98s\n",
      "56:\tlearn: 72.6767920\ttest: 73.8954387\tbest: 73.8954387 (56)\ttotal: 580ms\tremaining: 1.96s\n",
      "57:\tlearn: 72.4846705\ttest: 73.7489527\tbest: 73.7489527 (57)\ttotal: 592ms\tremaining: 1.96s\n",
      "58:\tlearn: 72.2134158\ttest: 73.5008724\tbest: 73.5008724 (58)\ttotal: 615ms\tremaining: 1.99s\n",
      "59:\tlearn: 72.0250499\ttest: 73.3421515\tbest: 73.3421515 (59)\ttotal: 626ms\tremaining: 1.98s\n",
      "60:\tlearn: 71.8166775\ttest: 73.1883337\tbest: 73.1883337 (60)\ttotal: 637ms\tremaining: 1.97s\n",
      "61:\tlearn: 71.6868005\ttest: 73.1134659\tbest: 73.1134659 (61)\ttotal: 659ms\tremaining: 2s\n",
      "62:\tlearn: 71.4648156\ttest: 73.0161471\tbest: 73.0161471 (62)\ttotal: 672ms\tremaining: 2s\n",
      "63:\tlearn: 71.3824659\ttest: 72.9927968\tbest: 72.9927968 (63)\ttotal: 683ms\tremaining: 1.99s\n",
      "64:\tlearn: 71.0987078\ttest: 72.7232151\tbest: 72.7232151 (64)\ttotal: 702ms\tremaining: 2s\n",
      "65:\tlearn: 70.9861128\ttest: 72.6829318\tbest: 72.6829318 (65)\ttotal: 711ms\tremaining: 1.98s\n",
      "66:\tlearn: 70.7388795\ttest: 72.5160993\tbest: 72.5160993 (66)\ttotal: 721ms\tremaining: 1.97s\n",
      "67:\tlearn: 70.4927756\ttest: 72.2719979\tbest: 72.2719979 (67)\ttotal: 730ms\tremaining: 1.95s\n",
      "68:\tlearn: 70.3114948\ttest: 72.2142321\tbest: 72.2142321 (68)\ttotal: 738ms\tremaining: 1.94s\n",
      "69:\tlearn: 70.1223985\ttest: 72.0951532\tbest: 72.0951532 (69)\ttotal: 746ms\tremaining: 1.92s\n",
      "70:\tlearn: 69.9305795\ttest: 71.9343690\tbest: 71.9343690 (70)\ttotal: 756ms\tremaining: 1.9s\n",
      "71:\tlearn: 69.7796904\ttest: 71.8534651\tbest: 71.8534651 (71)\ttotal: 765ms\tremaining: 1.89s\n",
      "72:\tlearn: 69.6891739\ttest: 71.8125240\tbest: 71.8125240 (72)\ttotal: 773ms\tremaining: 1.87s\n",
      "73:\tlearn: 69.4030817\ttest: 71.4656724\tbest: 71.4656724 (73)\ttotal: 782ms\tremaining: 1.86s\n",
      "74:\tlearn: 69.2893505\ttest: 71.3931754\tbest: 71.3931754 (74)\ttotal: 795ms\tremaining: 1.85s\n",
      "75:\tlearn: 69.1739693\ttest: 71.3205221\tbest: 71.3205221 (75)\ttotal: 805ms\tremaining: 1.84s\n",
      "76:\tlearn: 69.0155630\ttest: 71.2434240\tbest: 71.2434240 (76)\ttotal: 814ms\tremaining: 1.83s\n",
      "77:\tlearn: 68.8619360\ttest: 71.1925318\tbest: 71.1925318 (77)\ttotal: 824ms\tremaining: 1.82s\n",
      "78:\tlearn: 68.6994918\ttest: 71.0647245\tbest: 71.0647245 (78)\ttotal: 834ms\tremaining: 1.8s\n",
      "79:\tlearn: 68.5868557\ttest: 71.0436575\tbest: 71.0436575 (79)\ttotal: 843ms\tremaining: 1.79s\n",
      "80:\tlearn: 68.4824660\ttest: 70.9831403\tbest: 70.9831403 (80)\ttotal: 853ms\tremaining: 1.78s\n",
      "81:\tlearn: 68.2712479\ttest: 70.8071071\tbest: 70.8071071 (81)\ttotal: 864ms\tremaining: 1.77s\n",
      "82:\tlearn: 68.0959766\ttest: 70.6386576\tbest: 70.6386576 (82)\ttotal: 873ms\tremaining: 1.76s\n",
      "83:\tlearn: 67.9823197\ttest: 70.5440982\tbest: 70.5440982 (83)\ttotal: 884ms\tremaining: 1.75s\n",
      "84:\tlearn: 67.8153608\ttest: 70.4784875\tbest: 70.4784875 (84)\ttotal: 892ms\tremaining: 1.73s\n",
      "85:\tlearn: 67.6747371\ttest: 70.4108066\tbest: 70.4108066 (85)\ttotal: 901ms\tremaining: 1.72s\n",
      "86:\tlearn: 67.5769220\ttest: 70.3466325\tbest: 70.3466325 (86)\ttotal: 912ms\tremaining: 1.71s\n",
      "87:\tlearn: 67.3713400\ttest: 70.2200332\tbest: 70.2200332 (87)\ttotal: 922ms\tremaining: 1.7s\n",
      "88:\tlearn: 67.1512281\ttest: 70.0297773\tbest: 70.0297773 (88)\ttotal: 931ms\tremaining: 1.68s\n",
      "89:\tlearn: 67.0590991\ttest: 70.0182506\tbest: 70.0182506 (89)\ttotal: 940ms\tremaining: 1.67s\n",
      "90:\tlearn: 66.8526999\ttest: 69.8675721\tbest: 69.8675721 (90)\ttotal: 949ms\tremaining: 1.66s\n",
      "91:\tlearn: 66.6942310\ttest: 69.7724226\tbest: 69.7724226 (91)\ttotal: 959ms\tremaining: 1.65s\n",
      "92:\tlearn: 66.6125620\ttest: 69.7127368\tbest: 69.7127368 (92)\ttotal: 970ms\tremaining: 1.64s\n",
      "93:\tlearn: 66.4788793\ttest: 69.7088017\tbest: 69.7088017 (93)\ttotal: 979ms\tremaining: 1.63s\n",
      "94:\tlearn: 66.3956948\ttest: 69.6735378\tbest: 69.6735378 (94)\ttotal: 988ms\tremaining: 1.61s\n",
      "95:\tlearn: 66.3022712\ttest: 69.5950149\tbest: 69.5950149 (95)\ttotal: 1s\tremaining: 1.61s\n",
      "96:\tlearn: 66.1883950\ttest: 69.5624621\tbest: 69.5624621 (96)\ttotal: 1.01s\tremaining: 1.6s\n",
      "97:\tlearn: 66.1164392\ttest: 69.5162583\tbest: 69.5162583 (97)\ttotal: 1.02s\tremaining: 1.59s\n",
      "98:\tlearn: 66.0018346\ttest: 69.5039397\tbest: 69.5039397 (98)\ttotal: 1.03s\tremaining: 1.58s\n",
      "99:\tlearn: 65.8923848\ttest: 69.4178670\tbest: 69.4178670 (99)\ttotal: 1.04s\tremaining: 1.57s\n",
      "100:\tlearn: 65.8028458\ttest: 69.4059301\tbest: 69.4059301 (100)\ttotal: 1.05s\tremaining: 1.55s\n",
      "101:\tlearn: 65.6158169\ttest: 69.2959639\tbest: 69.2959639 (101)\ttotal: 1.06s\tremaining: 1.54s\n",
      "102:\tlearn: 65.4389249\ttest: 69.1563378\tbest: 69.1563378 (102)\ttotal: 1.07s\tremaining: 1.53s\n",
      "103:\tlearn: 65.2993547\ttest: 69.0995468\tbest: 69.0995468 (103)\ttotal: 1.08s\tremaining: 1.52s\n",
      "104:\tlearn: 65.1913183\ttest: 69.0747623\tbest: 69.0747623 (104)\ttotal: 1.09s\tremaining: 1.51s\n",
      "105:\tlearn: 65.0928623\ttest: 69.0000670\tbest: 69.0000670 (105)\ttotal: 1.1s\tremaining: 1.5s\n",
      "106:\tlearn: 65.0192455\ttest: 68.9658008\tbest: 68.9658008 (106)\ttotal: 1.11s\tremaining: 1.48s\n",
      "107:\tlearn: 64.9636554\ttest: 68.9437365\tbest: 68.9437365 (107)\ttotal: 1.12s\tremaining: 1.47s\n",
      "108:\tlearn: 64.8261424\ttest: 68.9166513\tbest: 68.9166513 (108)\ttotal: 1.13s\tremaining: 1.46s\n",
      "109:\tlearn: 64.7504425\ttest: 68.9074703\tbest: 68.9074703 (109)\ttotal: 1.14s\tremaining: 1.45s\n",
      "110:\tlearn: 64.6821963\ttest: 68.8670357\tbest: 68.8670357 (110)\ttotal: 1.15s\tremaining: 1.44s\n",
      "111:\tlearn: 64.6185017\ttest: 68.8315779\tbest: 68.8315779 (111)\ttotal: 1.16s\tremaining: 1.43s\n",
      "112:\tlearn: 64.4939918\ttest: 68.7218599\tbest: 68.7218599 (112)\ttotal: 1.17s\tremaining: 1.41s\n",
      "113:\tlearn: 64.3723707\ttest: 68.6848275\tbest: 68.6848275 (113)\ttotal: 1.18s\tremaining: 1.4s\n",
      "114:\tlearn: 64.2080409\ttest: 68.5044550\tbest: 68.5044550 (114)\ttotal: 1.19s\tremaining: 1.39s\n",
      "115:\tlearn: 64.0561497\ttest: 68.3743793\tbest: 68.3743793 (115)\ttotal: 1.2s\tremaining: 1.39s\n",
      "116:\tlearn: 63.9573105\ttest: 68.2965694\tbest: 68.2965694 (116)\ttotal: 1.21s\tremaining: 1.38s\n",
      "117:\tlearn: 63.7510716\ttest: 68.1506874\tbest: 68.1506874 (117)\ttotal: 1.22s\tremaining: 1.36s\n",
      "118:\tlearn: 63.6842090\ttest: 68.1309576\tbest: 68.1309576 (118)\ttotal: 1.23s\tremaining: 1.35s\n",
      "119:\tlearn: 63.6134510\ttest: 68.0874618\tbest: 68.0874618 (119)\ttotal: 1.24s\tremaining: 1.34s\n",
      "120:\tlearn: 63.5487815\ttest: 68.0195935\tbest: 68.0195935 (120)\ttotal: 1.25s\tremaining: 1.33s\n",
      "121:\tlearn: 63.4522755\ttest: 67.9575574\tbest: 67.9575574 (121)\ttotal: 1.26s\tremaining: 1.32s\n",
      "122:\tlearn: 63.3433914\ttest: 67.9248108\tbest: 67.9248108 (122)\ttotal: 1.27s\tremaining: 1.31s\n",
      "123:\tlearn: 63.2620284\ttest: 67.8935637\tbest: 67.8935637 (123)\ttotal: 1.28s\tremaining: 1.3s\n",
      "124:\tlearn: 63.1693600\ttest: 67.8655810\tbest: 67.8655810 (124)\ttotal: 1.29s\tremaining: 1.29s\n",
      "125:\tlearn: 63.0574132\ttest: 67.8145203\tbest: 67.8145203 (125)\ttotal: 1.3s\tremaining: 1.28s\n",
      "126:\tlearn: 62.9589861\ttest: 67.8189084\tbest: 67.8145203 (125)\ttotal: 1.31s\tremaining: 1.26s\n",
      "127:\tlearn: 62.8600428\ttest: 67.8094402\tbest: 67.8094402 (127)\ttotal: 1.32s\tremaining: 1.25s\n",
      "128:\tlearn: 62.7847524\ttest: 67.7695681\tbest: 67.7695681 (128)\ttotal: 1.32s\tremaining: 1.24s\n",
      "129:\tlearn: 62.6548955\ttest: 67.6573898\tbest: 67.6573898 (129)\ttotal: 1.33s\tremaining: 1.23s\n",
      "130:\tlearn: 62.5837530\ttest: 67.6826514\tbest: 67.6573898 (129)\ttotal: 1.34s\tremaining: 1.22s\n",
      "131:\tlearn: 62.4057240\ttest: 67.6012476\tbest: 67.6012476 (131)\ttotal: 1.35s\tremaining: 1.21s\n",
      "132:\tlearn: 62.3698121\ttest: 67.5882338\tbest: 67.5882338 (132)\ttotal: 1.36s\tremaining: 1.2s\n",
      "133:\tlearn: 62.3057564\ttest: 67.5741287\tbest: 67.5741287 (133)\ttotal: 1.37s\tremaining: 1.19s\n",
      "134:\tlearn: 62.2297319\ttest: 67.5605115\tbest: 67.5605115 (134)\ttotal: 1.38s\tremaining: 1.17s\n",
      "135:\tlearn: 62.1207034\ttest: 67.4862766\tbest: 67.4862766 (135)\ttotal: 1.39s\tremaining: 1.16s\n",
      "136:\tlearn: 61.9883953\ttest: 67.3879195\tbest: 67.3879195 (136)\ttotal: 1.4s\tremaining: 1.15s\n",
      "137:\tlearn: 61.9177554\ttest: 67.2986860\tbest: 67.2986860 (137)\ttotal: 1.41s\tremaining: 1.14s\n",
      "138:\tlearn: 61.8511453\ttest: 67.3007900\tbest: 67.2986860 (137)\ttotal: 1.42s\tremaining: 1.13s\n",
      "139:\tlearn: 61.7260147\ttest: 67.2043911\tbest: 67.2043911 (139)\ttotal: 1.43s\tremaining: 1.12s\n",
      "140:\tlearn: 61.6731920\ttest: 67.1593210\tbest: 67.1593210 (140)\ttotal: 1.44s\tremaining: 1.11s\n",
      "141:\tlearn: 61.5827213\ttest: 67.1122482\tbest: 67.1122482 (141)\ttotal: 1.44s\tremaining: 1.1s\n",
      "142:\tlearn: 61.5255771\ttest: 67.0852490\tbest: 67.0852490 (142)\ttotal: 1.45s\tremaining: 1.09s\n",
      "143:\tlearn: 61.4828919\ttest: 67.0588535\tbest: 67.0588535 (143)\ttotal: 1.46s\tremaining: 1.07s\n",
      "144:\tlearn: 61.4018528\ttest: 67.0578199\tbest: 67.0578199 (144)\ttotal: 1.47s\tremaining: 1.06s\n",
      "145:\tlearn: 61.3016031\ttest: 66.9949134\tbest: 66.9949134 (145)\ttotal: 1.48s\tremaining: 1.05s\n",
      "146:\tlearn: 61.1856558\ttest: 66.9052220\tbest: 66.9052220 (146)\ttotal: 1.49s\tremaining: 1.04s\n",
      "147:\tlearn: 61.1306178\ttest: 66.8614936\tbest: 66.8614936 (147)\ttotal: 1.5s\tremaining: 1.03s\n",
      "148:\tlearn: 61.0357386\ttest: 66.8042232\tbest: 66.8042232 (148)\ttotal: 1.5s\tremaining: 1.02s\n",
      "149:\tlearn: 60.9565884\ttest: 66.7766233\tbest: 66.7766233 (149)\ttotal: 1.51s\tremaining: 1.01s\n",
      "150:\tlearn: 60.8261779\ttest: 66.6645087\tbest: 66.6645087 (150)\ttotal: 1.52s\tremaining: 999ms\n",
      "151:\tlearn: 60.7324015\ttest: 66.5668323\tbest: 66.5668323 (151)\ttotal: 1.53s\tremaining: 988ms\n",
      "152:\tlearn: 60.6099418\ttest: 66.4083209\tbest: 66.4083209 (152)\ttotal: 1.54s\tremaining: 978ms\n",
      "153:\tlearn: 60.5382829\ttest: 66.3855294\tbest: 66.3855294 (153)\ttotal: 1.55s\tremaining: 968ms\n",
      "154:\tlearn: 60.4019957\ttest: 66.2681145\tbest: 66.2681145 (154)\ttotal: 1.56s\tremaining: 957ms\n",
      "155:\tlearn: 60.3449953\ttest: 66.2433750\tbest: 66.2433750 (155)\ttotal: 1.57s\tremaining: 948ms\n",
      "156:\tlearn: 60.2802335\ttest: 66.2288984\tbest: 66.2288984 (156)\ttotal: 1.59s\tremaining: 940ms\n",
      "157:\tlearn: 60.2025436\ttest: 66.1808779\tbest: 66.1808779 (157)\ttotal: 1.6s\tremaining: 931ms\n",
      "158:\tlearn: 60.1424318\ttest: 66.1497802\tbest: 66.1497802 (158)\ttotal: 1.6s\tremaining: 919ms\n",
      "159:\tlearn: 60.0337573\ttest: 66.0185623\tbest: 66.0185623 (159)\ttotal: 1.61s\tremaining: 908ms\n",
      "160:\tlearn: 59.9621017\ttest: 66.0049628\tbest: 66.0049628 (160)\ttotal: 1.62s\tremaining: 897ms\n",
      "161:\tlearn: 59.8907818\ttest: 65.9628611\tbest: 65.9628611 (161)\ttotal: 1.63s\tremaining: 887ms\n",
      "162:\tlearn: 59.8139621\ttest: 65.9151270\tbest: 65.9151270 (162)\ttotal: 1.64s\tremaining: 876ms\n",
      "163:\tlearn: 59.7705327\ttest: 65.8853612\tbest: 65.8853612 (163)\ttotal: 1.65s\tremaining: 865ms\n",
      "164:\tlearn: 59.7356337\ttest: 65.8506543\tbest: 65.8506543 (164)\ttotal: 1.66s\tremaining: 854ms\n",
      "165:\tlearn: 59.6901745\ttest: 65.8434792\tbest: 65.8434792 (165)\ttotal: 1.67s\tremaining: 843ms\n",
      "166:\tlearn: 59.5958372\ttest: 65.7845137\tbest: 65.7845137 (166)\ttotal: 1.68s\tremaining: 833ms\n",
      "167:\tlearn: 59.5193374\ttest: 65.7275703\tbest: 65.7275703 (167)\ttotal: 1.69s\tremaining: 823ms\n",
      "168:\tlearn: 59.4367716\ttest: 65.7077817\tbest: 65.7077817 (168)\ttotal: 1.69s\tremaining: 812ms\n",
      "169:\tlearn: 59.3803654\ttest: 65.6743087\tbest: 65.6743087 (169)\ttotal: 1.7s\tremaining: 801ms\n",
      "170:\tlearn: 59.2729190\ttest: 65.5510419\tbest: 65.5510419 (170)\ttotal: 1.71s\tremaining: 791ms\n",
      "171:\tlearn: 59.2131980\ttest: 65.5210210\tbest: 65.5210210 (171)\ttotal: 1.72s\tremaining: 780ms\n",
      "172:\tlearn: 59.1546748\ttest: 65.4752694\tbest: 65.4752694 (172)\ttotal: 1.73s\tremaining: 770ms\n",
      "173:\tlearn: 59.0821468\ttest: 65.4676000\tbest: 65.4676000 (173)\ttotal: 1.74s\tremaining: 759ms\n",
      "174:\tlearn: 58.9901793\ttest: 65.4099881\tbest: 65.4099881 (174)\ttotal: 1.75s\tremaining: 749ms\n",
      "175:\tlearn: 58.9605552\ttest: 65.3890185\tbest: 65.3890185 (175)\ttotal: 1.76s\tremaining: 739ms\n",
      "176:\tlearn: 58.8533223\ttest: 65.3581548\tbest: 65.3581548 (176)\ttotal: 1.77s\tremaining: 728ms\n",
      "177:\tlearn: 58.7873776\ttest: 65.3798662\tbest: 65.3581548 (176)\ttotal: 1.77s\tremaining: 718ms\n",
      "178:\tlearn: 58.7304885\ttest: 65.3669755\tbest: 65.3581548 (176)\ttotal: 1.78s\tremaining: 708ms\n",
      "179:\tlearn: 58.6761103\ttest: 65.3445971\tbest: 65.3445971 (179)\ttotal: 1.79s\tremaining: 698ms\n",
      "180:\tlearn: 58.6231470\ttest: 65.2893124\tbest: 65.2893124 (180)\ttotal: 1.8s\tremaining: 688ms\n",
      "181:\tlearn: 58.5731270\ttest: 65.2848494\tbest: 65.2848494 (181)\ttotal: 1.81s\tremaining: 678ms\n",
      "182:\tlearn: 58.5177073\ttest: 65.2620506\tbest: 65.2620506 (182)\ttotal: 1.82s\tremaining: 667ms\n",
      "183:\tlearn: 58.4523497\ttest: 65.2446893\tbest: 65.2446893 (183)\ttotal: 1.83s\tremaining: 657ms\n",
      "184:\tlearn: 58.3681985\ttest: 65.2235307\tbest: 65.2235307 (184)\ttotal: 1.84s\tremaining: 646ms\n",
      "185:\tlearn: 58.3013687\ttest: 65.1803340\tbest: 65.1803340 (185)\ttotal: 1.85s\tremaining: 636ms\n",
      "186:\tlearn: 58.2122493\ttest: 65.1530065\tbest: 65.1530065 (186)\ttotal: 1.86s\tremaining: 626ms\n",
      "187:\tlearn: 58.1597934\ttest: 65.1267054\tbest: 65.1267054 (187)\ttotal: 1.86s\tremaining: 615ms\n",
      "188:\tlearn: 58.0525941\ttest: 65.0132888\tbest: 65.0132888 (188)\ttotal: 1.88s\tremaining: 605ms\n",
      "189:\tlearn: 57.9601954\ttest: 64.9646914\tbest: 64.9646914 (189)\ttotal: 1.88s\tremaining: 595ms\n",
      "190:\tlearn: 57.9072427\ttest: 64.9525917\tbest: 64.9525917 (190)\ttotal: 1.89s\tremaining: 585ms\n",
      "191:\tlearn: 57.8659548\ttest: 64.9197631\tbest: 64.9197631 (191)\ttotal: 1.9s\tremaining: 574ms\n",
      "192:\tlearn: 57.7772245\ttest: 64.9031314\tbest: 64.9031314 (192)\ttotal: 1.91s\tremaining: 564ms\n",
      "193:\tlearn: 57.6864767\ttest: 64.8595166\tbest: 64.8595166 (193)\ttotal: 1.92s\tremaining: 554ms\n",
      "194:\tlearn: 57.6436180\ttest: 64.8523784\tbest: 64.8523784 (194)\ttotal: 1.93s\tremaining: 544ms\n",
      "195:\tlearn: 57.5986187\ttest: 64.8408274\tbest: 64.8408274 (195)\ttotal: 1.94s\tremaining: 533ms\n",
      "196:\tlearn: 57.5448960\ttest: 64.8481637\tbest: 64.8408274 (195)\ttotal: 1.95s\tremaining: 523ms\n",
      "197:\tlearn: 57.5065853\ttest: 64.8379675\tbest: 64.8379675 (197)\ttotal: 1.95s\tremaining: 513ms\n",
      "198:\tlearn: 57.4753804\ttest: 64.8163704\tbest: 64.8163704 (198)\ttotal: 1.96s\tremaining: 503ms\n",
      "199:\tlearn: 57.3434678\ttest: 64.7221019\tbest: 64.7221019 (199)\ttotal: 1.97s\tremaining: 493ms\n",
      "200:\tlearn: 57.2668869\ttest: 64.6945328\tbest: 64.6945328 (200)\ttotal: 1.98s\tremaining: 483ms\n",
      "201:\tlearn: 57.1951965\ttest: 64.6965391\tbest: 64.6945328 (200)\ttotal: 1.99s\tremaining: 473ms\n",
      "202:\tlearn: 57.0954457\ttest: 64.6181430\tbest: 64.6181430 (202)\ttotal: 2s\tremaining: 463ms\n",
      "203:\tlearn: 57.0241839\ttest: 64.5834072\tbest: 64.5834072 (203)\ttotal: 2.01s\tremaining: 453ms\n",
      "204:\tlearn: 56.9145629\ttest: 64.4953613\tbest: 64.4953613 (204)\ttotal: 2.02s\tremaining: 443ms\n",
      "205:\tlearn: 56.8421241\ttest: 64.4844561\tbest: 64.4844561 (205)\ttotal: 2.03s\tremaining: 433ms\n",
      "206:\tlearn: 56.8028337\ttest: 64.4552118\tbest: 64.4552118 (206)\ttotal: 2.04s\tremaining: 423ms\n",
      "207:\tlearn: 56.7032283\ttest: 64.3745868\tbest: 64.3745868 (207)\ttotal: 2.05s\tremaining: 413ms\n",
      "208:\tlearn: 56.6611568\ttest: 64.3406945\tbest: 64.3406945 (208)\ttotal: 2.06s\tremaining: 403ms\n",
      "209:\tlearn: 56.6152654\ttest: 64.3284623\tbest: 64.3284623 (209)\ttotal: 2.06s\tremaining: 393ms\n",
      "210:\tlearn: 56.5834056\ttest: 64.3143218\tbest: 64.3143218 (210)\ttotal: 2.07s\tremaining: 383ms\n",
      "211:\tlearn: 56.5360341\ttest: 64.2845374\tbest: 64.2845374 (211)\ttotal: 2.08s\tremaining: 373ms\n",
      "212:\tlearn: 56.4949875\ttest: 64.2550270\tbest: 64.2550270 (212)\ttotal: 2.09s\tremaining: 363ms\n",
      "213:\tlearn: 56.4130447\ttest: 64.2293276\tbest: 64.2293276 (213)\ttotal: 2.1s\tremaining: 353ms\n",
      "214:\tlearn: 56.3540252\ttest: 64.2263907\tbest: 64.2263907 (214)\ttotal: 2.11s\tremaining: 343ms\n",
      "215:\tlearn: 56.2845592\ttest: 64.2230919\tbest: 64.2230919 (215)\ttotal: 2.12s\tremaining: 334ms\n",
      "216:\tlearn: 56.2267252\ttest: 64.1584084\tbest: 64.1584084 (216)\ttotal: 2.13s\tremaining: 324ms\n",
      "217:\tlearn: 56.1819086\ttest: 64.1379422\tbest: 64.1379422 (217)\ttotal: 2.14s\tremaining: 314ms\n",
      "218:\tlearn: 56.1359070\ttest: 64.1346130\tbest: 64.1346130 (218)\ttotal: 2.15s\tremaining: 304ms\n",
      "219:\tlearn: 56.0937340\ttest: 64.1127731\tbest: 64.1127731 (219)\ttotal: 2.15s\tremaining: 294ms\n",
      "220:\tlearn: 56.0611801\ttest: 64.1232621\tbest: 64.1127731 (219)\ttotal: 2.16s\tremaining: 284ms\n",
      "221:\tlearn: 56.0376801\ttest: 64.1254227\tbest: 64.1127731 (219)\ttotal: 2.17s\tremaining: 274ms\n",
      "222:\tlearn: 55.9228268\ttest: 64.0588345\tbest: 64.0588345 (222)\ttotal: 2.18s\tremaining: 264ms\n",
      "223:\tlearn: 55.8571302\ttest: 64.0436868\tbest: 64.0436868 (223)\ttotal: 2.19s\tremaining: 254ms\n",
      "224:\tlearn: 55.8007281\ttest: 64.0085138\tbest: 64.0085138 (224)\ttotal: 2.2s\tremaining: 245ms\n",
      "225:\tlearn: 55.7784922\ttest: 64.0011732\tbest: 64.0011732 (225)\ttotal: 2.21s\tremaining: 235ms\n",
      "226:\tlearn: 55.7258989\ttest: 63.9680464\tbest: 63.9680464 (226)\ttotal: 2.22s\tremaining: 225ms\n",
      "227:\tlearn: 55.5953326\ttest: 63.8502746\tbest: 63.8502746 (227)\ttotal: 2.23s\tremaining: 216ms\n",
      "228:\tlearn: 55.5640513\ttest: 63.8332810\tbest: 63.8332810 (228)\ttotal: 2.24s\tremaining: 206ms\n",
      "229:\tlearn: 55.5131695\ttest: 63.8186363\tbest: 63.8186363 (229)\ttotal: 2.25s\tremaining: 196ms\n",
      "230:\tlearn: 55.4289595\ttest: 63.7466259\tbest: 63.7466259 (230)\ttotal: 2.26s\tremaining: 186ms\n",
      "231:\tlearn: 55.3317763\ttest: 63.6580389\tbest: 63.6580389 (231)\ttotal: 2.27s\tremaining: 176ms\n",
      "232:\tlearn: 55.2299328\ttest: 63.5655469\tbest: 63.5655469 (232)\ttotal: 2.28s\tremaining: 167ms\n",
      "233:\tlearn: 55.1617866\ttest: 63.5262347\tbest: 63.5262347 (233)\ttotal: 2.29s\tremaining: 157ms\n",
      "234:\tlearn: 55.1043719\ttest: 63.5190704\tbest: 63.5190704 (234)\ttotal: 2.3s\tremaining: 147ms\n",
      "235:\tlearn: 55.0689050\ttest: 63.4914385\tbest: 63.4914385 (235)\ttotal: 2.31s\tremaining: 137ms\n",
      "236:\tlearn: 55.0398968\ttest: 63.4804047\tbest: 63.4804047 (236)\ttotal: 2.32s\tremaining: 127ms\n",
      "237:\tlearn: 54.9759250\ttest: 63.4428790\tbest: 63.4428790 (237)\ttotal: 2.33s\tremaining: 117ms\n",
      "238:\tlearn: 54.9322611\ttest: 63.4375679\tbest: 63.4375679 (238)\ttotal: 2.34s\tremaining: 108ms\n",
      "239:\tlearn: 54.8871037\ttest: 63.4013819\tbest: 63.4013819 (239)\ttotal: 2.35s\tremaining: 97.8ms\n",
      "240:\tlearn: 54.8126707\ttest: 63.3938454\tbest: 63.3938454 (240)\ttotal: 2.36s\tremaining: 88ms\n",
      "241:\tlearn: 54.7489125\ttest: 63.3160679\tbest: 63.3160679 (241)\ttotal: 2.37s\tremaining: 78.2ms\n",
      "242:\tlearn: 54.7022818\ttest: 63.2638169\tbest: 63.2638169 (242)\ttotal: 2.38s\tremaining: 68.4ms\n",
      "243:\tlearn: 54.6599740\ttest: 63.2553233\tbest: 63.2553233 (243)\ttotal: 2.38s\tremaining: 58.7ms\n",
      "244:\tlearn: 54.6328757\ttest: 63.2423540\tbest: 63.2423540 (244)\ttotal: 2.39s\tremaining: 48.9ms\n",
      "245:\tlearn: 54.6015138\ttest: 63.2418115\tbest: 63.2418115 (245)\ttotal: 2.4s\tremaining: 39.1ms\n",
      "246:\tlearn: 54.5681694\ttest: 63.2510990\tbest: 63.2418115 (245)\ttotal: 2.41s\tremaining: 29.3ms\n",
      "247:\tlearn: 54.4531864\ttest: 63.1306924\tbest: 63.1306924 (247)\ttotal: 2.42s\tremaining: 19.5ms\n",
      "248:\tlearn: 54.4001993\ttest: 63.1305124\tbest: 63.1305124 (248)\ttotal: 2.43s\tremaining: 9.76ms\n",
      "249:\tlearn: 54.3015193\ttest: 63.0589472\tbest: 63.0589472 (249)\ttotal: 2.44s\tremaining: 0us\n",
      "\n",
      "bestTest = 63.05894716\n",
      "bestIteration = 249\n",
      "\n",
      "63.05894716224321\n"
     ]
    }
   ],
   "source": [
    "from catboost import CatBoostRegressor\n",
    "\n",
    "cbr = CatBoostRegressor(n_estimators=250, eval_metric='RMSE')\n",
    "\n",
    "cbr.fit(x_train,y_train,eval_set=(x_test,y_test))\n",
    "\n",
    "y_test_preds_cbc = cbr.predict(x_test)\n",
    "    \n",
    "print(np.sqrt(mean_squared_error(y_test, y_test_preds_cbc)))"
   ]
  },
  {
   "cell_type": "code",
   "execution_count": 60,
   "id": "19ab83bb",
   "metadata": {
    "execution": {
     "iopub.execute_input": "2023-04-02T18:53:51.357535Z",
     "iopub.status.busy": "2023-04-02T18:53:51.356068Z",
     "iopub.status.idle": "2023-04-02T18:53:54.091131Z",
     "shell.execute_reply": "2023-04-02T18:53:54.088797Z"
    },
    "papermill": {
     "duration": 2.798671,
     "end_time": "2023-04-02T18:53:54.094433",
     "exception": false,
     "start_time": "2023-04-02T18:53:51.295762",
     "status": "completed"
    },
    "tags": []
   },
   "outputs": [
    {
     "data": {
      "text/html": [
       "<style type='text/css'>\n",
       ".datatable table.frame { margin-bottom: 0; }\n",
       ".datatable table.frame thead { border-bottom: none; }\n",
       ".datatable table.frame tr.coltypes td {  color: #FFFFFF;  line-height: 6px;  padding: 0 0.5em;}\n",
       ".datatable .bool    { background: #DDDD99; }\n",
       ".datatable .object  { background: #565656; }\n",
       ".datatable .int     { background: #5D9E5D; }\n",
       ".datatable .float   { background: #4040CC; }\n",
       ".datatable .str     { background: #CC4040; }\n",
       ".datatable .time    { background: #40CC40; }\n",
       ".datatable .row_index {  background: var(--jp-border-color3);  border-right: 1px solid var(--jp-border-color0);  color: var(--jp-ui-font-color3);  font-size: 9px;}\n",
       ".datatable .frame tbody td { text-align: left; }\n",
       ".datatable .frame tr.coltypes .row_index {  background: var(--jp-border-color0);}\n",
       ".datatable th:nth-child(2) { padding-left: 12px; }\n",
       ".datatable .hellipsis {  color: var(--jp-cell-editor-border-color);}\n",
       ".datatable .vellipsis {  background: var(--jp-layout-color0);  color: var(--jp-cell-editor-border-color);}\n",
       ".datatable .na {  color: var(--jp-cell-editor-border-color);  font-size: 80%;}\n",
       ".datatable .sp {  opacity: 0.25;}\n",
       ".datatable .footer { font-size: 9px; }\n",
       ".datatable .frame_dimensions {  background: var(--jp-border-color3);  border-top: 1px solid var(--jp-border-color0);  color: var(--jp-ui-font-color3);  display: inline-block;  opacity: 0.6;  padding: 1px 10px 1px 5px;}\n",
       "</style>\n"
      ],
      "text/plain": [
       "<IPython.core.display.HTML object>"
      ]
     },
     "metadata": {},
     "output_type": "display_data"
    },
    {
     "name": "stdout",
     "output_type": "stream",
     "text": [
      "[1]\ttraining's l2: 293853\tvalid_1's l2: 294115\n",
      "[2]\ttraining's l2: 239980\tvalid_1's l2: 240023\n",
      "[3]\ttraining's l2: 196273\tvalid_1's l2: 196222\n",
      "[4]\ttraining's l2: 160776\tvalid_1's l2: 160754\n",
      "[5]\ttraining's l2: 131956\tvalid_1's l2: 131829\n",
      "[6]\ttraining's l2: 108534\tvalid_1's l2: 108393\n",
      "[7]\ttraining's l2: 89491.8\tvalid_1's l2: 89417.7\n",
      "[8]\ttraining's l2: 74019\tvalid_1's l2: 73951.1\n",
      "[9]\ttraining's l2: 61406.7\tvalid_1's l2: 61271.3\n",
      "[10]\ttraining's l2: 51136.2\tvalid_1's l2: 51044.8\n",
      "[11]\ttraining's l2: 42755.3\tvalid_1's l2: 42726.8\n",
      "[12]\ttraining's l2: 35966.5\tvalid_1's l2: 35928\n",
      "[13]\ttraining's l2: 30413.8\tvalid_1's l2: 30428\n",
      "[14]\ttraining's l2: 25873.3\tvalid_1's l2: 25935.8\n",
      "[15]\ttraining's l2: 22162.4\tvalid_1's l2: 22230.6\n",
      "[16]\ttraining's l2: 19136.8\tvalid_1's l2: 19212.4\n",
      "[17]\ttraining's l2: 16649.1\tvalid_1's l2: 16770.5\n",
      "[18]\ttraining's l2: 14624.6\tvalid_1's l2: 14767.7\n",
      "[19]\ttraining's l2: 12952.1\tvalid_1's l2: 13117.8\n",
      "[20]\ttraining's l2: 11585.6\tvalid_1's l2: 11779.9\n",
      "[21]\ttraining's l2: 10455.5\tvalid_1's l2: 10673\n",
      "[22]\ttraining's l2: 9520.15\tvalid_1's l2: 9752.31\n",
      "[23]\ttraining's l2: 8743.61\tvalid_1's l2: 8987.57\n",
      "[24]\ttraining's l2: 8106.23\tvalid_1's l2: 8370.92\n",
      "[25]\ttraining's l2: 7571.7\tvalid_1's l2: 7862.09\n",
      "[26]\ttraining's l2: 7129.49\tvalid_1's l2: 7446.37\n",
      "[27]\ttraining's l2: 6761.19\tvalid_1's l2: 7089.95\n",
      "[28]\ttraining's l2: 6445.77\tvalid_1's l2: 6793.64\n",
      "[29]\ttraining's l2: 6168.44\tvalid_1's l2: 6544.78\n",
      "[30]\ttraining's l2: 5939.76\tvalid_1's l2: 6336.93\n",
      "[31]\ttraining's l2: 5739.61\tvalid_1's l2: 6150\n",
      "[32]\ttraining's l2: 5580.09\tvalid_1's l2: 5994.05\n",
      "[33]\ttraining's l2: 5432.72\tvalid_1's l2: 5863.32\n",
      "[34]\ttraining's l2: 5302.69\tvalid_1's l2: 5739.17\n",
      "[35]\ttraining's l2: 5185.91\tvalid_1's l2: 5632.51\n",
      "[36]\ttraining's l2: 5090.55\tvalid_1's l2: 5548.52\n",
      "[37]\ttraining's l2: 4987.71\tvalid_1's l2: 5461.83\n",
      "[38]\ttraining's l2: 4888.19\tvalid_1's l2: 5371.51\n",
      "[39]\ttraining's l2: 4820.82\tvalid_1's l2: 5319.39\n",
      "[40]\ttraining's l2: 4755.38\tvalid_1's l2: 5268.27\n",
      "[41]\ttraining's l2: 4688.03\tvalid_1's l2: 5210.94\n",
      "[42]\ttraining's l2: 4634.49\tvalid_1's l2: 5161.51\n",
      "[43]\ttraining's l2: 4582.1\tvalid_1's l2: 5111.44\n",
      "[44]\ttraining's l2: 4526.47\tvalid_1's l2: 5061.26\n",
      "[45]\ttraining's l2: 4467.34\tvalid_1's l2: 5009.58\n",
      "[46]\ttraining's l2: 4424.17\tvalid_1's l2: 4973.2\n",
      "[47]\ttraining's l2: 4374.53\tvalid_1's l2: 4933.47\n",
      "[48]\ttraining's l2: 4342.46\tvalid_1's l2: 4917.81\n",
      "[49]\ttraining's l2: 4285.34\tvalid_1's l2: 4862.7\n",
      "[50]\ttraining's l2: 4244.51\tvalid_1's l2: 4823.61\n",
      "[51]\ttraining's l2: 4209.33\tvalid_1's l2: 4795.91\n",
      "[52]\ttraining's l2: 4161.19\tvalid_1's l2: 4746.76\n",
      "[53]\ttraining's l2: 4140.52\tvalid_1's l2: 4737.23\n",
      "[54]\ttraining's l2: 4119.56\tvalid_1's l2: 4720.89\n",
      "[55]\ttraining's l2: 4086.38\tvalid_1's l2: 4689.43\n",
      "[56]\ttraining's l2: 4064.45\tvalid_1's l2: 4676.78\n",
      "[57]\ttraining's l2: 4045.8\tvalid_1's l2: 4667.16\n",
      "[58]\ttraining's l2: 4021.62\tvalid_1's l2: 4649.49\n",
      "[59]\ttraining's l2: 3998.64\tvalid_1's l2: 4633.56\n",
      "[60]\ttraining's l2: 3981.72\tvalid_1's l2: 4619.91\n",
      "[61]\ttraining's l2: 3962.69\tvalid_1's l2: 4603.66\n",
      "[62]\ttraining's l2: 3943.94\tvalid_1's l2: 4589.79\n",
      "[63]\ttraining's l2: 3928.02\tvalid_1's l2: 4579.27\n",
      "[64]\ttraining's l2: 3913.24\tvalid_1's l2: 4569.78\n",
      "[65]\ttraining's l2: 3885.07\tvalid_1's l2: 4550.64\n",
      "[66]\ttraining's l2: 3873.05\tvalid_1's l2: 4544.05\n",
      "[67]\ttraining's l2: 3852.36\tvalid_1's l2: 4529.92\n",
      "[68]\ttraining's l2: 3834.86\tvalid_1's l2: 4521.56\n",
      "[69]\ttraining's l2: 3821.31\tvalid_1's l2: 4515.02\n",
      "[70]\ttraining's l2: 3805.65\tvalid_1's l2: 4508.97\n",
      "[71]\ttraining's l2: 3789.67\tvalid_1's l2: 4500.43\n",
      "[72]\ttraining's l2: 3766.23\tvalid_1's l2: 4483.55\n",
      "[73]\ttraining's l2: 3749.22\tvalid_1's l2: 4471.38\n",
      "[74]\ttraining's l2: 3736.27\tvalid_1's l2: 4463.3\n",
      "[75]\ttraining's l2: 3725.47\tvalid_1's l2: 4462.02\n",
      "[76]\ttraining's l2: 3708.19\tvalid_1's l2: 4450.16\n",
      "[77]\ttraining's l2: 3682.7\tvalid_1's l2: 4430.51\n",
      "[78]\ttraining's l2: 3660.34\tvalid_1's l2: 4410.07\n",
      "[79]\ttraining's l2: 3649.46\tvalid_1's l2: 4407.43\n",
      "[80]\ttraining's l2: 3638.69\tvalid_1's l2: 4408.46\n",
      "[81]\ttraining's l2: 3620.04\tvalid_1's l2: 4393.97\n",
      "[82]\ttraining's l2: 3612.34\tvalid_1's l2: 4391.62\n",
      "[83]\ttraining's l2: 3603.16\tvalid_1's l2: 4391.16\n",
      "[84]\ttraining's l2: 3589.33\tvalid_1's l2: 4383.4\n",
      "[85]\ttraining's l2: 3568.47\tvalid_1's l2: 4366.63\n",
      "[86]\ttraining's l2: 3556.77\tvalid_1's l2: 4357.23\n",
      "[87]\ttraining's l2: 3547.43\tvalid_1's l2: 4354.57\n",
      "[88]\ttraining's l2: 3530.02\tvalid_1's l2: 4336.42\n",
      "[89]\ttraining's l2: 3512.81\tvalid_1's l2: 4321.37\n",
      "[90]\ttraining's l2: 3498.4\tvalid_1's l2: 4312.65\n",
      "[91]\ttraining's l2: 3490.82\tvalid_1's l2: 4310.63\n",
      "[92]\ttraining's l2: 3477.33\tvalid_1's l2: 4306.2\n",
      "[93]\ttraining's l2: 3470.33\tvalid_1's l2: 4303.17\n",
      "[94]\ttraining's l2: 3460.71\tvalid_1's l2: 4294.66\n",
      "[95]\ttraining's l2: 3450.2\tvalid_1's l2: 4290.52\n",
      "[96]\ttraining's l2: 3439.81\tvalid_1's l2: 4282.85\n",
      "[97]\ttraining's l2: 3429.04\tvalid_1's l2: 4276.61\n",
      "[98]\ttraining's l2: 3415.89\tvalid_1's l2: 4264.61\n",
      "[99]\ttraining's l2: 3408.63\tvalid_1's l2: 4261\n",
      "[100]\ttraining's l2: 3395.7\tvalid_1's l2: 4251.51\n",
      "65.20358724018638\n"
     ]
    }
   ],
   "source": [
    "import lightgbm as lgb\n",
    "lgr = lgb.LGBMRegressor()\n",
    "\n",
    "lgr.fit(x_train,y_train,eval_set=[[x_train,y_train],[x_test,y_test]])\n",
    "\n",
    "y_test_preds_lgr = lgr.predict(x_test)\n",
    "\n",
    "print(np.sqrt(mean_squared_error(y_test, y_test_preds_lgr)))"
   ]
  },
  {
   "cell_type": "code",
   "execution_count": 61,
   "id": "8309e318",
   "metadata": {
    "execution": {
     "iopub.execute_input": "2023-04-02T18:53:54.189812Z",
     "iopub.status.busy": "2023-04-02T18:53:54.189373Z",
     "iopub.status.idle": "2023-04-02T18:55:38.902383Z",
     "shell.execute_reply": "2023-04-02T18:55:38.901024Z"
    },
    "papermill": {
     "duration": 104.810145,
     "end_time": "2023-04-02T18:55:38.951357",
     "exception": false,
     "start_time": "2023-04-02T18:53:54.141212",
     "status": "completed"
    },
    "tags": []
   },
   "outputs": [
    {
     "name": "stdout",
     "output_type": "stream",
     "text": [
      "69.00803537793668\n"
     ]
    }
   ],
   "source": [
    "from sklearn.ensemble import RandomForestRegressor\n",
    "rfr = RandomForestRegressor()\n",
    "rfr.fit(x_train,y_train)\n",
    "\n",
    "y_test_preds_rfr = rfr.predict(x_test)\n",
    "\n",
    "print(np.sqrt(mean_squared_error(y_test, y_test_preds_rfr)))"
   ]
  },
  {
   "cell_type": "code",
   "execution_count": 62,
   "id": "d5030eae",
   "metadata": {
    "execution": {
     "iopub.execute_input": "2023-04-02T18:55:39.046584Z",
     "iopub.status.busy": "2023-04-02T18:55:39.046116Z",
     "iopub.status.idle": "2023-04-02T18:55:39.054133Z",
     "shell.execute_reply": "2023-04-02T18:55:39.052819Z"
    },
    "papermill": {
     "duration": 0.058662,
     "end_time": "2023-04-02T18:55:39.056454",
     "exception": false,
     "start_time": "2023-04-02T18:55:38.997792",
     "status": "completed"
    },
    "tags": []
   },
   "outputs": [
    {
     "data": {
      "text/plain": [
       "\"def run(trial):\\n#     fold = 0\\n    n_estimators = trial.suggest_int('n_estimators', 2, 200)\\n    max_depth = int(trial.suggest_loguniform('max_depth', 1, 32))\\n   \\n    \\n    \\n    model = RandomForestRegressor(\\n        random_state=42,\\n        n_estimators=15,\\n        max_depth=max_depth,\\n    )\\n    model.fit(x_train, y_train)\\n    preds_valid = model.predict(x_test)\\n    check_arr =[]\\n    for i in range(len(preds_valid)):\\n        check_arr.append(preds_valid[i])\\n    score = np.sqrt(mean_squared_error(y_test, check_arr))\\n    return score\""
      ]
     },
     "execution_count": 62,
     "metadata": {},
     "output_type": "execute_result"
    }
   ],
   "source": [
    "\"\"\"def run(trial):\n",
    "#     fold = 0\n",
    "    n_estimators = trial.suggest_int('n_estimators', 2, 200)\n",
    "    max_depth = int(trial.suggest_loguniform('max_depth', 1, 32))\n",
    "   \n",
    "    \n",
    "    \n",
    "    model = RandomForestRegressor(\n",
    "        random_state=42,\n",
    "        n_estimators=15,\n",
    "        max_depth=max_depth,\n",
    "    )\n",
    "    model.fit(x_train, y_train)\n",
    "    preds_valid = model.predict(x_test)\n",
    "    check_arr =[]\n",
    "    for i in range(len(preds_valid)):\n",
    "        check_arr.append(preds_valid[i])\n",
    "    score = np.sqrt(mean_squared_error(y_test, check_arr))\n",
    "    return score\"\"\""
   ]
  },
  {
   "cell_type": "code",
   "execution_count": 63,
   "id": "d56e5ecb",
   "metadata": {
    "execution": {
     "iopub.execute_input": "2023-04-02T18:55:39.155387Z",
     "iopub.status.busy": "2023-04-02T18:55:39.152928Z",
     "iopub.status.idle": "2023-04-02T18:55:39.165455Z",
     "shell.execute_reply": "2023-04-02T18:55:39.163249Z"
    },
    "papermill": {
     "duration": 0.065752,
     "end_time": "2023-04-02T18:55:39.168884",
     "exception": false,
     "start_time": "2023-04-02T18:55:39.103132",
     "status": "completed"
    },
    "tags": []
   },
   "outputs": [
    {
     "data": {
      "text/plain": [
       "'study = optuna.create_study(direction=\"minimize\")\\nstudy.optimize(run, n_trials=45)'"
      ]
     },
     "execution_count": 63,
     "metadata": {},
     "output_type": "execute_result"
    }
   ],
   "source": [
    "\"\"\"study = optuna.create_study(direction=\"minimize\")\n",
    "study.optimize(run, n_trials=45)\"\"\""
   ]
  },
  {
   "cell_type": "code",
   "execution_count": 64,
   "id": "7b27c267",
   "metadata": {
    "execution": {
     "iopub.execute_input": "2023-04-02T18:55:39.281619Z",
     "iopub.status.busy": "2023-04-02T18:55:39.280772Z",
     "iopub.status.idle": "2023-04-02T18:55:39.285727Z",
     "shell.execute_reply": "2023-04-02T18:55:39.284851Z"
    },
    "papermill": {
     "duration": 0.059333,
     "end_time": "2023-04-02T18:55:39.288122",
     "exception": false,
     "start_time": "2023-04-02T18:55:39.228789",
     "status": "completed"
    },
    "tags": []
   },
   "outputs": [],
   "source": [
    "#study.best_params"
   ]
  },
  {
   "cell_type": "code",
   "execution_count": 65,
   "id": "1b194ac7",
   "metadata": {
    "execution": {
     "iopub.execute_input": "2023-04-02T18:55:39.384015Z",
     "iopub.status.busy": "2023-04-02T18:55:39.383240Z",
     "iopub.status.idle": "2023-04-02T18:55:39.389228Z",
     "shell.execute_reply": "2023-04-02T18:55:39.388351Z"
    },
    "papermill": {
     "duration": 0.056603,
     "end_time": "2023-04-02T18:55:39.391425",
     "exception": false,
     "start_time": "2023-04-02T18:55:39.334822",
     "status": "completed"
    },
    "tags": []
   },
   "outputs": [
    {
     "data": {
      "text/plain": [
       "'\"from sklearn.ensemble import RandomForestRegressor\\nrfr = RandomForestRegressor(n_estimators = 95, max_depth = 24.811419031265416)\\nrfr.fit(x_train,y_train)\\n\\ny_test_preds_rfr = rfr.predict(x_test)\\n\\nprint(np.sqrt(mean_squared_error(y_test, y_test_preds_rfr)))'"
      ]
     },
     "execution_count": 65,
     "metadata": {},
     "output_type": "execute_result"
    }
   ],
   "source": [
    "\"\"\"\"from sklearn.ensemble import RandomForestRegressor\n",
    "rfr = RandomForestRegressor(n_estimators = 95, max_depth = 24.811419031265416)\n",
    "rfr.fit(x_train,y_train)\n",
    "\n",
    "y_test_preds_rfr = rfr.predict(x_test)\n",
    "\n",
    "print(np.sqrt(mean_squared_error(y_test, y_test_preds_rfr)))\"\"\""
   ]
  },
  {
   "cell_type": "code",
   "execution_count": 66,
   "id": "f7ceba98",
   "metadata": {
    "execution": {
     "iopub.execute_input": "2023-04-02T18:55:39.487492Z",
     "iopub.status.busy": "2023-04-02T18:55:39.486689Z",
     "iopub.status.idle": "2023-04-02T18:55:40.261403Z",
     "shell.execute_reply": "2023-04-02T18:55:40.260150Z"
    },
    "papermill": {
     "duration": 0.825576,
     "end_time": "2023-04-02T18:55:40.264106",
     "exception": false,
     "start_time": "2023-04-02T18:55:39.438530",
     "status": "completed"
    },
    "tags": []
   },
   "outputs": [
    {
     "name": "stderr",
     "output_type": "stream",
     "text": [
      "/opt/conda/lib/python3.7/site-packages/ipykernel_launcher.py:8: TqdmDeprecationWarning: This function will be removed in tqdm==5.0.0\n",
      "Please use `tqdm.notebook.tqdm` instead of `tqdm.tqdm_notebook`\n",
      "  \n"
     ]
    },
    {
     "data": {
      "application/vnd.jupyter.widget-view+json": {
       "model_id": "0fdd6004963c4a60ba84aed6d057b782",
       "version_major": 2,
       "version_minor": 0
      },
      "text/plain": [
       "  0%|          | 0/21 [00:00<?, ?it/s]"
      ]
     },
     "metadata": {},
     "output_type": "display_data"
    },
    {
     "data": {
      "text/html": [
       "<div>\n",
       "<style scoped>\n",
       "    .dataframe tbody tr th:only-of-type {\n",
       "        vertical-align: middle;\n",
       "    }\n",
       "\n",
       "    .dataframe tbody tr th {\n",
       "        vertical-align: top;\n",
       "    }\n",
       "\n",
       "    .dataframe thead th {\n",
       "        text-align: right;\n",
       "    }\n",
       "</style>\n",
       "<table border=\"1\" class=\"dataframe\">\n",
       "  <thead>\n",
       "    <tr style=\"text-align: right;\">\n",
       "      <th></th>\n",
       "      <th>frac_lgc</th>\n",
       "      <th>frac_xgbc</th>\n",
       "      <th>frac_cbc</th>\n",
       "      <th>frac_rfr</th>\n",
       "      <th>blend_score</th>\n",
       "    </tr>\n",
       "  </thead>\n",
       "  <tbody>\n",
       "    <tr>\n",
       "      <th>182</th>\n",
       "      <td>0.0*lgc</td>\n",
       "      <td>0.6000000000000001*xgbc</td>\n",
       "      <td>0.4*cbc</td>\n",
       "      <td>0.0*rfr</td>\n",
       "      <td>60.204040</td>\n",
       "    </tr>\n",
       "    <tr>\n",
       "      <th>176</th>\n",
       "      <td>0.0*lgc</td>\n",
       "      <td>0.55*xgbc</td>\n",
       "      <td>0.45*cbc</td>\n",
       "      <td>0.0*rfr</td>\n",
       "      <td>60.207007</td>\n",
       "    </tr>\n",
       "    <tr>\n",
       "      <th>379</th>\n",
       "      <td>0.05*lgc</td>\n",
       "      <td>0.55*xgbc</td>\n",
       "      <td>0.4*cbc</td>\n",
       "      <td>0.0*rfr</td>\n",
       "      <td>60.214228</td>\n",
       "    </tr>\n",
       "    <tr>\n",
       "      <th>373</th>\n",
       "      <td>0.05*lgc</td>\n",
       "      <td>0.5*xgbc</td>\n",
       "      <td>0.45*cbc</td>\n",
       "      <td>0.0*rfr</td>\n",
       "      <td>60.241512</td>\n",
       "    </tr>\n",
       "    <tr>\n",
       "      <th>190</th>\n",
       "      <td>0.0*lgc</td>\n",
       "      <td>0.65*xgbc</td>\n",
       "      <td>0.35000000000000003*cbc</td>\n",
       "      <td>0.0*rfr</td>\n",
       "      <td>60.244803</td>\n",
       "    </tr>\n",
       "    <tr>\n",
       "      <th>...</th>\n",
       "      <td>...</td>\n",
       "      <td>...</td>\n",
       "      <td>...</td>\n",
       "      <td>...</td>\n",
       "      <td>...</td>\n",
       "    </tr>\n",
       "    <tr>\n",
       "      <th>402</th>\n",
       "      <td>0.1*lgc</td>\n",
       "      <td>0.0*xgbc</td>\n",
       "      <td>0.0*cbc</td>\n",
       "      <td>0.9*rfr</td>\n",
       "      <td>68.078515</td>\n",
       "    </tr>\n",
       "    <tr>\n",
       "      <th>21</th>\n",
       "      <td>0.0*lgc</td>\n",
       "      <td>0.05*xgbc</td>\n",
       "      <td>0.0*cbc</td>\n",
       "      <td>0.9500000000000001*rfr</td>\n",
       "      <td>68.217251</td>\n",
       "    </tr>\n",
       "    <tr>\n",
       "      <th>1</th>\n",
       "      <td>0.0*lgc</td>\n",
       "      <td>0.0*xgbc</td>\n",
       "      <td>0.05*cbc</td>\n",
       "      <td>0.9500000000000001*rfr</td>\n",
       "      <td>68.278148</td>\n",
       "    </tr>\n",
       "    <tr>\n",
       "      <th>217</th>\n",
       "      <td>0.05*lgc</td>\n",
       "      <td>0.0*xgbc</td>\n",
       "      <td>0.0*cbc</td>\n",
       "      <td>0.9500000000000001*rfr</td>\n",
       "      <td>68.529376</td>\n",
       "    </tr>\n",
       "    <tr>\n",
       "      <th>0</th>\n",
       "      <td>0.0*lgc</td>\n",
       "      <td>0.0*xgbc</td>\n",
       "      <td>0.0*cbc</td>\n",
       "      <td>1.0*rfr</td>\n",
       "      <td>69.008035</td>\n",
       "    </tr>\n",
       "  </tbody>\n",
       "</table>\n",
       "<p>1584 rows × 5 columns</p>\n",
       "</div>"
      ],
      "text/plain": [
       "     frac_lgc                frac_xgbc                 frac_cbc  \\\n",
       "182   0.0*lgc  0.6000000000000001*xgbc                  0.4*cbc   \n",
       "176   0.0*lgc                0.55*xgbc                 0.45*cbc   \n",
       "379  0.05*lgc                0.55*xgbc                  0.4*cbc   \n",
       "373  0.05*lgc                 0.5*xgbc                 0.45*cbc   \n",
       "190   0.0*lgc                0.65*xgbc  0.35000000000000003*cbc   \n",
       "..        ...                      ...                      ...   \n",
       "402   0.1*lgc                 0.0*xgbc                  0.0*cbc   \n",
       "21    0.0*lgc                0.05*xgbc                  0.0*cbc   \n",
       "1     0.0*lgc                 0.0*xgbc                 0.05*cbc   \n",
       "217  0.05*lgc                 0.0*xgbc                  0.0*cbc   \n",
       "0     0.0*lgc                 0.0*xgbc                  0.0*cbc   \n",
       "\n",
       "                   frac_rfr  blend_score  \n",
       "182                 0.0*rfr    60.204040  \n",
       "176                 0.0*rfr    60.207007  \n",
       "379                 0.0*rfr    60.214228  \n",
       "373                 0.0*rfr    60.241512  \n",
       "190                 0.0*rfr    60.244803  \n",
       "..                      ...          ...  \n",
       "402                 0.9*rfr    68.078515  \n",
       "21   0.9500000000000001*rfr    68.217251  \n",
       "1    0.9500000000000001*rfr    68.278148  \n",
       "217  0.9500000000000001*rfr    68.529376  \n",
       "0                   1.0*rfr    69.008035  \n",
       "\n",
       "[1584 rows x 5 columns]"
      ]
     },
     "execution_count": 66,
     "metadata": {},
     "output_type": "execute_result"
    }
   ],
   "source": [
    "from tqdm import tqdm_notebook as tqdm\n",
    "fracs = np.linspace(0,1,num = 21)\n",
    "frac_lgc=[]\n",
    "frac_xgbc=[]\n",
    "frac_cbc=[]\n",
    "frac_rfr = []\n",
    "blend_score = []\n",
    "for i in tqdm(fracs):\n",
    "    for j in fracs:\n",
    "        for k in fracs:\n",
    "            for l in fracs:\n",
    "                if (i+j+k+l) ==1:\n",
    "                    frac_lgc.append(str(i)+str('*lgc'))\n",
    "                    frac_xgbc.append(str(j)+str('*xgbc'))\n",
    "                    frac_cbc.append(str(k)+str('*cbc'))\n",
    "                    frac_rfr.append(str(l)+str('*rfr'))\n",
    "                    blend_score.append(np.sqrt(mean_squared_error(y_test, (l*(np.array(y_test_preds_rfr)) + (k*(np.array(y_test_preds_cbc)) + j*(np.array(y_preds_xgb)) + i*(np.array(y_test_preds_lgr)) )))))\n",
    "                else:\n",
    "                    pass\n",
    "                \n",
    "blend_df = pd.DataFrame({'frac_lgc':frac_lgc,'frac_xgbc':frac_xgbc,'frac_cbc':frac_cbc,'frac_rfr':frac_rfr , 'blend_score':blend_score})\n",
    "blend_df = blend_df.sort_values(by=['blend_score'])\n",
    "blend_df"
   ]
  },
  {
   "cell_type": "code",
   "execution_count": 67,
   "id": "c49281ed",
   "metadata": {
    "execution": {
     "iopub.execute_input": "2023-04-02T18:55:40.361049Z",
     "iopub.status.busy": "2023-04-02T18:55:40.360350Z",
     "iopub.status.idle": "2023-04-02T18:55:42.637989Z",
     "shell.execute_reply": "2023-04-02T18:55:42.636851Z"
    },
    "papermill": {
     "duration": 2.329356,
     "end_time": "2023-04-02T18:55:42.640669",
     "exception": false,
     "start_time": "2023-04-02T18:55:40.311313",
     "status": "completed"
    },
    "tags": []
   },
   "outputs": [
    {
     "name": "stderr",
     "output_type": "stream",
     "text": [
      "/opt/conda/lib/python3.7/site-packages/sklearn/utils/validation.py:1692: FutureWarning: Feature names only support names that are all strings. Got feature names with dtypes: ['bool', 'str']. An error will be raised in 1.2.\n",
      "  FutureWarning,\n"
     ]
    }
   ],
   "source": [
    "pred = 0.05*lgr.predict(test) + 0.74*xgbr.predict(test) + 0.2*cbr.predict(test) +0.01*rfr.predict(test)"
   ]
  },
  {
   "cell_type": "code",
   "execution_count": 68,
   "id": "8137eec2",
   "metadata": {
    "execution": {
     "iopub.execute_input": "2023-04-02T18:55:42.738122Z",
     "iopub.status.busy": "2023-04-02T18:55:42.737415Z",
     "iopub.status.idle": "2023-04-02T18:55:42.802425Z",
     "shell.execute_reply": "2023-04-02T18:55:42.801211Z"
    },
    "papermill": {
     "duration": 0.117041,
     "end_time": "2023-04-02T18:55:42.805158",
     "exception": false,
     "start_time": "2023-04-02T18:55:42.688117",
     "status": "completed"
    },
    "tags": []
   },
   "outputs": [
    {
     "data": {
      "text/html": [
       "<div>\n",
       "<style scoped>\n",
       "    .dataframe tbody tr th:only-of-type {\n",
       "        vertical-align: middle;\n",
       "    }\n",
       "\n",
       "    .dataframe tbody tr th {\n",
       "        vertical-align: top;\n",
       "    }\n",
       "\n",
       "    .dataframe thead th {\n",
       "        text-align: right;\n",
       "    }\n",
       "</style>\n",
       "<table border=\"1\" class=\"dataframe\">\n",
       "  <thead>\n",
       "    <tr style=\"text-align: right;\">\n",
       "      <th></th>\n",
       "      <th>UID</th>\n",
       "      <th>actual_time</th>\n",
       "    </tr>\n",
       "  </thead>\n",
       "  <tbody>\n",
       "    <tr>\n",
       "      <th>0</th>\n",
       "      <td>XMsT9clviB</td>\n",
       "      <td>418</td>\n",
       "    </tr>\n",
       "    <tr>\n",
       "      <th>1</th>\n",
       "      <td>1iUuyRUZ2Y</td>\n",
       "      <td>418</td>\n",
       "    </tr>\n",
       "    <tr>\n",
       "      <th>2</th>\n",
       "      <td>wancwiAIU3</td>\n",
       "      <td>418</td>\n",
       "    </tr>\n",
       "    <tr>\n",
       "      <th>3</th>\n",
       "      <td>1tIt8EwJjB</td>\n",
       "      <td>418</td>\n",
       "    </tr>\n",
       "    <tr>\n",
       "      <th>4</th>\n",
       "      <td>W2vL6bJrjt</td>\n",
       "      <td>418</td>\n",
       "    </tr>\n",
       "    <tr>\n",
       "      <th>...</th>\n",
       "      <td>...</td>\n",
       "      <td>...</td>\n",
       "    </tr>\n",
       "    <tr>\n",
       "      <th>72153</th>\n",
       "      <td>L5IrEpNBFb</td>\n",
       "      <td>418</td>\n",
       "    </tr>\n",
       "    <tr>\n",
       "      <th>72154</th>\n",
       "      <td>s5TDXjnN3s</td>\n",
       "      <td>418</td>\n",
       "    </tr>\n",
       "    <tr>\n",
       "      <th>72155</th>\n",
       "      <td>0croXy5yK5</td>\n",
       "      <td>418</td>\n",
       "    </tr>\n",
       "    <tr>\n",
       "      <th>72156</th>\n",
       "      <td>P0okvBa2Ik</td>\n",
       "      <td>418</td>\n",
       "    </tr>\n",
       "    <tr>\n",
       "      <th>72157</th>\n",
       "      <td>OVi46puumU</td>\n",
       "      <td>418</td>\n",
       "    </tr>\n",
       "  </tbody>\n",
       "</table>\n",
       "<p>72158 rows × 2 columns</p>\n",
       "</div>"
      ],
      "text/plain": [
       "              UID  actual_time\n",
       "0      XMsT9clviB          418\n",
       "1      1iUuyRUZ2Y          418\n",
       "2      wancwiAIU3          418\n",
       "3      1tIt8EwJjB          418\n",
       "4      W2vL6bJrjt          418\n",
       "...           ...          ...\n",
       "72153  L5IrEpNBFb          418\n",
       "72154  s5TDXjnN3s          418\n",
       "72155  0croXy5yK5          418\n",
       "72156  P0okvBa2Ik          418\n",
       "72157  OVi46puumU          418\n",
       "\n",
       "[72158 rows x 2 columns]"
      ]
     },
     "execution_count": 68,
     "metadata": {},
     "output_type": "execute_result"
    }
   ],
   "source": [
    "sample_df = pd.read_csv(r\"/kaggle/input/cassandra23-ps-2/dataset/sample_submissions.csv\")\n",
    "sample_df"
   ]
  },
  {
   "cell_type": "code",
   "execution_count": 69,
   "id": "e8368c0f",
   "metadata": {
    "execution": {
     "iopub.execute_input": "2023-04-02T18:55:42.901487Z",
     "iopub.status.busy": "2023-04-02T18:55:42.901051Z",
     "iopub.status.idle": "2023-04-02T18:55:42.915264Z",
     "shell.execute_reply": "2023-04-02T18:55:42.914119Z"
    },
    "papermill": {
     "duration": 0.065356,
     "end_time": "2023-04-02T18:55:42.917703",
     "exception": false,
     "start_time": "2023-04-02T18:55:42.852347",
     "status": "completed"
    },
    "tags": []
   },
   "outputs": [
    {
     "data": {
      "text/html": [
       "<div>\n",
       "<style scoped>\n",
       "    .dataframe tbody tr th:only-of-type {\n",
       "        vertical-align: middle;\n",
       "    }\n",
       "\n",
       "    .dataframe tbody tr th {\n",
       "        vertical-align: top;\n",
       "    }\n",
       "\n",
       "    .dataframe thead th {\n",
       "        text-align: right;\n",
       "    }\n",
       "</style>\n",
       "<table border=\"1\" class=\"dataframe\">\n",
       "  <thead>\n",
       "    <tr style=\"text-align: right;\">\n",
       "      <th></th>\n",
       "      <th>UID</th>\n",
       "      <th>actual_time</th>\n",
       "    </tr>\n",
       "  </thead>\n",
       "  <tbody>\n",
       "    <tr>\n",
       "      <th>0</th>\n",
       "      <td>XMsT9clviB</td>\n",
       "      <td>35</td>\n",
       "    </tr>\n",
       "    <tr>\n",
       "      <th>1</th>\n",
       "      <td>1iUuyRUZ2Y</td>\n",
       "      <td>61</td>\n",
       "    </tr>\n",
       "    <tr>\n",
       "      <th>2</th>\n",
       "      <td>wancwiAIU3</td>\n",
       "      <td>8</td>\n",
       "    </tr>\n",
       "    <tr>\n",
       "      <th>3</th>\n",
       "      <td>1tIt8EwJjB</td>\n",
       "      <td>52</td>\n",
       "    </tr>\n",
       "    <tr>\n",
       "      <th>4</th>\n",
       "      <td>W2vL6bJrjt</td>\n",
       "      <td>24</td>\n",
       "    </tr>\n",
       "    <tr>\n",
       "      <th>...</th>\n",
       "      <td>...</td>\n",
       "      <td>...</td>\n",
       "    </tr>\n",
       "    <tr>\n",
       "      <th>72153</th>\n",
       "      <td>L5IrEpNBFb</td>\n",
       "      <td>27</td>\n",
       "    </tr>\n",
       "    <tr>\n",
       "      <th>72154</th>\n",
       "      <td>s5TDXjnN3s</td>\n",
       "      <td>37</td>\n",
       "    </tr>\n",
       "    <tr>\n",
       "      <th>72155</th>\n",
       "      <td>0croXy5yK5</td>\n",
       "      <td>45</td>\n",
       "    </tr>\n",
       "    <tr>\n",
       "      <th>72156</th>\n",
       "      <td>P0okvBa2Ik</td>\n",
       "      <td>73</td>\n",
       "    </tr>\n",
       "    <tr>\n",
       "      <th>72157</th>\n",
       "      <td>OVi46puumU</td>\n",
       "      <td>121</td>\n",
       "    </tr>\n",
       "  </tbody>\n",
       "</table>\n",
       "<p>72158 rows × 2 columns</p>\n",
       "</div>"
      ],
      "text/plain": [
       "              UID  actual_time\n",
       "0      XMsT9clviB           35\n",
       "1      1iUuyRUZ2Y           61\n",
       "2      wancwiAIU3            8\n",
       "3      1tIt8EwJjB           52\n",
       "4      W2vL6bJrjt           24\n",
       "...           ...          ...\n",
       "72153  L5IrEpNBFb           27\n",
       "72154  s5TDXjnN3s           37\n",
       "72155  0croXy5yK5           45\n",
       "72156  P0okvBa2Ik           73\n",
       "72157  OVi46puumU          121\n",
       "\n",
       "[72158 rows x 2 columns]"
      ]
     },
     "execution_count": 69,
     "metadata": {},
     "output_type": "execute_result"
    }
   ],
   "source": [
    "sample_df['actual_time'] = pred\n",
    "sample_df['actual_time'] = sample_df['actual_time'].astype(int)\n",
    "sample_df"
   ]
  },
  {
   "cell_type": "code",
   "execution_count": 70,
   "id": "a1a4215b",
   "metadata": {
    "execution": {
     "iopub.execute_input": "2023-04-02T18:55:43.014393Z",
     "iopub.status.busy": "2023-04-02T18:55:43.013995Z",
     "iopub.status.idle": "2023-04-02T18:55:43.103037Z",
     "shell.execute_reply": "2023-04-02T18:55:43.101972Z"
    },
    "papermill": {
     "duration": 0.140858,
     "end_time": "2023-04-02T18:55:43.105857",
     "exception": false,
     "start_time": "2023-04-02T18:55:42.964999",
     "status": "completed"
    },
    "tags": []
   },
   "outputs": [],
   "source": [
    "sample_df.to_csv('Cassandra23aryansh.csv',index=False)"
   ]
  }
 ],
 "metadata": {
  "kernelspec": {
   "display_name": "Python 3",
   "language": "python",
   "name": "python3"
  },
  "language_info": {
   "codemirror_mode": {
    "name": "ipython",
    "version": 3
   },
   "file_extension": ".py",
   "mimetype": "text/x-python",
   "name": "python",
   "nbconvert_exporter": "python",
   "pygments_lexer": "ipython3",
   "version": "3.7.12"
  },
  "papermill": {
   "default_parameters": {},
   "duration": 201.516938,
   "end_time": "2023-04-02T18:55:44.077384",
   "environment_variables": {},
   "exception": null,
   "input_path": "__notebook__.ipynb",
   "output_path": "__notebook__.ipynb",
   "parameters": {},
   "start_time": "2023-04-02T18:52:22.560446",
   "version": "2.4.0"
  },
  "widgets": {
   "application/vnd.jupyter.widget-state+json": {
    "state": {
     "0fdd6004963c4a60ba84aed6d057b782": {
      "model_module": "@jupyter-widgets/controls",
      "model_module_version": "1.5.0",
      "model_name": "HBoxModel",
      "state": {
       "_dom_classes": [],
       "_model_module": "@jupyter-widgets/controls",
       "_model_module_version": "1.5.0",
       "_model_name": "HBoxModel",
       "_view_count": null,
       "_view_module": "@jupyter-widgets/controls",
       "_view_module_version": "1.5.0",
       "_view_name": "HBoxView",
       "box_style": "",
       "children": [
        "IPY_MODEL_c85bd4f5c6734c26b674e1ccd9b29eb8",
        "IPY_MODEL_6a96593ae6b544198bcd9f30af5d58ba",
        "IPY_MODEL_3bb5cfe354b140b38a5f0a3c07b707a3"
       ],
       "layout": "IPY_MODEL_1955a7fdd76046e7885b6f9517438db0"
      }
     },
     "114fa60bd1d241608da1df8eba0f5e3e": {
      "model_module": "@jupyter-widgets/controls",
      "model_module_version": "1.5.0",
      "model_name": "DescriptionStyleModel",
      "state": {
       "_model_module": "@jupyter-widgets/controls",
       "_model_module_version": "1.5.0",
       "_model_name": "DescriptionStyleModel",
       "_view_count": null,
       "_view_module": "@jupyter-widgets/base",
       "_view_module_version": "1.2.0",
       "_view_name": "StyleView",
       "description_width": ""
      }
     },
     "168704bf0fd04efbb695efb4eded63ad": {
      "model_module": "@jupyter-widgets/controls",
      "model_module_version": "1.5.0",
      "model_name": "DescriptionStyleModel",
      "state": {
       "_model_module": "@jupyter-widgets/controls",
       "_model_module_version": "1.5.0",
       "_model_name": "DescriptionStyleModel",
       "_view_count": null,
       "_view_module": "@jupyter-widgets/base",
       "_view_module_version": "1.2.0",
       "_view_name": "StyleView",
       "description_width": ""
      }
     },
     "1955a7fdd76046e7885b6f9517438db0": {
      "model_module": "@jupyter-widgets/base",
      "model_module_version": "1.2.0",
      "model_name": "LayoutModel",
      "state": {
       "_model_module": "@jupyter-widgets/base",
       "_model_module_version": "1.2.0",
       "_model_name": "LayoutModel",
       "_view_count": null,
       "_view_module": "@jupyter-widgets/base",
       "_view_module_version": "1.2.0",
       "_view_name": "LayoutView",
       "align_content": null,
       "align_items": null,
       "align_self": null,
       "border": null,
       "bottom": null,
       "display": null,
       "flex": null,
       "flex_flow": null,
       "grid_area": null,
       "grid_auto_columns": null,
       "grid_auto_flow": null,
       "grid_auto_rows": null,
       "grid_column": null,
       "grid_gap": null,
       "grid_row": null,
       "grid_template_areas": null,
       "grid_template_columns": null,
       "grid_template_rows": null,
       "height": null,
       "justify_content": null,
       "justify_items": null,
       "left": null,
       "margin": null,
       "max_height": null,
       "max_width": null,
       "min_height": null,
       "min_width": null,
       "object_fit": null,
       "object_position": null,
       "order": null,
       "overflow": null,
       "overflow_x": null,
       "overflow_y": null,
       "padding": null,
       "right": null,
       "top": null,
       "visibility": null,
       "width": null
      }
     },
     "2ae7067539a44c9aa0a6d5e488e5d6a1": {
      "model_module": "@jupyter-widgets/controls",
      "model_module_version": "1.5.0",
      "model_name": "ProgressStyleModel",
      "state": {
       "_model_module": "@jupyter-widgets/controls",
       "_model_module_version": "1.5.0",
       "_model_name": "ProgressStyleModel",
       "_view_count": null,
       "_view_module": "@jupyter-widgets/base",
       "_view_module_version": "1.2.0",
       "_view_name": "StyleView",
       "bar_color": null,
       "description_width": ""
      }
     },
     "3bb5cfe354b140b38a5f0a3c07b707a3": {
      "model_module": "@jupyter-widgets/controls",
      "model_module_version": "1.5.0",
      "model_name": "HTMLModel",
      "state": {
       "_dom_classes": [],
       "_model_module": "@jupyter-widgets/controls",
       "_model_module_version": "1.5.0",
       "_model_name": "HTMLModel",
       "_view_count": null,
       "_view_module": "@jupyter-widgets/controls",
       "_view_module_version": "1.5.0",
       "_view_name": "HTMLView",
       "description": "",
       "description_tooltip": null,
       "layout": "IPY_MODEL_5135ac766c074337b46878c38eb3a533",
       "placeholder": "​",
       "style": "IPY_MODEL_114fa60bd1d241608da1df8eba0f5e3e",
       "value": " 21/21 [00:00&lt;00:00, 34.95it/s]"
      }
     },
     "5135ac766c074337b46878c38eb3a533": {
      "model_module": "@jupyter-widgets/base",
      "model_module_version": "1.2.0",
      "model_name": "LayoutModel",
      "state": {
       "_model_module": "@jupyter-widgets/base",
       "_model_module_version": "1.2.0",
       "_model_name": "LayoutModel",
       "_view_count": null,
       "_view_module": "@jupyter-widgets/base",
       "_view_module_version": "1.2.0",
       "_view_name": "LayoutView",
       "align_content": null,
       "align_items": null,
       "align_self": null,
       "border": null,
       "bottom": null,
       "display": null,
       "flex": null,
       "flex_flow": null,
       "grid_area": null,
       "grid_auto_columns": null,
       "grid_auto_flow": null,
       "grid_auto_rows": null,
       "grid_column": null,
       "grid_gap": null,
       "grid_row": null,
       "grid_template_areas": null,
       "grid_template_columns": null,
       "grid_template_rows": null,
       "height": null,
       "justify_content": null,
       "justify_items": null,
       "left": null,
       "margin": null,
       "max_height": null,
       "max_width": null,
       "min_height": null,
       "min_width": null,
       "object_fit": null,
       "object_position": null,
       "order": null,
       "overflow": null,
       "overflow_x": null,
       "overflow_y": null,
       "padding": null,
       "right": null,
       "top": null,
       "visibility": null,
       "width": null
      }
     },
     "6a96593ae6b544198bcd9f30af5d58ba": {
      "model_module": "@jupyter-widgets/controls",
      "model_module_version": "1.5.0",
      "model_name": "FloatProgressModel",
      "state": {
       "_dom_classes": [],
       "_model_module": "@jupyter-widgets/controls",
       "_model_module_version": "1.5.0",
       "_model_name": "FloatProgressModel",
       "_view_count": null,
       "_view_module": "@jupyter-widgets/controls",
       "_view_module_version": "1.5.0",
       "_view_name": "ProgressView",
       "bar_style": "success",
       "description": "",
       "description_tooltip": null,
       "layout": "IPY_MODEL_aab5c692ac3448b689e5477c518cfada",
       "max": 21.0,
       "min": 0.0,
       "orientation": "horizontal",
       "style": "IPY_MODEL_2ae7067539a44c9aa0a6d5e488e5d6a1",
       "value": 21.0
      }
     },
     "aab5c692ac3448b689e5477c518cfada": {
      "model_module": "@jupyter-widgets/base",
      "model_module_version": "1.2.0",
      "model_name": "LayoutModel",
      "state": {
       "_model_module": "@jupyter-widgets/base",
       "_model_module_version": "1.2.0",
       "_model_name": "LayoutModel",
       "_view_count": null,
       "_view_module": "@jupyter-widgets/base",
       "_view_module_version": "1.2.0",
       "_view_name": "LayoutView",
       "align_content": null,
       "align_items": null,
       "align_self": null,
       "border": null,
       "bottom": null,
       "display": null,
       "flex": null,
       "flex_flow": null,
       "grid_area": null,
       "grid_auto_columns": null,
       "grid_auto_flow": null,
       "grid_auto_rows": null,
       "grid_column": null,
       "grid_gap": null,
       "grid_row": null,
       "grid_template_areas": null,
       "grid_template_columns": null,
       "grid_template_rows": null,
       "height": null,
       "justify_content": null,
       "justify_items": null,
       "left": null,
       "margin": null,
       "max_height": null,
       "max_width": null,
       "min_height": null,
       "min_width": null,
       "object_fit": null,
       "object_position": null,
       "order": null,
       "overflow": null,
       "overflow_x": null,
       "overflow_y": null,
       "padding": null,
       "right": null,
       "top": null,
       "visibility": null,
       "width": null
      }
     },
     "c85bd4f5c6734c26b674e1ccd9b29eb8": {
      "model_module": "@jupyter-widgets/controls",
      "model_module_version": "1.5.0",
      "model_name": "HTMLModel",
      "state": {
       "_dom_classes": [],
       "_model_module": "@jupyter-widgets/controls",
       "_model_module_version": "1.5.0",
       "_model_name": "HTMLModel",
       "_view_count": null,
       "_view_module": "@jupyter-widgets/controls",
       "_view_module_version": "1.5.0",
       "_view_name": "HTMLView",
       "description": "",
       "description_tooltip": null,
       "layout": "IPY_MODEL_f36304fadf5c41999bfb1364789452c3",
       "placeholder": "​",
       "style": "IPY_MODEL_168704bf0fd04efbb695efb4eded63ad",
       "value": "100%"
      }
     },
     "f36304fadf5c41999bfb1364789452c3": {
      "model_module": "@jupyter-widgets/base",
      "model_module_version": "1.2.0",
      "model_name": "LayoutModel",
      "state": {
       "_model_module": "@jupyter-widgets/base",
       "_model_module_version": "1.2.0",
       "_model_name": "LayoutModel",
       "_view_count": null,
       "_view_module": "@jupyter-widgets/base",
       "_view_module_version": "1.2.0",
       "_view_name": "LayoutView",
       "align_content": null,
       "align_items": null,
       "align_self": null,
       "border": null,
       "bottom": null,
       "display": null,
       "flex": null,
       "flex_flow": null,
       "grid_area": null,
       "grid_auto_columns": null,
       "grid_auto_flow": null,
       "grid_auto_rows": null,
       "grid_column": null,
       "grid_gap": null,
       "grid_row": null,
       "grid_template_areas": null,
       "grid_template_columns": null,
       "grid_template_rows": null,
       "height": null,
       "justify_content": null,
       "justify_items": null,
       "left": null,
       "margin": null,
       "max_height": null,
       "max_width": null,
       "min_height": null,
       "min_width": null,
       "object_fit": null,
       "object_position": null,
       "order": null,
       "overflow": null,
       "overflow_x": null,
       "overflow_y": null,
       "padding": null,
       "right": null,
       "top": null,
       "visibility": null,
       "width": null
      }
     }
    },
    "version_major": 2,
    "version_minor": 0
   }
  }
 },
 "nbformat": 4,
 "nbformat_minor": 5
}
